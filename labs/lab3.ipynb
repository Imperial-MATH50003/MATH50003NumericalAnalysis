{
 "cells": [
  {
   "cell_type": "markdown",
   "source": [
    "# MATH50003 (2023–24)\n",
    "# Lab 3: II.1 Integers and II.2 Reals"
   ],
   "metadata": {}
  },
  {
   "cell_type": "markdown",
   "source": [
    "In this lab, we will explore how a computer represents integers (both signed and unsigned) and reals.\n",
    "In particular, its usage of modular and floating point arithmetic."
   ],
   "metadata": {}
  },
  {
   "cell_type": "markdown",
   "source": [
    "**Learning Outcomes**\n",
    "\n",
    "Mathematical knowledge:\n",
    "\n",
    "1. Behaviour of modular arithmetic for signed and unsigned integers.\n",
    "2. Binary and hexadecimal integer formats.\n",
    "3. Overflow behaviour for integers.\n",
    "\n",
    "Coding knowledge:\n",
    "\n",
    "1. Creating numbers with different formats via `UInt8`, `Float16`, etc.\n",
    "2. The `sizeof`, `reinterpret`, `parse`, `typemax`, `bitstring`, and `printbits` functions\n",
    "3. String construction and concatenation via `*`.\n",
    "4. Creating floating point numbers by specifying their bits."
   ],
   "metadata": {}
  },
  {
   "cell_type": "markdown",
   "source": [
    "We load an external `ColorBitstring` package\n",
    "which implements functions `printbits` (and `printlnbits`)\n",
    "to print the bits (and with a newline) of numbers in colour:"
   ],
   "metadata": {}
  },
  {
   "outputs": [],
   "cell_type": "code",
   "source": [
    "using ColorBitstring, Test"
   ],
   "metadata": {},
   "execution_count": null
  },
  {
   "cell_type": "markdown",
   "source": [
    "If this fails you may need to call `] add ColorBitstring`."
   ],
   "metadata": {}
  },
  {
   "cell_type": "markdown",
   "source": [
    "## II.1 Integers"
   ],
   "metadata": {}
  },
  {
   "cell_type": "markdown",
   "source": [
    "We now explore the representation and behaviour of integers in Julia,\n",
    "which is identical to other compiled languages like C, Swift, Rust, etc.\n",
    "The basic integer type, which is constructed when we write say `5` is\n",
    "the signed integer type `Int`:"
   ],
   "metadata": {}
  },
  {
   "outputs": [],
   "cell_type": "code",
   "source": [
    "typeof(5)"
   ],
   "metadata": {},
   "execution_count": null
  },
  {
   "cell_type": "markdown",
   "source": [
    "On a 64-bit machine this will return `Int64` indicating it is using 64-bits.\n",
    "(It's possible your machine is 32-bit in which case this will be `Int32`.)\n",
    "But other integer types exist, in particular for unsigned integers and for\n",
    "different number of bits."
   ],
   "metadata": {}
  },
  {
   "cell_type": "markdown",
   "source": [
    "Every primitive number type is stored as a sequence of bits.\n",
    "The number of _bytes_ (i.e. 8-bits) can be deduced using the `sizeof` function:"
   ],
   "metadata": {}
  },
  {
   "outputs": [],
   "cell_type": "code",
   "source": [
    "sizeof(Int64) # 8 bytes == 8*8 bits == 64 bits"
   ],
   "metadata": {},
   "execution_count": null
  },
  {
   "cell_type": "markdown",
   "source": [
    "We will use the `printbits` command provided by `ColorBitstring` to see what bits\n",
    "are actually stored, eg."
   ],
   "metadata": {}
  },
  {
   "outputs": [],
   "cell_type": "code",
   "source": [
    "printbits(5)"
   ],
   "metadata": {},
   "execution_count": null
  },
  {
   "cell_type": "markdown",
   "source": [
    "### II.1.1 Unsigned integers"
   ],
   "metadata": {}
  },
  {
   "cell_type": "markdown",
   "source": [
    "Unsigned integers are used to represent non-negative integers. In Julia\n",
    "these correspond to types `UInt8`, `UInt16`, etc. where the number indicates\n",
    "the number of bits. The easiest way to create such an integer is to convert\n",
    "from an `Int`:"
   ],
   "metadata": {}
  },
  {
   "outputs": [],
   "cell_type": "code",
   "source": [
    "UInt8(5) # creates an Int and converts it to an UInt8"
   ],
   "metadata": {},
   "execution_count": null
  },
  {
   "cell_type": "markdown",
   "source": [
    "displaying the result in hex"
   ],
   "metadata": {}
  },
  {
   "cell_type": "markdown",
   "source": [
    "This fails if a number cannot be represented as a specified type:\n",
    "e.g. `UInt8(-5)` and `UInt8(2^8)`."
   ],
   "metadata": {}
  },
  {
   "cell_type": "markdown",
   "source": [
    "(These can also be written as e.g. `convert(UInt8, 5)`.)\n",
    "We can also create unsigned integers by specifying their bits\n",
    "by writing `0b` followed by a sequence of bits:"
   ],
   "metadata": {}
  },
  {
   "outputs": [],
   "cell_type": "code",
   "source": [
    "0b101 # creates an UInt8, the smallest type with at least 3 bits"
   ],
   "metadata": {},
   "execution_count": null
  },
  {
   "outputs": [],
   "cell_type": "code",
   "source": [
    "0b10111011101 # creates an UInt16, the smallest type with at least 11 bits"
   ],
   "metadata": {},
   "execution_count": null
  },
  {
   "cell_type": "markdown",
   "source": [
    "-----\n",
    "**Problem 1(a)** Use binary format to create an `UInt32` corresponding to $(101101)_2$."
   ],
   "metadata": {}
  },
  {
   "outputs": [],
   "cell_type": "code",
   "source": [
    "# TODO: Create an UInt32 representing (101101)_2"
   ],
   "metadata": {},
   "execution_count": null
  },
  {
   "cell_type": "markdown",
   "source": [
    "**Problem 1(b)** What happens if you specify more than 64 bits using `0b⋅⋅…⋅⋅`?\n",
    "What if you specify more than 128 bits?"
   ],
   "metadata": {}
  },
  {
   "outputs": [],
   "cell_type": "code",
   "source": [
    "# TODO: Experiment with 0b with different amounts of digits."
   ],
   "metadata": {},
   "execution_count": null
  },
  {
   "cell_type": "markdown",
   "source": [
    "-----"
   ],
   "metadata": {}
  },
  {
   "cell_type": "markdown",
   "source": [
    "Integers use modular arithmetic for addition, subtraction and multiplication:"
   ],
   "metadata": {}
  },
  {
   "outputs": [],
   "cell_type": "code",
   "source": [
    "x = UInt8(17)  # An 8-bit representation of the number 17, i.e. with bits 00010001\n",
    "y = UInt8(3)   # An 8-bit representation of the number   3, i.e. with bits 00000011\n",
    "printbits(x); println(\" + \"); printbits(y); println(\" = \")\n",
    "printlnbits(x + y) # + is automatically modular arithmetic\n",
    "printbits(x); println(\" - \"); printbits(y); println(\" = \")\n",
    "printbits(x - y) # - is automatically modular arithmetic"
   ],
   "metadata": {},
   "execution_count": null
  },
  {
   "cell_type": "markdown",
   "source": [
    "If we go past the largest integer we overflow and wrap around:"
   ],
   "metadata": {}
  },
  {
   "outputs": [],
   "cell_type": "code",
   "source": [
    "x = UInt8(255) # An 8-bit representation of the number 255, i.e. with bits 11111111\n",
    "y = UInt8(1)   # An 8-bit representation of the number   1, i.e. with bits 00000001\n",
    "printbits(x); println(\" + \"); printbits(y); println(\" = \")\n",
    "printbits(x + y) # + is automatically modular arithmetic"
   ],
   "metadata": {},
   "execution_count": null
  },
  {
   "cell_type": "markdown",
   "source": [
    "A similar phenomena happens with subtraction:"
   ],
   "metadata": {}
  },
  {
   "outputs": [],
   "cell_type": "code",
   "source": [
    "x = UInt8(3) # An 8-bit representation of the number   3, i.e. with bits 00000011\n",
    "y = UInt8(5) # An 8-bit representation of the number   5, i.e. with bits 00000101\n",
    "printbits(x); println(\" - \"); printbits(y); println(\" = \")\n",
    "printbits(x - y) # - is automatically modular arithmetic"
   ],
   "metadata": {},
   "execution_count": null
  },
  {
   "cell_type": "markdown",
   "source": [
    "Multiplication also works similarly. Multiplication by two shifts bits by\n",
    "one and modular arithmetic just drops extra bits so we have the following behaviour:"
   ],
   "metadata": {}
  },
  {
   "outputs": [],
   "cell_type": "code",
   "source": [
    "x = UInt8(254) # An 8-bit representation of the number 254, i.e. with bits 11111110\n",
    "y = UInt8(2)   # An 8-bit representation of the number   2, i.e. with bits 00000010\n",
    "printbits(x); println(\" * \"); printbits(y); println(\" = \")\n",
    "printbits(x * y) # represents 252"
   ],
   "metadata": {},
   "execution_count": null
  },
  {
   "cell_type": "markdown",
   "source": [
    "### II.1.2 Signed integers"
   ],
   "metadata": {}
  },
  {
   "cell_type": "markdown",
   "source": [
    "Signed integers represent negative and non-negative integers, where\n",
    "if the first bit is `1` it is interpreted as a negative number, according to\n",
    "the 2's complement format. There are multiple types of signed integers including\n",
    "`Int8`, `Int16`, `Int32`, and `Int64`. By default we create an `Int` but we can\n",
    "convert an `Int` to another signed integer type:"
   ],
   "metadata": {}
  },
  {
   "outputs": [],
   "cell_type": "code",
   "source": [
    "Int8(5) # display of Int8 does not reveal its type"
   ],
   "metadata": {},
   "execution_count": null
  },
  {
   "cell_type": "markdown",
   "source": [
    "It prints the same as `5` but calling `typeof` will confirm it is indeed an `Int8`.\n",
    "We can use `printbits` to see the expected binary format, matching that of `UInt8(5)`:"
   ],
   "metadata": {}
  },
  {
   "outputs": [],
   "cell_type": "code",
   "source": [
    "printbits(Int8(5)) # 5 = 2^2 + 1"
   ],
   "metadata": {},
   "execution_count": null
  },
  {
   "cell_type": "markdown",
   "source": [
    "Negative numbers use 2's complement, for example we have"
   ],
   "metadata": {}
  },
  {
   "outputs": [],
   "cell_type": "code",
   "source": [
    "printbits(Int8(-5)) # -5 mod 256 = 251 = 1 + 2 + 2^3 + 2^4 + 2^5 + 2^6 + 2^7"
   ],
   "metadata": {},
   "execution_count": null
  },
  {
   "cell_type": "markdown",
   "source": [
    "We can use the `reinterpret` function to create an unsigned integer by\n",
    "specifying a sequence of bits and reinterpreting the bits as a signed integer:"
   ],
   "metadata": {}
  },
  {
   "outputs": [],
   "cell_type": "code",
   "source": [
    "reinterpret(Int8, 0b11111111) # Create an Int8 with the bits 11111111"
   ],
   "metadata": {},
   "execution_count": null
  },
  {
   "cell_type": "markdown",
   "source": [
    "This is different from conversion via `Int8(0b11111111)` (which throws an error):\n",
    "`0b11111111` represents the (unsigned) integer $2^8-1 = 255$ and hence\n",
    "`Int8(0b11111111)` is equivalent to `Int8(UInt8(255))`. Since `255` is larger than\n",
    "the largest `Int8` (which is $2^7-1 = 127$) it would throw an error."
   ],
   "metadata": {}
  },
  {
   "cell_type": "markdown",
   "source": [
    "-----"
   ],
   "metadata": {}
  },
  {
   "cell_type": "markdown",
   "source": [
    "**Problem 2(a)** Construct an `Int8` representing the number $-63$ by specifying its\n",
    "bits and using `reinterpret`."
   ],
   "metadata": {}
  },
  {
   "outputs": [],
   "cell_type": "code",
   "source": [
    "# TODO: Create an unsigned integer with 8 bits and reinterpret to get Int8(-63)"
   ],
   "metadata": {},
   "execution_count": null
  },
  {
   "cell_type": "markdown",
   "source": [
    "**Problem 2(b)** Can you predict what the output of the following will be before hitting return?\n",
    "Check that you are correct."
   ],
   "metadata": {}
  },
  {
   "outputs": [],
   "cell_type": "code",
   "source": [
    "UInt8(120) + UInt8(10) # Convert to Int to see the number printed in decimal"
   ],
   "metadata": {},
   "execution_count": null
  },
  {
   "outputs": [],
   "cell_type": "code",
   "source": [
    "Int8(120) + Int8(10)"
   ],
   "metadata": {},
   "execution_count": null
  },
  {
   "outputs": [],
   "cell_type": "code",
   "source": [
    "UInt8(2)^7"
   ],
   "metadata": {},
   "execution_count": null
  },
  {
   "outputs": [],
   "cell_type": "code",
   "source": [
    "Int8(2)^7"
   ],
   "metadata": {},
   "execution_count": null
  },
  {
   "outputs": [],
   "cell_type": "code",
   "source": [
    "Int8(2)^8"
   ],
   "metadata": {},
   "execution_count": null
  },
  {
   "cell_type": "markdown",
   "source": [
    "### Strings and parsing"
   ],
   "metadata": {}
  },
  {
   "cell_type": "markdown",
   "source": [
    "Strings are a convenient way of representing arbitrary strings of digits:\n",
    "we can convert bits of a number to a string of \"1\"s and \"0\"s\n",
    "using the function `bitstring`. For example:"
   ],
   "metadata": {}
  },
  {
   "outputs": [],
   "cell_type": "code",
   "source": [
    "bitstring(Int8(5))"
   ],
   "metadata": {},
   "execution_count": null
  },
  {
   "cell_type": "markdown",
   "source": [
    "Whereas `printbits` prints the bits, this actually returns a string\n",
    "that can further be manipulated."
   ],
   "metadata": {}
  },
  {
   "cell_type": "markdown",
   "source": [
    "-----"
   ],
   "metadata": {}
  },
  {
   "cell_type": "markdown",
   "source": [
    "**Problem 3(a)** Can you predict what the output of the following will be before hitting return?"
   ],
   "metadata": {}
  },
  {
   "outputs": [],
   "cell_type": "code",
   "source": [
    "bitstring(11)"
   ],
   "metadata": {},
   "execution_count": null
  },
  {
   "outputs": [],
   "cell_type": "code",
   "source": [
    "bitstring(-11)"
   ],
   "metadata": {},
   "execution_count": null
  },
  {
   "cell_type": "markdown",
   "source": [
    "-----"
   ],
   "metadata": {}
  },
  {
   "cell_type": "markdown",
   "source": [
    "We can `parse` a string of digits in base 2 or 10:"
   ],
   "metadata": {}
  },
  {
   "outputs": [],
   "cell_type": "code",
   "source": [
    "parse(Int8, \"11\"; base=2), # represents 2 + 1 = 3 as an Int8\n",
    "parse(Int8, \"00001011\"; base=2) # represents 2^3 + 2 + 1 = 11 as an Int8"
   ],
   "metadata": {},
   "execution_count": null
  },
  {
   "cell_type": "markdown",
   "source": [
    "Be careful with \"negative\" numbers, the following will fail: `parse(Int8, \"10001011\"; base=2)`"
   ],
   "metadata": {}
  },
  {
   "cell_type": "markdown",
   "source": [
    "It treats the string as binary digits, NOT bits. That is, negative numbers\n",
    "are represented using the minus sign:"
   ],
   "metadata": {}
  },
  {
   "outputs": [],
   "cell_type": "code",
   "source": [
    "parse(Int8, \"-00001011\"; base=2)"
   ],
   "metadata": {},
   "execution_count": null
  },
  {
   "cell_type": "markdown",
   "source": [
    "-----"
   ],
   "metadata": {}
  },
  {
   "cell_type": "markdown",
   "source": [
    "**Problem 3(b)** Combine `parse`, `reinterpret`, and `UInt8` to convert the\n",
    "above string to a (negative) `Int8` with the specified bits."
   ],
   "metadata": {}
  },
  {
   "outputs": [],
   "cell_type": "code",
   "source": [
    "# TODO: combine parse and reinterpret"
   ],
   "metadata": {},
   "execution_count": null
  },
  {
   "cell_type": "markdown",
   "source": [
    "-----"
   ],
   "metadata": {}
  },
  {
   "cell_type": "markdown",
   "source": [
    "To concatenate strings we can use `*` (multiplication is used because string concatenation\n",
    "is non-commutative):"
   ],
   "metadata": {}
  },
  {
   "outputs": [],
   "cell_type": "code",
   "source": [
    "\"hi\" * \"bye\""
   ],
   "metadata": {},
   "execution_count": null
  },
  {
   "cell_type": "markdown",
   "source": [
    "The string consisting of the first nine characters can be found using `str[1:9]` where `str` is any string:"
   ],
   "metadata": {}
  },
  {
   "outputs": [],
   "cell_type": "code",
   "source": [
    "str = \"hibye0123445556\"\n",
    "str[1:9]  # returns \"hibye0123\""
   ],
   "metadata": {},
   "execution_count": null
  },
  {
   "cell_type": "markdown",
   "source": [
    "The string consisting of the 11th through last character can be found using `str[11:end]`:"
   ],
   "metadata": {}
  },
  {
   "outputs": [],
   "cell_type": "code",
   "source": [
    "str = \"hibye0123445556\"\n",
    "str[11:end]  # returns \"45556\""
   ],
   "metadata": {},
   "execution_count": null
  },
  {
   "cell_type": "markdown",
   "source": [
    "We can combine string manipulation with `bitstring` and `parse` to manipulate bits.\n",
    "For example, we can see which `Int8` has the same bits as `Int8(5)` but with the third bit\n",
    "set to 1."
   ],
   "metadata": {}
  },
  {
   "outputs": [],
   "cell_type": "code",
   "source": [
    "str = bitstring(Int8(5)) # string of bits for 5, eg  \"00000101\"\n",
    "tru = str[4:end] # drop first four characters of the string, eg \"000101\"\n",
    "swa = str[1:2] * \"1\" * tru # add the character \"1\" at the third position, eg \"00100101\"\n",
    "parse(Int8, swa; base=2) # answer is 37 = 5 + 2^5"
   ],
   "metadata": {},
   "execution_count": null
  },
  {
   "cell_type": "markdown",
   "source": [
    "-----"
   ],
   "metadata": {}
  },
  {
   "cell_type": "markdown",
   "source": [
    "**Problem 3(c)** Complete the following function that sets the 10th bit of an `Int32` to `1`,\n",
    "and returns an `Int32`, assuming that the input is a positive integer, using `bitstring`,\n",
    "`parse` and `*`."
   ],
   "metadata": {}
  },
  {
   "outputs": [],
   "cell_type": "code",
   "source": [
    "function tenthbitto1(x::Int32)\n",
    "    # TODO: change the 10th bit of x to 1\n",
    "\n",
    "end\n",
    "\n",
    "@test tenthbitto1(Int32(100)) ≡ Int32(4194404)"
   ],
   "metadata": {},
   "execution_count": null
  },
  {
   "cell_type": "markdown",
   "source": [
    "### II.1.3 Hexadecimal and binary format"
   ],
   "metadata": {}
  },
  {
   "cell_type": "markdown",
   "source": [
    "In Julia unsigned integers are displayed in hexadecimal\n",
    "form: that is, in base-16.\n",
    "Since there are only 10 standard digits (`0-9`) it uses 6 letters (`a–f`) to represent\n",
    "11–16. For example,"
   ],
   "metadata": {}
  },
  {
   "outputs": [],
   "cell_type": "code",
   "source": [
    "UInt8(250)"
   ],
   "metadata": {},
   "execution_count": null
  },
  {
   "cell_type": "markdown",
   "source": [
    "because `f` corresponds to 15 and `a` corresponds to 10, and we have\n",
    "$$\n",
    "15 * 16 + 10 = 250.\n",
    "$$\n",
    "The reason for this is that each hex-digit encodes 4 bits (since 4 bits have $2^4 = 16$ possible\n",
    "values) and hence two hex-digits are encode 1 byte, and thus the digits correspond\n",
    "exactly with how memory is divided into addresses.\n",
    "We can create unsigned integers either by specifying their hex format:"
   ],
   "metadata": {}
  },
  {
   "outputs": [],
   "cell_type": "code",
   "source": [
    "0xfa"
   ],
   "metadata": {},
   "execution_count": null
  },
  {
   "cell_type": "markdown",
   "source": [
    "Alternatively, we can specify their digits.\n",
    "For example, we know $(f)_{16} = 15 = (1111)_2$ and $(a)_{16} = 10 = (1010)_2$ and hence\n",
    "$250 = (fa)_{16} = (11111010)_2$ can be written as"
   ],
   "metadata": {}
  },
  {
   "outputs": [],
   "cell_type": "code",
   "source": [
    "0b11111010"
   ],
   "metadata": {},
   "execution_count": null
  },
  {
   "cell_type": "markdown",
   "source": [
    "-----"
   ],
   "metadata": {}
  },
  {
   "cell_type": "markdown",
   "source": [
    "## II.2 Reals\n",
    "\n",
    "Real numbers interpret a sequence of bits as a real number, specified in\n",
    "floating point.\n",
    "In Julia these correspond to 3 different floating-point types:"
   ],
   "metadata": {}
  },
  {
   "cell_type": "markdown",
   "source": [
    "`Float64` is a type representing double precision ($F_{64} = F_{1023,11,52}$).\n",
    "We can create a `Float64` by including a\n",
    "decimal point when writing the number:"
   ],
   "metadata": {}
  },
  {
   "outputs": [],
   "cell_type": "code",
   "source": [
    "5.3 # isa Float64"
   ],
   "metadata": {},
   "execution_count": null
  },
  {
   "cell_type": "markdown",
   "source": [
    "We can use `printbits` to see the stored bits:"
   ],
   "metadata": {}
  },
  {
   "outputs": [],
   "cell_type": "code",
   "source": [
    "printbits(5.125)"
   ],
   "metadata": {},
   "execution_count": null
  },
  {
   "cell_type": "markdown",
   "source": [
    "The red bit is the sign bit (0 means positive). The Green bits represent the exponent, in this case:"
   ],
   "metadata": {}
  },
  {
   "outputs": [],
   "cell_type": "code",
   "source": [
    "σ = 1023 # the shift according to Float64 format\n",
    "0b10000000001 - σ # == 2"
   ],
   "metadata": {},
   "execution_count": null
  },
  {
   "cell_type": "markdown",
   "source": [
    "The blue bits are the significand. In this case represent `(1.01001)_2 = 1 + 2^(-2) + 2^(-5)`. And indeed\n",
    "we have\n",
    "$$\n",
    "2^2 (1+2^{-2} + 2^{-5}) = 5 + 2^{-3} = 5.125\n",
    "$$"
   ],
   "metadata": {}
  },
  {
   "cell_type": "markdown",
   "source": [
    "Alternatively, one can use scientific notation: `5.125e0` to construct a `Float64`.\n",
    "`Float64` is the default format for\n",
    "scientific computing.\n",
    "\n",
    "`Float32` is a type representing single precision ($F_{32} = F_{127,8,23}$).  We can create a `Float32` by including a\n",
    "`f0` when writing the number. Here we create a `Float32` and print its bits:"
   ],
   "metadata": {}
  },
  {
   "outputs": [],
   "cell_type": "code",
   "source": [
    "printbits(5.125f0) # 5.125f0 of type Float32"
   ],
   "metadata": {},
   "execution_count": null
  },
  {
   "cell_type": "markdown",
   "source": [
    "Now the exponent is"
   ],
   "metadata": {}
  },
  {
   "outputs": [],
   "cell_type": "code",
   "source": [
    "σ = 127 # the shift according to Float32 format\n",
    "0b10000001 - σ # == 2"
   ],
   "metadata": {},
   "execution_count": null
  },
  {
   "cell_type": "markdown",
   "source": [
    "and again we see this represents `5.125`.\n",
    "`Float32` is generally the default format for graphics (on the _Graphics Processing Unit_, GPU),\n",
    "as the difference between 32 bits and 64 bits is indistinguishable to the eye in visualisation,\n",
    "and more data can be fit into a GPU's limited memory."
   ],
   "metadata": {}
  },
  {
   "cell_type": "markdown",
   "source": [
    "`Float16` is a type representing half-precision ($F_{16} = F_{15,5,10}$).\n",
    "It is important in machine learning where one wants to maximise the amount of data\n",
    "and high accuracy is not necessarily helpful.  We create `Float16` by converting a `Float64`\n",
    "as follows:"
   ],
   "metadata": {}
  },
  {
   "outputs": [],
   "cell_type": "code",
   "source": [
    "printbits(Float16(5.125))"
   ],
   "metadata": {},
   "execution_count": null
  },
  {
   "cell_type": "markdown",
   "source": [
    "Now the exponent is"
   ],
   "metadata": {}
  },
  {
   "outputs": [],
   "cell_type": "code",
   "source": [
    "σ = 15 # the shift according to Float16 format\n",
    "0b10001 - σ # == 2"
   ],
   "metadata": {},
   "execution_count": null
  },
  {
   "cell_type": "markdown",
   "source": [
    "and we are representing $5.125$ again.\n",
    "`Float16` is important in machine learning where one wants to maximise the amount of data\n",
    "and high accuracy is not necessarily helpful.\n",
    "\n",
    "-----"
   ],
   "metadata": {}
  },
  {
   "cell_type": "markdown",
   "source": [
    "**Problem 4(a)** Use `reinterpret` and binary format to deduce which `Float16` has bits\n",
    "`1 01010 1010101010`."
   ],
   "metadata": {}
  },
  {
   "outputs": [],
   "cell_type": "code",
   "source": [
    "# TODO: Construct a Float16 with the bits 1 01010 1010101010"
   ],
   "metadata": {},
   "execution_count": null
  },
  {
   "cell_type": "markdown",
   "source": [
    "**Problem 4(b)** Use `printbits` to guess the binary representation of $1/5$."
   ],
   "metadata": {}
  },
  {
   "outputs": [],
   "cell_type": "code",
   "source": [
    "# TODO: Use printbits and guess the binary expansion of 1/5."
   ],
   "metadata": {},
   "execution_count": null
  },
  {
   "cell_type": "markdown",
   "source": [
    "-----"
   ],
   "metadata": {}
  },
  {
   "cell_type": "markdown",
   "source": [
    "We now construct the largest and smallest `Float32` and check their bit sequences:"
   ],
   "metadata": {}
  },
  {
   "outputs": [],
   "cell_type": "code",
   "source": [
    "σ,Q,S = 127,8,23 # Float32\n",
    "εₘ = 2.0^(-S)\n",
    "printlnbits(Float32(2.0^(1-σ))) # smallest positive normal Float32\n",
    "printlnbits(Float32(2.0^(2^Q-2-σ) * (2-εₘ))) # largest normal Float32"
   ],
   "metadata": {},
   "execution_count": null
  },
  {
   "cell_type": "markdown",
   "source": [
    "For a given floating-point type, we can find these constants using the following functions:"
   ],
   "metadata": {}
  },
  {
   "outputs": [],
   "cell_type": "code",
   "source": [
    "eps(Float32), floatmin(Float32), floatmax(Float32)"
   ],
   "metadata": {},
   "execution_count": null
  },
  {
   "cell_type": "markdown",
   "source": [
    "### II.2.4 Sub-normal and special numbers"
   ],
   "metadata": {}
  },
  {
   "cell_type": "markdown",
   "source": [
    "If all the exponent bits are `0` then the number represents a \"sub-normal\" floating point number."
   ],
   "metadata": {}
  },
  {
   "cell_type": "markdown",
   "source": [
    "**Example (creating a sub-normal number)** If we divide the smallest normal number by `2`, we get a subnormal number:"
   ],
   "metadata": {}
  },
  {
   "outputs": [],
   "cell_type": "code",
   "source": [
    "mn = floatmin(Float32) # smallest normal Float32\n",
    "printlnbits(mn)\n",
    "printbits(mn/2)"
   ],
   "metadata": {},
   "execution_count": null
  },
  {
   "cell_type": "markdown",
   "source": [
    "Can you explain the bits?\n",
    "\n",
    "Zero is a sub-normal number, but it turns out there is also a negative zero:"
   ],
   "metadata": {}
  },
  {
   "outputs": [],
   "cell_type": "code",
   "source": [
    "printlnbits(0.0) # 0 has all bits 0\n",
    "printlnbits(-0.0) # -0 has sign bit 1 and all other bits zero"
   ],
   "metadata": {},
   "execution_count": null
  },
  {
   "cell_type": "markdown",
   "source": [
    "-----"
   ],
   "metadata": {}
  },
  {
   "cell_type": "markdown",
   "source": [
    "**Problem 4(c)** Create the smallest positive non-zero sub-normal `Float16` by specifying\n",
    "its bits."
   ],
   "metadata": {}
  },
  {
   "outputs": [],
   "cell_type": "code",
   "source": [
    "# TODO: create the smallest positive Float16"
   ],
   "metadata": {},
   "execution_count": null
  },
  {
   "cell_type": "markdown",
   "source": [
    "-----"
   ],
   "metadata": {}
  },
  {
   "cell_type": "markdown",
   "source": [
    "The special numbers extend the real line by adding $±∞$ but also a notion of \"not-a-number\" ${\\rm NaN}$.\n",
    "Whenever the bits of the exponent $q$ of a floating-point number are all 1 then they represent an element of $F^{\\rm special}$.\n",
    "If all $b_k=0$, then the number represents either $±∞$, called `Inf` and `-Inf` for 64-bit floating-point numbers (or `Inf16`, `Inf32`\n",
    "for 16-bit and 32-bit, respectively):"
   ],
   "metadata": {}
  },
  {
   "outputs": [],
   "cell_type": "code",
   "source": [
    "printlnbits(Inf16)\n",
    "printbits(-Inf16)"
   ],
   "metadata": {},
   "execution_count": null
  },
  {
   "cell_type": "markdown",
   "source": [
    "All other special floating-point numbers represent ${\\rm NaN}$. One particular representation of ${\\rm NaN}$\n",
    "is denoted by `NaN` for 64-bit floating-point numbers (or `NaN16`, `NaN32` for 16-bit and 32-bit, respectively):"
   ],
   "metadata": {}
  },
  {
   "outputs": [],
   "cell_type": "code",
   "source": [
    "printbits(NaN16)"
   ],
   "metadata": {},
   "execution_count": null
  },
  {
   "cell_type": "markdown",
   "source": [
    "Arithmetic works differently on `Inf` and `NaN` and for undefined operations.\n",
    "In particular we have:"
   ],
   "metadata": {}
  },
  {
   "outputs": [],
   "cell_type": "code",
   "source": [
    "1/0.0        # returns  Inf\n",
    "1/(-0.0)     # returns -Inf\n",
    "0.0/0.0      # returns  NaN\n",
    "\n",
    "Inf*0        # returns  NaN\n",
    "Inf+5        # returns  Inf\n",
    "(-1)*Inf     # returns -Inf\n",
    "1/Inf        # returns  0.0\n",
    "1/(-Inf)     # returns -0.0\n",
    "Inf - Inf    # returns  NaN\n",
    "Inf ==  Inf  # returns  true\n",
    "Inf == -Inf  # returns  false\n",
    "\n",
    "NaN*0        # returns  NaN\n",
    "NaN+5        # returns  NaN\n",
    "1/NaN        # returns  NaN\n",
    "NaN == NaN   # returns  false\n",
    "NaN != NaN   # returns  true"
   ],
   "metadata": {},
   "execution_count": null
  },
  {
   "cell_type": "markdown",
   "source": [
    "Essentially `NaN` is a CPU's way of indicating an error has occurred, but computation\n",
    "will continue."
   ],
   "metadata": {}
  },
  {
   "cell_type": "markdown",
   "source": [
    "**Example (many `NaN`s)** What happens if we change some other $b_k$ to be nonzero?\n",
    "We can create bits as a string and see:"
   ],
   "metadata": {}
  },
  {
   "outputs": [],
   "cell_type": "code",
   "source": [
    "i = 0b0111110000010001 # an UInt16\n",
    "reinterpret(Float16, i)"
   ],
   "metadata": {},
   "execution_count": null
  },
  {
   "cell_type": "markdown",
   "source": [
    "Thus, there are many ways of representing `NaN`. (What a waste of perfectly good bit sequences!)"
   ],
   "metadata": {}
  },
  {
   "cell_type": "markdown",
   "source": [
    "---\n",
    "\n",
    "*This notebook was generated using [Literate.jl](https://github.com/fredrikekre/Literate.jl).*"
   ],
   "metadata": {}
  }
 ],
 "nbformat_minor": 3,
 "metadata": {
  "language_info": {
   "file_extension": ".jl",
   "mimetype": "application/julia",
   "name": "julia",
   "version": "1.11.2"
  },
  "kernelspec": {
   "name": "julia-1.11",
   "display_name": "Julia 1.11.2",
   "language": "julia"
  }
 },
 "nbformat": 4
}
