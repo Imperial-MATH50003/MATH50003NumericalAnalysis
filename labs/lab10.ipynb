{
 "cells": [
  {
   "cell_type": "markdown",
   "source": [
    "# MATH50003 (2024–25)\n",
    "# Lab 10: VI.3 Gaussian Quadrature"
   ],
   "metadata": {}
  },
  {
   "cell_type": "markdown",
   "source": [
    "We complete the module where we started: computing integrals via quadrature.\n",
    "We saw how interpolation leads to interpolatory quadrature rules, but we were\n",
    "left with the question on how to choose the points. Orthogonal polynomials\n",
    "provide the answer: The roots (zeros) of degree $n$ polynomials give interpolatory\n",
    "quadrature rules with the special property that they are exact for polynomials of twice\n",
    "the degree. Moreover, they lead to effective transforms from values of functions to\n",
    "coefficients in an orthogonal polynomial expansion. In this lab we realise these\n",
    "results numerically."
   ],
   "metadata": {}
  },
  {
   "cell_type": "markdown",
   "source": [
    "**Learning Outcomes**\n",
    "\n",
    "Mathematical knowledge:"
   ],
   "metadata": {}
  },
  {
   "cell_type": "markdown",
   "source": [
    "1. Roots of orthogonal polynomials and truncated Jacobi matrices.\n",
    "2. Gaussian quadrature via eigenvalues of a truncated Jacobi matrix.\n",
    "3. Transforms via Gaussian quadrature."
   ],
   "metadata": {}
  },
  {
   "cell_type": "markdown",
   "source": [
    "Coding knowledge:"
   ],
   "metadata": {}
  },
  {
   "cell_type": "markdown",
   "source": [
    "1. `eigvals` and `eigen` for computing eigenvalues and eigenvectors"
   ],
   "metadata": {}
  },
  {
   "outputs": [],
   "cell_type": "code",
   "source": [
    "using Plots, LinearAlgebra"
   ],
   "metadata": {},
   "execution_count": null
  },
  {
   "cell_type": "markdown",
   "source": [
    "## VI.3.1 Roots of orthogonal polynomials and truncated Jacobi matrices"
   ],
   "metadata": {}
  },
  {
   "cell_type": "markdown",
   "source": [
    "Gaussian quadrature is defined in terms of the roots of orthogonal polynomials.\n",
    "We know how to compute orthogonal polynomials so in theory we could use Newton's method\n",
    "(with dual numbers to compute the derivatives), however, we need _all_ roots and\n",
    "it is a challenging problem choosing initial guesses."
   ],
   "metadata": {}
  },
  {
   "cell_type": "markdown",
   "source": [
    "Instead, we will recast the roots as eigenvalues of a symmetric tridiagonal matrix.\n",
    "Having previously thought of eigenvalues as roots of a characteristic polynomial this\n",
    "may appear to be a circular idea. But it turns out that there are very effective\n",
    "algorithms for computing all eigenvalues (which are taught in Computational Linear Algebra),\n",
    "and in fact finding roots of polynomials is typically done via eigenvalue algorithms.\n",
    "For us we can use the `eigvals` function to compute these."
   ],
   "metadata": {}
  },
  {
   "cell_type": "markdown",
   "source": [
    "We can see this example with Chebyshev polynomials. We first construct a $10×10$ truncation of the Jacobi matrix\n",
    "and compute its eigenvalues:"
   ],
   "metadata": {}
  },
  {
   "outputs": [],
   "cell_type": "code",
   "source": [
    "n = 10\n",
    "J = SymTridiagonal(zeros(n), [1/sqrt(2); fill(1/2, n-2)])\n",
    "x = eigvals(J)"
   ],
   "metadata": {},
   "execution_count": null
  },
  {
   "cell_type": "markdown",
   "source": [
    "By plotting we can see that we have successfully computed\n",
    "the roots of $T_{10}(x)$:"
   ],
   "metadata": {}
  },
  {
   "outputs": [],
   "cell_type": "code",
   "source": [
    "g = range(-1,1,100)\n",
    "plot(g, cos.(n*acos.(g)); label=\"T₁₀(x)\")\n",
    "scatter!(x, zero(x); label=\"roots\")"
   ],
   "metadata": {},
   "execution_count": null
  },
  {
   "cell_type": "markdown",
   "source": [
    "-----"
   ],
   "metadata": {}
  },
  {
   "cell_type": "markdown",
   "source": [
    "**Problem 1(a)** Compute all 50 roots of the Chebyshev U polynomial $U_{50}(x)$."
   ],
   "metadata": {}
  },
  {
   "outputs": [],
   "cell_type": "code",
   "source": [
    "# TODO: Use a truncation Jacobi matrix to compute the roots of U₅₀(x)"
   ],
   "metadata": {},
   "execution_count": null
  },
  {
   "cell_type": "markdown",
   "source": [
    "**Problem 1(b)** Compute all 100 roots of the Legendre polynomial $P_{100}(x)$\n",
    "by constructing the multiplication matrix, symmetrising it and computing its eigenvalues."
   ],
   "metadata": {}
  },
  {
   "outputs": [],
   "cell_type": "code",
   "source": [
    "# TODO: Use a truncation Jacobi matrix to compute the roots of P₁₀₀(x)."
   ],
   "metadata": {},
   "execution_count": null
  },
  {
   "cell_type": "markdown",
   "source": [
    "------"
   ],
   "metadata": {}
  },
  {
   "cell_type": "markdown",
   "source": [
    "## VI.3.2 Properties of Gaussian quadrature"
   ],
   "metadata": {}
  },
  {
   "cell_type": "markdown",
   "source": [
    "Gaussian quadrature is a special quadrature rule that is exact for almost twice the degree of polynomials\n",
    "as other interpolatory quadrature rules. It is defined in terms of the eigenvalues and eigenvectors\n",
    "of the truncated Jacobi matrix as follows, using the Chebyshev T polynomials:"
   ],
   "metadata": {}
  },
  {
   "outputs": [],
   "cell_type": "code",
   "source": [
    "function gaussquadrature(J::SymTridiagonal)\n",
    "    x,Q = eigen(J) # eigen computes the eigenvalues and eigenvectors.\n",
    "    x, Q[1,:].^2\n",
    "end\n",
    "\n",
    "\n",
    "function gausschebyshevt(n)\n",
    "    J = SymTridiagonal(zeros(n), [1/sqrt(2); fill(1/2, n-2)]) # symmetric Jacobi matrix\n",
    "    x,w = gaussquadrature(J)\n",
    "    x, π*w # ∫dx/sqrt(1-x^2)= π\n",
    "end\n",
    "\n",
    "x,w = gausschebyshevt(15)\n",
    "@test w'exp.(x) ≈ 3.977463260506422 # = ∫exp(x)*dx/sqrt(1-x^2)"
   ],
   "metadata": {},
   "execution_count": null
  },
  {
   "cell_type": "markdown",
   "source": [
    "This approximation actually converges faster than exponentially!"
   ],
   "metadata": {}
  },
  {
   "outputs": [],
   "cell_type": "code",
   "source": [
    "plot(2:15, [((x,w) = gausschebyshevt(n); abs(w'exp.(x) - 3.977463260506422)) for n=2:15]; yscale=:log10, label=\"error\", title=\"Gauss–Chebyshev Quadrature\")"
   ],
   "metadata": {},
   "execution_count": null
  },
  {
   "cell_type": "markdown",
   "source": [
    "Proving the convergence for general Gaussian quadrature requires complex analysis and potential theory results that are a bit too\n",
    "advanced for Year 2. But in the specific case of Gauss–Chebyshev quadrature it can be proven via the connection with\n",
    "the Cosine expansion."
   ],
   "metadata": {}
  },
  {
   "cell_type": "markdown",
   "source": [
    "We can also  use Gauss quadrature to compute expansion coefficients. To do this\n",
    "we need to construct the orthonormal polynomials $q_0(x) = 1/\\sqrt{π}$ and $q_n(x) = T_n(x)\\sqrt{2/π}$:"
   ],
   "metadata": {}
  },
  {
   "outputs": [],
   "cell_type": "code",
   "source": [
    "function orthonormalchebyshevt(n, x) # normalized T_n(x),\n",
    "    if n == 0\n",
    "        1/sqrt(π)\n",
    "    else\n",
    "        cos(n*acos(x))*sqrt(2/π)\n",
    "    end\n",
    "end"
   ],
   "metadata": {},
   "execution_count": null
  },
  {
   "cell_type": "markdown",
   "source": [
    "The inverse transform from coefficients to values is the Vandermonde-like matrix:\n",
    "$$\n",
    "V_n = \\begin{bmatrix}\n",
    "q_0(x_1) & ⋯ & q_{n-1}(x_1) \\\\\n",
    "⋮ & ⋱ & ⋱ \\\\\n",
    "q_0(x_n) & ⋯ & q_{n-1}(x_n)\n",
    "\\end{bmatrix}\n",
    "$$\n",
    "The transform from values to coefficients of $q_n(x)$ is then $V_n^{-1}$, but we have a simple formula:\n",
    "$$\n",
    "V_n^{-1} = V_n^⊤{\\rm diag}(w_1,…,w_n).\n",
    "$$\n",
    "We implement this as follows:"
   ],
   "metadata": {}
  },
  {
   "outputs": [],
   "cell_type": "code",
   "source": [
    "function chebyshevttransform(n)\n",
    "    x,w = gausschebyshevt(n)\n",
    "    V = orthonormalchebyshevt.((0:n-1)', x) # Vandermonde-like matrix for normalized T_n(x)\n",
    "    V'*Diagonal(w) # transform matrix\n",
    "end\n",
    "\n",
    "n = 15\n",
    "Q = chebyshevttransform(n)\n",
    "c = Q*exp.(x) # expansion coefficients\n",
    "@test c'*orthonormalchebyshevt.((0:n-1), 0.1) ≈ exp(0.1)"
   ],
   "metadata": {},
   "execution_count": null
  },
  {
   "cell_type": "markdown",
   "source": [
    "We can see that the above actually interpolates, using a more\n",
    "oscillatory example where it's visually distinctive:"
   ],
   "metadata": {}
  },
  {
   "outputs": [],
   "cell_type": "code",
   "source": [
    "f = x -> cos(20x)\n",
    "c = Q*f.(x) # expansion coefficients\n",
    "g = range(-1,1,1000)\n",
    "plot(g, f.(g); label=\"f\")\n",
    "plot!(g, orthonormalchebyshevt.((0:n-1)', g)*c; label=\"fₙ\")\n",
    "scatter!(x, f.(x); label=nothing)"
   ],
   "metadata": {},
   "execution_count": null
  },
  {
   "cell_type": "markdown",
   "source": [
    "Taking a few more points and the approximation will have converged to high accuracy,\n",
    "actually super-exponentially fast."
   ],
   "metadata": {}
  },
  {
   "cell_type": "markdown",
   "source": [
    "---\n",
    "**Problem 2** Compute the Gauss–Chebyshev U quadrature rule for $w(x) = \\sqrt{1-x^2}$ on $[-1,1]$."
   ],
   "metadata": {}
  },
  {
   "outputs": [],
   "cell_type": "code",
   "source": [
    "function gausschebyshevu(n)\n",
    "    # TODO: implement Gauss–Chebyshev U quadrature\n",
    "\n",
    "end\n",
    "\n",
    "x,w = gausschebyshevu(3)\n",
    "@test x ≈ [-1/sqrt(2),0,1/sqrt(2)]\n",
    "@test w ≈ [0.3926990816987255, 0.7853981633974466, 0.3926990816987243]"
   ],
   "metadata": {},
   "execution_count": null
  },
  {
   "cell_type": "markdown",
   "source": [
    "**Problem 3(a)** Compute the Gauss–Legendre quadrature rule, for $w(x) = 1$ on $[-1,1]$."
   ],
   "metadata": {}
  },
  {
   "outputs": [],
   "cell_type": "code",
   "source": [
    "function gausslegendre(n)\n",
    "    # TODO: Compute the Gauss–Legendre quadrature rule for a uniform weight.\n",
    "\n",
    "end\n",
    "x,w = gausslegendre(3)\n",
    "@test x ≈ [-sqrt(3/5), 0, sqrt(3/5)]\n",
    "@test w ≈ [5/9,8/9,5/9]\n",
    "\n",
    "n = 5\n",
    "x,w = gausslegendre(n)\n",
    "@test w'exp.(x) ≈ exp(1)-exp(-1) # even just 5 points converges\n",
    "\n",
    "# We saw in Theorem 20 that it is exact for about twice the degree\n",
    "# of polynomial. We can test this numerically:\n",
    "\n",
    "for k = 0:2n-1\n",
    "    if iseven(k)\n",
    "        @test w'x.^k ≈ 2/(k+1)\n",
    "    else\n",
    "        @test abs(w'x.^k) ≤ 1E-14\n",
    "    end\n",
    "end"
   ],
   "metadata": {},
   "execution_count": null
  },
  {
   "cell_type": "markdown",
   "source": [
    "**Problem 3(b)** Implement the following function that computes `orthonormallegendrep(n,x)` corresponding\n",
    "to the orthonormalised Legendre polynomials."
   ],
   "metadata": {}
  },
  {
   "outputs": [],
   "cell_type": "code",
   "source": [
    "function orthonormallegendrep(n, x)\n",
    "    # TODO: implement the orthonormalised Legendre polynomials\n",
    "\n",
    "end\n",
    "\n",
    "@test orthonormallegendrep(5, 0.1) ≈ 0.41939059365476206"
   ],
   "metadata": {},
   "execution_count": null
  },
  {
   "cell_type": "markdown",
   "source": [
    "**Problem 3(c)** Implement the Legendre transform from values of a function on Gauss–Legendre points to coefficients in\n",
    "a Legendre expansion."
   ],
   "metadata": {}
  },
  {
   "outputs": [],
   "cell_type": "code",
   "source": [
    "function legendreptransform(n)\n",
    "    # TODO: Construct the n × n matrix mapping from samples at zeros of Legendre polynonials to coefficients\n",
    "\n",
    "end\n",
    "\n",
    "n = 15\n",
    "x,w = gausslegendre(n)\n",
    "Q = legendreptransform(n)\n",
    "c = Q*exp.(x) # expansion coefficients\n",
    "@test c'*orthonormallegendrep.((0:n-1), 0.1) ≈ exp(0.1)"
   ],
   "metadata": {},
   "execution_count": null
  },
  {
   "cell_type": "markdown",
   "source": [
    "---\n",
    "\n",
    "*This notebook was generated using [Literate.jl](https://github.com/fredrikekre/Literate.jl).*"
   ],
   "metadata": {}
  }
 ],
 "nbformat_minor": 3,
 "metadata": {
  "language_info": {
   "file_extension": ".jl",
   "mimetype": "application/julia",
   "name": "julia",
   "version": "1.11.2"
  },
  "kernelspec": {
   "name": "julia-1.11",
   "display_name": "Julia 1.11.2",
   "language": "julia"
  }
 },
 "nbformat": 4
}
