{
 "cells": [
  {
   "cell_type": "markdown",
   "source": [
    "# MATH50003 (2024–25)\n",
    "# Lab 9: VI.1 General Orthogonal Polynomials and VI.2 Classical Orthogonal Polynomials"
   ],
   "metadata": {}
  },
  {
   "cell_type": "markdown",
   "source": [
    "This lab investigates the numerical construction of orthogonal polynomials, and\n",
    "the practical usage of classical orthogonal polynomials. In particular, we can build orthogonal\n",
    "polynomials using the Gram–Schmidt process, which can be simplified using the three-term recurrence\n",
    "in the Stieltjes process. There is a special emphasis\n",
    "on Chebyshev polynomials which are directly related to Cosine and Sine expansions."
   ],
   "metadata": {}
  },
  {
   "cell_type": "markdown",
   "source": [
    "**Learning Outcomes**\n",
    "\n",
    "Mathematical knowledge:"
   ],
   "metadata": {}
  },
  {
   "cell_type": "markdown",
   "source": [
    "1. Gram–Schmidt for continuous functions\n",
    "2. Stieltjes procedure and three-term recurrences\n",
    "3. Computing orthogonal polynomials via forward recurrence\n",
    "4. Jacobi matrices including for orthonormal polynomials"
   ],
   "metadata": {}
  },
  {
   "cell_type": "markdown",
   "source": [
    "Coding knowledge:"
   ],
   "metadata": {}
  },
  {
   "cell_type": "markdown",
   "source": [
    "1. Updating a variable via the tuple syntax."
   ],
   "metadata": {}
  },
  {
   "cell_type": "markdown",
   "source": [
    "We use the following packages:"
   ],
   "metadata": {}
  },
  {
   "outputs": [],
   "cell_type": "code",
   "source": [
    "using QuadGK, Plots, LinearAlgebra, Test"
   ],
   "metadata": {},
   "execution_count": null
  },
  {
   "cell_type": "markdown",
   "source": [
    "## VI.1 General Orthogonal Polynomials"
   ],
   "metadata": {}
  },
  {
   "cell_type": "markdown",
   "source": [
    "Orthogonal polynomials are graded polynomials which have the form\n",
    "$$\n",
    "p_n(x) = k_n x^n + k_n^{(1)} x^{n-1} + ⋯ + k_n^{(n-1)} x + k_n^{(n)}\n",
    "$$\n",
    "We can store the (currently unknown) coefficients of the orthogonal polynomials as an upper-triangular matrix:\n",
    "$$\n",
    "R_n = \\begin{bmatrix} k_0 & k_1^{(1)} & k_2^{(2)} & ⋯ & k_n^{(n)} \\\\\n",
    "              & k_1 & k_2^{(1)} & ⋯ & k_n^{(n-1)} \\\\\n",
    "               &  & ⋱ & ⋱ & ⋮ \\\\\n",
    "                & & & k_{n-1} & k_n^{(1)} \\\\\n",
    "                  &&&& k_n\n",
    "\\end{bmatrix}\n",
    "$$\n",
    "This can be written as\n",
    "$$\n",
    "[p_0| …| p_n] = [1| x| …| x^n] R_n\n",
    "$$"
   ],
   "metadata": {}
  },
  {
   "cell_type": "markdown",
   "source": [
    "If we move $R_n$ to the otherside this can be viewed as a generalisation\n",
    "of the QR factorisation:\n",
    "$$\n",
    "[1| x| …| x^n] = [p_0| …| p_n]  R_n^{-1}\n",
    "$$\n",
    "And just as Gram–Schmidt can be used to compute a QR factorisation of a matrix,\n",
    "we can build monic orthogonal polynomials using a continuous version of Gram–Schmidt:\n",
    "$$\n",
    " π_n(x) = x^n - ∑_{k=0}^{n-1} {⟨x^n,π_k ⟩ \\over \\|π_k\\|^2} π_k(x).\n",
    "$$\n",
    "To deduce $R_n$ from this process we proceed as follows, assuming the inner product is\n",
    "$$\n",
    "⟨f,g⟩ := ∫_0^1 f(x) g(x) w(x) {\\rm d}x\n",
    "$$\n",
    "which we approximate with `quadgk`:"
   ],
   "metadata": {}
  },
  {
   "outputs": [],
   "cell_type": "code",
   "source": [
    "function opgramschmidt(w, n)\n",
    "    R = UpperTriangular(zeros(n,n)) # Connection matrix with monomials\n",
    "    for j = 1:n\n",
    "        R[j,j] = 1 # k_j = 1\n",
    "        for k = 1:j-1\n",
    "            πₖ = x -> R[1:k,k]'*[x^ℓ for ℓ=0:k-1] # the previously computed OP\n",
    "            ip = quadgk(x -> x^(j-1) * πₖ(x) * w(x), 0, 1)[1] # ⟨x^n,π_k⟩\n",
    "            nrm = quadgk(x -> πₖ(x)^2 * w(x), 0, 1)[1] # ||π_k||^2. A better version would store this as its repeating the computation for each j\n",
    "            R[1:k,j] -= ip/nrm * R[1:k,k] # R[1:k,k] gives us the monomial expansion of πₖ\n",
    "        end\n",
    "    end\n",
    "    R\n",
    "end"
   ],
   "metadata": {},
   "execution_count": null
  },
  {
   "cell_type": "markdown",
   "source": [
    "For the special case of $w(x) = 1$ we get:"
   ],
   "metadata": {}
  },
  {
   "outputs": [],
   "cell_type": "code",
   "source": [
    "R = opgramschmidt(x -> 1, 5)"
   ],
   "metadata": {},
   "execution_count": null
  },
  {
   "cell_type": "markdown",
   "source": [
    "That is, we have computed the coefficients corresponding to\n",
    "$$\n",
    "\\begin{align*}\n",
    "π_0(x) &= 1, \\\\\n",
    "π_1(x) &= x-1/2,\\\\\n",
    "π_2(x) &= x^2 - x + 1/6,\\\\\n",
    "π_3(x) &= x^3 - 3x^2/2 + 3x/5 - 1/20.\n",
    "\\end{align*}\n",
    "$$\n",
    "which we computed explicitly in the notes. We can use this to plot the OPs:"
   ],
   "metadata": {}
  },
  {
   "outputs": [],
   "cell_type": "code",
   "source": [
    "g = range(0,1,100) # plot grid\n",
    "V = g .^ (0:4)' # Vandermonde matrix for monomials\n",
    "plot(g, V*R; label=[\"π₀\" \"π₁\" \"π₂\" \"π₃\" \"π₄\"])"
   ],
   "metadata": {},
   "execution_count": null
  },
  {
   "cell_type": "markdown",
   "source": [
    "----"
   ],
   "metadata": {}
  },
  {
   "cell_type": "markdown",
   "source": [
    "**Problem 1(a)** Modify `opgramschmidt` to take in the support of the inner product $(α,β)$ and\n",
    "not recompute $\\|π_k\\|^2$ multiple times, and return a tuple containing $R$ and a vector containing $\\|π_0\\|^2,…,\\|π_{n-1}\\|^2$."
   ],
   "metadata": {}
  },
  {
   "outputs": [],
   "cell_type": "code",
   "source": [
    "function opgramschmidt(w, n, α, β)\n",
    "    R = UpperTriangular(zeros(n,n)) # Connection matrix with monomials\n",
    "    nrms = zeros(n) # vector of inner products\n",
    "    # TODO: Modify the above code to support general weights and not recompute ||π_k||^2\n",
    "\n",
    "    R,nrms\n",
    "end\n",
    "\n",
    "R,nrms = opgramschmidt(x -> 1, 3, 0, 1)\n",
    "@test R ≈ [1 -1/2 1/6;\n",
    "           0  1   -1;\n",
    "           0  0    1]\n",
    "@test nrms ≈ [1,1/12,1/180]"
   ],
   "metadata": {},
   "execution_count": null
  },
  {
   "cell_type": "markdown",
   "source": [
    "**Problem 1(b)** Use the new `opgramschmidt` to compute the monic OPs for $\\sqrt{1-x^2}$ and $1-x$ on $[-1,1]$\n",
    "Do these match the computation from the problem sheet?"
   ],
   "metadata": {}
  },
  {
   "outputs": [],
   "cell_type": "code",
   "source": [
    "# TODO: employ the new opgramschmidt to the two examples from the problem sheet."
   ],
   "metadata": {},
   "execution_count": null
  },
  {
   "cell_type": "markdown",
   "source": [
    "**Problem 1(c)** By calling `opgramschmidt` implement `orthonormalgramschmidt`\n",
    "to return an upper triangular matrix containing the coefficents for\n",
    "the orthonormal polynomials expanded in monomials. For the two examples in the previous problem,\n",
    "does this match what you derived in the problem sheet?"
   ],
   "metadata": {}
  },
  {
   "outputs": [],
   "cell_type": "code",
   "source": [
    "function orthonormalgramschmidt(w, n, α, β)\n",
    "    # TODO: Use opgramschmidt to construct the R for orthonormal polynomials\n",
    "\n",
    "end\n",
    "\n",
    "R = orthonormalgramschmidt(x -> 1, 4, 0, 1)\n",
    "@test R ≈ [1 -sqrt(3) sqrt(5)   -sqrt(7);\n",
    "           0 2sqrt(3) -6sqrt(5) 12sqrt(7);\n",
    "           0 0        6sqrt(5)  -30sqrt(7);\n",
    "           0 0        0         20sqrt(7)]"
   ],
   "metadata": {},
   "execution_count": null
  },
  {
   "cell_type": "markdown",
   "source": [
    "-----"
   ],
   "metadata": {}
  },
  {
   "cell_type": "markdown",
   "source": [
    "### VI.1.1 Three-term recurrence"
   ],
   "metadata": {}
  },
  {
   "cell_type": "markdown",
   "source": [
    "Orthogonal polynomials all have three-term recurrences:\n",
    "$$\n",
    "\\begin{align*}\n",
    "x p_0(x) &= a_0 p_0(x) + b_0 p_1(x) \\\\\n",
    "x p_n(x) &= c_{n-1} p_{n-1}(x) + a_n p_n(x) + b_n p_{n+1}(x).\n",
    "\\end{align*}\n",
    "$$\n",
    "We can use this fact to simplify the Gram-Schmidt process: we do not need\n",
    "to orthogonalise against all $pₖ$ if instead of beginning with $x^k$ we begin with\n",
    "$x pₖ$. Here we modify the code in `stieltjes` as this is called the _Stieltjes procedure_\n",
    "(or sometimes _Lanczos_ which is the name of the corresponding finite-dimensional algorithm):"
   ],
   "metadata": {}
  },
  {
   "outputs": [],
   "cell_type": "code",
   "source": [
    "function stieltjes(w, n)\n",
    "    if n < 2\n",
    "        error(\"Only works for large enough n\")\n",
    "    end\n",
    "    R = UpperTriangular(zeros(n,n)) # Connection matrix with monomials\n",
    "    a = zeros(n-1) # aₖ\n",
    "    c = zeros(n-2) # cₖ\n",
    "    R[1,1] = 1\n",
    "\n",
    "    # xπ_0 = a_0π_0 + π_1\n",
    "    # a_0 = <xπ_0,1>/||π_0||^2\n",
    "    a[1] = quadgk(x -> x*w(x), 0, 1)[1]/quadgk(w, 0, 1)[1]\n",
    "    R[2,2] = 1 # coefficients of x*π_0\n",
    "    R[1,2] = -a[1] # coefficients of -a_0*π_0\n",
    "    for j = 2:n-1\n",
    "        R[2:j+1,j+1] = R[1:j,j] # coefficients of x*πⱼ\n",
    "        πⱼ = x -> R[1:j,j]'*[x^ℓ for ℓ=0:j-1] # π_ⱼ(x)\n",
    "        πⱼ₋₁ = x -> R[1:j-1,j-1]'*[x^ℓ for ℓ=0:j-2] # π_ⱼ₋₁(x)\n",
    "\n",
    "        # xπ_j = c_jπ_{j-1} + a_j*π_j + π_{j+1}\n",
    "        c[j-1] = quadgk(x -> x*πⱼ(x)*πⱼ₋₁(x)*w(x), 0, 1)[1]/quadgk(x -> w(x)πⱼ₋₁(x)^2, 0, 1)[1]\n",
    "        R[1:j-1,j+1] -= c[j-1]*R[1:j-1,j-1] # coefficients of -c_{j-1}*π_{j-1}\n",
    "        a[j] = quadgk(x -> x*πⱼ(x)^2*w(x), 0, 1)[1]/quadgk(x -> w(x)πⱼ(x)^2, 0, 1)[1]\n",
    "        R[1:j,j+1] -= a[j]*R[1:j,j] # coefficients of -a_j*π_j\n",
    "    end\n",
    "    R, a, c\n",
    "end\n",
    "\n",
    "R, a, c = stieltjes(x -> 1, 5)\n",
    "@test R ≈ opgramschmidt(x -> 1, 5)"
   ],
   "metadata": {},
   "execution_count": null
  },
  {
   "cell_type": "markdown",
   "source": [
    "Knowing the three-term recurrence actually gives us an explicit formula for the the OPs themselves.\n",
    "here is a simple example of evaluating monic OPs:"
   ],
   "metadata": {}
  },
  {
   "outputs": [],
   "cell_type": "code",
   "source": [
    "function monicforward(n, a, c, x)\n",
    "    πₖ₋₁ = 1.0\n",
    "    if n == 0\n",
    "        return πₖ₋₁\n",
    "    end\n",
    "    πₖ = x - a[1]\n",
    "\n",
    "    for k = 2:n\n",
    "        πₖ,πₖ₋₁ = (x-a[k])*πₖ - c[k-1]*πₖ₋₁,πₖ # a little tuple trick to reuse variables! The RHS is evaluated first and then the variables are updated\n",
    "    end\n",
    "    πₖ\n",
    "end\n",
    "\n",
    "x = 0.1\n",
    "@test monicforward(3, a, c, x) ≈ x^3 - 3x^2/2 + 3x/5 - 1/20 # matches explicit formula"
   ],
   "metadata": {},
   "execution_count": null
  },
  {
   "cell_type": "markdown",
   "source": [
    "----"
   ],
   "metadata": {}
  },
  {
   "cell_type": "markdown",
   "source": [
    "**Problem 2(a)** Implement `orthonormalstieltjes` for computing the orthonormal polynomials,\n",
    "to return an upper triangular matrix containing the coefficents for\n",
    "the orthonormal polynomials expanded in monomials and the 3-term recurrences as vectors,\n",
    "noting that $c_j = b_j$."
   ],
   "metadata": {}
  },
  {
   "outputs": [],
   "cell_type": "code",
   "source": [
    "function orthonormalstieltjes(w, n, α, β)\n",
    "    if n < 2\n",
    "        error(\"Only works for large enough n\")\n",
    "    end\n",
    "    R = UpperTriangular(zeros(n,n)) # Connection matrix with monomials\n",
    "    a = zeros(n-1) # aₖ\n",
    "    b = zeros(n-1) # bₖ\n",
    "\n",
    "    R[1,1] = 1/sqrt(quadgk(w, α, β)[1])\n",
    "\n",
    "    # TODO: complete the implementation populating R, a, b and c.\n",
    "\n",
    "end\n",
    "\n",
    "@test forward(3, a, b, b, 0.1, R[1,1]) ≈ sqrt(7) * (20x^3 - 30x^2 + 12x - 1)"
   ],
   "metadata": {},
   "execution_count": null
  },
  {
   "cell_type": "markdown",
   "source": [
    "---"
   ],
   "metadata": {}
  },
  {
   "cell_type": "markdown",
   "source": [
    "## VI.1.2 Jacobi matrices"
   ],
   "metadata": {}
  },
  {
   "cell_type": "markdown",
   "source": [
    "The recurrence coefficients can be incorporated into an infinite-dimensional tridiagonal\n",
    "matrix\n",
    "$$\n",
    "X = \\begin{bmatrix} a_0 & c_0 \\\\ b_0 & a_1 & c_1 \\\\ & b_1 & a_2 & ⋱ \\\\\n",
    "&&⋱ & ⋱\n",
    "\\end{bmatrix}\n",
    "$$\n",
    "representing multiplication by $x$. Here is a finite truncation of\n",
    "the multiplication matrix:"
   ],
   "metadata": {}
  },
  {
   "outputs": [],
   "cell_type": "code",
   "source": [
    "n = 10\n",
    "R, a, c = stieltjes(x -> 1, n+1)\n",
    "X = Tridiagonal(ones(n-1), a, c) # Transpose of the Jacobi matrix"
   ],
   "metadata": {},
   "execution_count": null
  },
  {
   "cell_type": "markdown",
   "source": [
    "We can test the validity of the Jacobi matrix here:"
   ],
   "metadata": {}
  },
  {
   "outputs": [],
   "cell_type": "code",
   "source": [
    "x = 0.1\n",
    "P = [monicforward(k, a, c, x) for k=0:n-1]'\n",
    "@test x*P[:,1:n-1] ≈ P*X[:,1:n-1] # drop last column as X is trunctated"
   ],
   "metadata": {},
   "execution_count": null
  },
  {
   "cell_type": "markdown",
   "source": [
    "We can use this matrix to also deduce other polynomials:"
   ],
   "metadata": {}
  },
  {
   "outputs": [],
   "cell_type": "code",
   "source": [
    "x = 0.1\n",
    "@test (x^2+x+1)*P[:,1:n-2] ≈ P*(X^2+X+I)[:,1:n-2] # drop an extra column as truncation of X impacts more entries of X^2"
   ],
   "metadata": {},
   "execution_count": null
  },
  {
   "cell_type": "markdown",
   "source": [
    "-----"
   ],
   "metadata": {}
  },
  {
   "cell_type": "markdown",
   "source": [
    "**Problem 3** Complete the following function which takes in a multiplication matrix for a monic orthogonal polynomial\n",
    "and returns the symmetric tridiagonal Jacobi matrix corresponding to the orthonormal polynomials."
   ],
   "metadata": {}
  },
  {
   "outputs": [],
   "cell_type": "code",
   "source": [
    "function symmetrise(X::Tridiagonal)\n",
    "    n = size(X,1)\n",
    "    for j = 1:n-1\n",
    "        if X[j+1,j] ≠ 1\n",
    "            error(\"not a monic multiplication matrix\")\n",
    "        end\n",
    "    end\n",
    "\n",
    "    # TODO: return a SymTridiagonal with the Jacobi matrix of the corresponding orthonormal polynomials.\n",
    "\n",
    "end\n",
    "\n",
    "J = symmetrise(X)\n",
    "@test J isa SymTridiagonal\n",
    "@test J[1:4,1:4] ≈ SymTridiagonal(fill(1/2,4), [1/(2sqrt(3)), 1/sqrt(15), 3/(2sqrt(35))])"
   ],
   "metadata": {},
   "execution_count": null
  },
  {
   "cell_type": "markdown",
   "source": [
    "## VI.2 Classical Orthogonal Polynomials"
   ],
   "metadata": {}
  },
  {
   "cell_type": "markdown",
   "source": [
    "Classical orthogonal polynomials are special cases of orthogonal polynomials with a wide number of beautiful\n",
    "properties. For us the primary usage is that the recurrence relationships can be computed explicitly: we do not\n",
    "need to use Gram–Schmidt or Stietjes."
   ],
   "metadata": {}
  },
  {
   "cell_type": "markdown",
   "source": [
    "## VI.2.1 Chebyshev polynomials"
   ],
   "metadata": {}
  },
  {
   "cell_type": "markdown",
   "source": [
    "Chebyshev polynomials are orthogonal on $[-1,1]$ with respect to $w(x) = 1/\\sqrt{1-x^2}$.\n",
    "They actually have an explicit formula as $T_n(x) = \\cos n{\\rm acos}\\, x$. We can plot the first 5:"
   ],
   "metadata": {}
  },
  {
   "outputs": [],
   "cell_type": "code",
   "source": [
    "g = range(-1,1,100) # plot grid\n",
    "plot(g, cos.((0:4)' .* acos.(g)); label=[\"T₀\" \"T₁\" \"T₂\" \"T₃\" \"T₄\"])"
   ],
   "metadata": {},
   "execution_count": null
  },
  {
   "cell_type": "markdown",
   "source": [
    "These satisfy a simple 3-term recurrence:\n",
    "$$\n",
    "\\begin{align*}\n",
    "x T_0(x) &= T_1(x) \\\\\n",
    "x T_n(x) &= T_{n-1}(x)/2 + T_{n+1}(x)/2\n",
    "\\end{align*}\n",
    "$$\n",
    "The recurrence gives us a way of computing $T_n(x)$ without the need for expensive\n",
    "trigonometric functions used in the explicit formula:"
   ],
   "metadata": {}
  },
  {
   "outputs": [],
   "cell_type": "code",
   "source": [
    "function chebyshevt(n, x)\n",
    "    Tₖ₋₁ = 1.0\n",
    "    if n == 0\n",
    "        return Tₖ₋₁\n",
    "    end\n",
    "    Tₖ = x\n",
    "    for k = 1:n-1\n",
    "        Tₖ,Tₖ₋₁ = 2x*Tₖ - Tₖ₋₁, Tₖ\n",
    "    end\n",
    "    Tₖ\n",
    "end\n",
    "\n",
    "x = 0.1\n",
    "@test chebyshevt(10, x) ≈ cos(10*acos(x))"
   ],
   "metadata": {},
   "execution_count": null
  },
  {
   "cell_type": "markdown",
   "source": [
    "This is particularly useful if you need _all_ of $T_0(x),…,T_n(x)$, eg., to evaluate\n",
    "a Chebyshev expansion, as we can save the values in a vector."
   ],
   "metadata": {}
  },
  {
   "cell_type": "markdown",
   "source": [
    "------"
   ],
   "metadata": {}
  },
  {
   "cell_type": "markdown",
   "source": [
    "**Problem 4(a)**  A Chebyshev expansion is the same as a Cosine expansion of $f(\\cos θ)$. Use\n",
    "`discretecosinecoefficient` from the previous lab to implement `discretechebyshevcoefficient`\n",
    "for computing Chebyshev expansion coefficients."
   ],
   "metadata": {}
  },
  {
   "outputs": [],
   "cell_type": "code",
   "source": [
    "function discretecosinecoefficient(f, k, n)\n",
    "    ret = 0.0\n",
    "    for j = 1:n\n",
    "        θⱼ = π*(j-1/2)/n\n",
    "        ret = ret + f(θⱼ)*cos(k*θⱼ)\n",
    "    end\n",
    "    if k == 0\n",
    "        ret/n\n",
    "    else\n",
    "        2ret/n\n",
    "    end\n",
    "end\n",
    "\n",
    "function discretechebyshevcoefficient(f, k, n)\n",
    "    # TODO: Use discretecosinecoefficient to approximate the Chebyshev coefficients of f\n",
    "\n",
    "end\n",
    "\n",
    "n = 15\n",
    "c = [discretechebyshevcoefficient(exp, k, n) for k=0:n-1]\n",
    "x = 0.1\n",
    "T = chebyshevt.(0:n-1,x)' # Chebyshev T\n",
    "@test T*c ≈ exp(x)"
   ],
   "metadata": {},
   "execution_count": null
  },
  {
   "cell_type": "markdown",
   "source": [
    "**Problem 4(b)** In the problem sheet we saw that $T_n'(x) = n U_{n-1}(x)$. Use this to approximate the\n",
    "derivative of a function."
   ],
   "metadata": {}
  },
  {
   "outputs": [],
   "cell_type": "code",
   "source": [
    "function chebyshevdifferentiation(f, n, x)\n",
    "    # TODO: Use discretechebyshevcoefficient and the derivative relationship to approximate the derivative of f,\n",
    "    # using a Chebyshev expansion of f up to degree n-1\n",
    "\n",
    "end\n",
    "\n",
    "@test chebyshevdifferentiation(cos, 15, 0.1) ≈ -sin(0.1)"
   ],
   "metadata": {},
   "execution_count": null
  },
  {
   "cell_type": "markdown",
   "source": [
    "-----"
   ],
   "metadata": {}
  },
  {
   "cell_type": "markdown",
   "source": [
    "## VI.2.2 Legendre polynomials"
   ],
   "metadata": {}
  },
  {
   "cell_type": "markdown",
   "source": [
    "Legendre polynomials are orthogonal on $[-1,1]$ with respect to the constant (Lebesgue) weight,\n",
    "with 3-term recurrence\n",
    "$$\n",
    "\\begin{align*}\n",
    "xP_0(x) &= P_1(x) \\\\\n",
    "(2n+1) xP_n(x) &= nP_{n-1}(x) + (n+1)P_{n+1}(x).\n",
    "\\end{align*}\n",
    "$$\n",
    "For most computational problems Chebyshev expansions are more effective since they have fast transforms\n",
    "via the connected with Cosine expansions and the Fast Fourier Transform. But Legendre polynomials have\n",
    "some useful properties that make them very useful in certain settings (computing singular integrals is an\n",
    "an example from my own research)."
   ],
   "metadata": {}
  },
  {
   "cell_type": "markdown",
   "source": [
    "----"
   ],
   "metadata": {}
  },
  {
   "cell_type": "markdown",
   "source": [
    "**Problem 5** Use the recurrence to compute Legendre polynomials $P_n(x)$."
   ],
   "metadata": {}
  },
  {
   "outputs": [],
   "cell_type": "code",
   "source": [
    "function legendrep(n, x)\n",
    "    # TODO: Implement Legendre P_n(x) using the 3-term recurrence\n",
    "\n",
    "end\n",
    "\n",
    "g = range(-1,1,100)\n",
    "plot(g, legendrep.((0:4)', g); label=[\"P₀\" \"P₁\" \"P₂\" \"P₃\" \"P₄\"])"
   ],
   "metadata": {},
   "execution_count": null
  },
  {
   "cell_type": "markdown",
   "source": [
    "---\n",
    "\n",
    "*This notebook was generated using [Literate.jl](https://github.com/fredrikekre/Literate.jl).*"
   ],
   "metadata": {}
  }
 ],
 "nbformat_minor": 3,
 "metadata": {
  "language_info": {
   "file_extension": ".jl",
   "mimetype": "application/julia",
   "name": "julia",
   "version": "1.11.2"
  },
  "kernelspec": {
   "name": "julia-1.11",
   "display_name": "Julia 1.11.2",
   "language": "julia"
  }
 },
 "nbformat": 4
}
