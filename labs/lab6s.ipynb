{
 "cells": [
  {
   "cell_type": "markdown",
   "metadata": {},
   "source": [
    "# MATH50003 (2024–25)\n",
    "# Lab 6: III.4 Orthogonal Matrices and III.5 QR Factorisation"
   ]
  },
  {
   "cell_type": "markdown",
   "metadata": {},
   "source": [
    "This lab explores orthogonal matrices, including rotations and reflections.\n",
    "We will construct special types to capture the structure of these orthogonal operations,\n",
    "with the goal of implementing fast matrix*vector and matrix\\vector operations."
   ]
  },
  {
   "cell_type": "markdown",
   "metadata": {},
   "source": [
    "We also compute the QR factorisation with Householder reflections, and use this\n",
    "to solve least squares problems."
   ]
  },
  {
   "cell_type": "markdown",
   "metadata": {},
   "source": [
    "**Learning Outcomes**\n",
    "\n",
    "Mathematical knowledge:\n",
    "\n",
    "1. Constructing rotation and reflection matrices.\n",
    "2. Computing the QR factorisation using reflections.\n",
    "3. Computing a tridiagonal QR factorisation using rotations.\n",
    "4. The relationship between QR and least squares."
   ]
  },
  {
   "cell_type": "markdown",
   "metadata": {},
   "source": [
    "Coding knowledge:\n",
    "\n",
    "1. The `atan(y,x)` function and the `I` convenience syntax.\n",
    "2. Templating fields in a type.\n",
    "2. Solving least squares problems via `\\`.\n",
    "3. Using the `qr` function to solve least squares."
   ]
  },
  {
   "cell_type": "code",
   "execution_count": 1,
   "metadata": {},
   "outputs": [],
   "source": [
    "using LinearAlgebra, Test"
   ]
  },
  {
   "cell_type": "markdown",
   "metadata": {},
   "source": [
    "## III.4 Orthogonal and Unitary Matrices"
   ]
  },
  {
   "cell_type": "markdown",
   "metadata": {},
   "source": [
    "Here we explore representing rotations and reflections, which are\n",
    "special types of orthogonal/unitary matrices."
   ]
  },
  {
   "cell_type": "markdown",
   "metadata": {},
   "source": [
    "### III.4.1 Rotations"
   ]
  },
  {
   "cell_type": "markdown",
   "metadata": {},
   "source": [
    "A (simple) rotation matrix is an element of the special orthogonal group $SO(2)$ and has a matrix representation\n",
    "$$\n",
    " \\begin{bmatrix} c & -s \\\\ s & c \\end{bmatrix}\n",
    "$$\n",
    "such that $c^2 + s^2 = 1$.\n",
    "More generally, we can generalise simple rotations on higher dimensional vectors by acting on two indices at a time.\n",
    "There are multiple ways of storing a rotation matrix, here we explore the most intuitive (but not the fastest!) way of storing just an angle $θ$\n",
    "so that $c = \\cos θ$ and $s = \\sin θ$."
   ]
  },
  {
   "cell_type": "markdown",
   "metadata": {},
   "source": [
    "We will use a syntax in a struct that forces a field to be a special type. In what follows we define\n",
    "the `getindex` by first implementing multiplication, a pattern that will be reused in the problems."
   ]
  },
  {
   "cell_type": "code",
   "execution_count": 2,
   "metadata": {},
   "outputs": [
    {
     "data": {
      "text/plain": [
       "2×2 Rotation:\n",
       " 0.995004   -0.0998334\n",
       " 0.0998334   0.995004"
      ]
     },
     "metadata": {},
     "output_type": "display_data"
    }
   ],
   "source": [
    "struct Rotation <: AbstractMatrix{Float64}\n",
    "    θ::Float64 # The ::Float64 means θ can only be a Float64\n",
    "end\n",
    "\n",
    "import Base: *, size, getindex\n",
    "\n",
    "size(Q::Rotation) = (2, 2)\n",
    "\n",
    "function *(Q::Rotation, x::AbstractVector)\n",
    "    if length(x) ≠ 2\n",
    "        error(\"dimension mismatch\")\n",
    "    end\n",
    "    θ = Q.θ\n",
    "    c,s = cos(θ), sin(θ)\n",
    "    a,b = x # special syntax so that a == x[1] and b == x[2]\n",
    "    [c*a - s*b, s*a + c*b]\n",
    "end\n",
    "\n",
    "function getindex(Q::Rotation, k::Int, j::Int)\n",
    "    # We use the overloaded * above as we will follow this pattern later.\n",
    "    e_k = zeros(2)\n",
    "    e_j = zeros(2)\n",
    "    e_k[k] = 1  # will error if k ≠ 1 or 2\n",
    "    e_j[j] = 1  # will error if j ≠ 1 or 2\n",
    "    e_k'*(Q*e_j)\n",
    "end\n",
    "\n",
    "Q = Rotation(0.1)"
   ]
  },
  {
   "cell_type": "markdown",
   "metadata": {},
   "source": [
    "We can test the ability to rotate a vector to the $x$-axis. Here we use the inbuilt `atan(y,x)` function\n",
    "to compute the angle of a vector:"
   ]
  },
  {
   "cell_type": "code",
   "execution_count": 3,
   "metadata": {},
   "outputs": [
    {
     "data": {
      "text/plain": [
       "2-element Vector{Float64}:\n",
       " 2.23606797749979\n",
       " 0.0"
      ]
     },
     "metadata": {},
     "output_type": "display_data"
    }
   ],
   "source": [
    "x = [-1,-2]\n",
    "θ = atan(x[2], x[1]) # angle of the vector x\n",
    "Q = Rotation(-θ) # rotate back\n",
    "Q * x # first entry is norm(x), second entry is 0"
   ]
  },
  {
   "cell_type": "markdown",
   "metadata": {},
   "source": [
    "-----"
   ]
  },
  {
   "cell_type": "markdown",
   "metadata": {},
   "source": [
    "**Problem 1** Complete the implementation of `Rotations`, which represents an orthogonal matrix `Q` that is a product\n",
    "of rotations of angle `θ[k]`, each acting on the entries `k:k+1`. That is, it returns $Q = Q_1⋯Q_k$ such that\n",
    "$$\n",
    "Q_k[k:k+1,k:k+1] =\n",
    "\\begin{bmatrix}\n",
    "\\cos θ[k] & -\\sin θ[k]\\\\\n",
    "\\sin θ[k] & \\cos θ[k]\n",
    "\\end{bmatrix}\n",
    "$$\n",
    "with all other entries being equivalent to the identity."
   ]
  },
  {
   "cell_type": "code",
   "execution_count": 4,
   "metadata": {},
   "outputs": [
    {
     "data": {
      "text/plain": [
       "\u001b[32m\u001b[1mTest Passed\u001b[22m\u001b[39m"
      ]
     },
     "metadata": {},
     "output_type": "display_data"
    }
   ],
   "source": [
    "struct Rotations <: AbstractMatrix{Float64}\n",
    "    θ::Vector{Float64} # a vector of angles\n",
    "end\n",
    "\n",
    "\n",
    "\n",
    "# we use the number of rotations to deduce the dimensions of the matrix\n",
    "size(Q::Rotations) = (length(Q.θ)+1, length(Q.θ)+1)\n",
    "\n",
    "function *(Q::Rotations, x::AbstractVector)\n",
    "    # TODO: Apply Q in O(n) operations. You may assume x has Float64 entries.\n",
    "    # Hint: you may wish to use copy(x) and only change the relevant entries.\n",
    "    # SOLUTION\n",
    "    y = copy(x) # copies x to a new Vector\n",
    "    θ = Q.θ\n",
    "    # Does Q1....Qn x\n",
    "    for k = length(θ):-1:1\n",
    "        #below has 4 ops to make the matrix and 12 to do the matrix-vector multiplication,\n",
    "        #total operations will be 48n = O(n)\n",
    "        c, s = cos(θ[k]), sin(θ[k])\n",
    "        y[k:(k+1)] = [c -s; s c] * y[k:(k+1)]\n",
    "    end\n",
    "    # END\n",
    "\n",
    "    y\n",
    "end\n",
    "\n",
    "function getindex(Q::Rotations, k::Int, j::Int)\n",
    "    # TODO: Return Q[k,j] in O(n) operations using *.\n",
    "\n",
    "    # SOLUTION\n",
    "    # recall that A_kj = e_k'*A*e_j for any matrix A\n",
    "    # so if we use * above, this will take O(n) operations\n",
    "    n = size(Q)[1]\n",
    "    ej = zeros(eltype(Q), n)\n",
    "    ej[j] = 1\n",
    "    # note, must be careful to ensure that ej is a VECTOR\n",
    "    # not a MATRIX, otherwise * above will not be used\n",
    "    Qj = Q * ej\n",
    "    Qj[k]\n",
    "    # END\n",
    "end\n",
    "\n",
    "θ = randn(5)\n",
    "Q = Rotations(θ)\n",
    "@test Q'Q ≈ I\n",
    "@test Rotations([π/2, -π/2]) ≈ [0 0 -1; 1 0 0; 0 -1 0]"
   ]
  },
  {
   "cell_type": "markdown",
   "metadata": {},
   "source": [
    "------"
   ]
  },
  {
   "cell_type": "markdown",
   "metadata": {},
   "source": [
    "### III.4.2 Reflections"
   ]
  },
  {
   "cell_type": "markdown",
   "metadata": {},
   "source": [
    "We can also construct reflections, defined by a normalised vector $𝐯$ as\n",
    "$$\n",
    "Q_{𝐯} := I - 2𝐯𝐯^⋆\n",
    "$$\n",
    "The obvious way is to create a dense vector, eg."
   ]
  },
  {
   "cell_type": "code",
   "execution_count": 5,
   "metadata": {},
   "outputs": [
    {
     "data": {
      "text/plain": [
       "5×5 Matrix{Float64}:\n",
       "  0.56649   -0.387076   0.668885   -0.222244    0.180171\n",
       " -0.387076   0.654385   0.59724    -0.198439    0.160872\n",
       "  0.668885   0.59724   -0.0320581   0.342912   -0.277995\n",
       " -0.222244  -0.198439   0.342912    0.886064    0.0923668\n",
       "  0.180171   0.160872  -0.277995    0.0923668   0.925119"
      ]
     },
     "metadata": {},
     "output_type": "display_data"
    }
   ],
   "source": [
    "x = randn(5) # vector we want to reflect\n",
    "v = x/norm(x) # normalise x\n",
    "Q = I - 2v*v' # a reflection matrix"
   ]
  },
  {
   "cell_type": "markdown",
   "metadata": {},
   "source": [
    "Note `I` is a special convenience type that represents the identity matrix for any dimension."
   ]
  },
  {
   "cell_type": "markdown",
   "metadata": {},
   "source": [
    "A special type of reflection is a Householder reflection, which maps a vector to the $x$-axis.\n",
    "Using dense matrices we can construct it as follows:"
   ]
  },
  {
   "cell_type": "code",
   "execution_count": 6,
   "metadata": {},
   "outputs": [
    {
     "data": {
      "text/plain": [
       "3-element Vector{ComplexF64}:\n",
       "    -2.4683749000790773 + 1.289578451561363im\n",
       "  3.582170714013061e-16 + 2.76507849643519e-16im\n",
       " -5.705222308530964e-17 - 7.771534892105264e-17im"
      ]
     },
     "metadata": {},
     "output_type": "display_data"
    }
   ],
   "source": [
    "function dense_householderreflection(x)\n",
    "    y = copy(x)\n",
    "    if x[1] == 0\n",
    "        y[1] += norm(x)\n",
    "    else # note sign(z) = exp(im*angle(z)) where `angle` is the argument of a complex number\n",
    "        y[1] += sign(x[1])*norm(x)\n",
    "    end\n",
    "    w = y/norm(y)\n",
    "    I - 2*w*w'\n",
    "end\n",
    "\n",
    "\n",
    "x = randn(3) + im*randn(3)\n",
    "Q = dense_householderreflection(x)\n",
    "Q * x # all the entries apart from the first are numerically zero"
   ]
  },
  {
   "cell_type": "markdown",
   "metadata": {},
   "source": [
    "A matrix-vector product is $O(n^2)$ operations but we know we can reduce it to $O(n)$.\n",
    "Thus we will create a special type to represent the reflection and obtain the better complexity\n",
    "multiplication. Because we want the matrix to be real when the entries are real we will use\n",
    "a special feature called \"templating\". Here by adding the `{T}` after the type we allow this to\n",
    "be either a `Float64` or `ComplexF64` (or indeed a `BigFloat`). We also do some checking\n",
    "to make sure that our defining vector is already normalised."
   ]
  },
  {
   "cell_type": "code",
   "execution_count": 7,
   "metadata": {},
   "outputs": [
    {
     "data": {
      "text/plain": [
       "* (generic function with 290 methods)"
      ]
     },
     "metadata": {},
     "output_type": "display_data"
    }
   ],
   "source": [
    "struct Reflection{T} <: AbstractMatrix{T}\n",
    "    v::Vector{T} # T can be either a Float64 or ComplexF64\n",
    "end\n",
    "\n",
    "function Reflection(v::Vector)\n",
    "    T = eltype(v) # find the type of the entries of v\n",
    "    if !(norm(v) ≈ 1)\n",
    "        error(\"input must be normalised\")\n",
    "    end\n",
    "    Reflection{T}(v) # create an instance of Reflection, specifying the entry type\n",
    "end\n",
    "\n",
    "\n",
    "## Implementations of Reflection * AbstractMatrix\n",
    "function *(Q::Reflection, X::AbstractMatrix)\n",
    "    T = promote_type(eltype(Q), eltype(X))\n",
    "    m,n = size(X)\n",
    "    ret = zeros(T, m, n)\n",
    "    for j = 1:n\n",
    "        ret[:,j] = Q * X[:,j]\n",
    "    end\n",
    "    ret\n",
    "end"
   ]
  },
  {
   "cell_type": "markdown",
   "metadata": {},
   "source": [
    "-----"
   ]
  },
  {
   "cell_type": "markdown",
   "metadata": {},
   "source": [
    "**Problem 2(a)** Complete the implementation of a type representing an n × n\n",
    "reflection that supports `Q[k,j]` in $O(1)$ operations and `*` in $O(n)$ operations.\n",
    "The reflection may be complex (that is, $Q ∈ U(n)$ is unitary)."
   ]
  },
  {
   "cell_type": "code",
   "execution_count": 8,
   "metadata": {},
   "outputs": [
    {
     "data": {
      "text/plain": [
       "\u001b[32m\u001b[1mTest Passed\u001b[22m\u001b[39m"
      ]
     },
     "metadata": {},
     "output_type": "display_data"
    }
   ],
   "source": [
    "# Represents I - 2v*v'\n",
    "\n",
    "\n",
    "size(Q::Reflection) = (length(Q.v),length(Q.v))\n",
    "\n",
    "# getindex(Q, k, j) is synonym for Q[k,j]\n",
    "function getindex(Q::Reflection, k::Int, j::Int)\n",
    "    # TODO: implement Q[k,j] == (I - 2v*v')[k,j] but using O(1) operations.\n",
    "    # Hint: the function `conj` gives the complex-conjugate\n",
    "    # SOLUTION\n",
    "    if k == j\n",
    "        1 - 2Q.v[k]*conj(Q.v[j])\n",
    "    else\n",
    "        - 2Q.v[k]*conj(Q.v[j])\n",
    "    end\n",
    "    # END\n",
    "end\n",
    "function *(Q::Reflection, x::AbstractVector)\n",
    "    # TODO: implement Q*x, equivalent to (I - 2v*v')*x but using only O(n) operations\n",
    "    # SOLUTION\n",
    "    x - 2*Q.v * dot(Q.v,x) # (Q.v'*x) also works instead of dot\n",
    "    # END\n",
    "end\n",
    "\n",
    "# If your code is correct, these \"unit tests\" will succeed\n",
    "n = 10\n",
    "x = randn(n) + im*randn(n)\n",
    "v = x/norm(x)\n",
    "Q = Reflection(v)\n",
    "@test Q == I-2v*v'\n",
    "@test Q'Q ≈ I\n",
    "\n",
    "\n",
    "# We can scale to very large sizes. here we check the reflection property on an 100_000 matrix:\n",
    "n = 100_000\n",
    "x = randn(n) + im*randn(n)\n",
    "v = x/norm(x)\n",
    "Q = Reflection(v)\n",
    "@test Q*x ≈ -x"
   ]
  },
  {
   "cell_type": "markdown",
   "metadata": {},
   "source": [
    "**Problem 2(b)** Complete the following implementation of a Housholder reflection  so that the\n",
    "unit tests pass, using the `Reflection` type created above.\n",
    "Here `s == true` means the Householder reflection is sent to the positive axis and `s == false` is the negative axis.\n",
    "You may assume `x` has real entries."
   ]
  },
  {
   "cell_type": "code",
   "execution_count": 9,
   "metadata": {},
   "outputs": [
    {
     "data": {
      "text/plain": [
       "\u001b[32m\u001b[1mTest Passed\u001b[22m\u001b[39m"
      ]
     },
     "metadata": {},
     "output_type": "display_data"
    }
   ],
   "source": [
    "function householderreflection(s::Bool, x::AbstractVector)\n",
    "    # TODO: return a Reflection corresponding to a Householder reflection\n",
    "    # SOLUTION\n",
    "    y = copy(x) # don't modify x\n",
    "    if s\n",
    "        y[1] -= norm(x)\n",
    "    else\n",
    "        y[1] += norm(x)\n",
    "    end\n",
    "    Reflection(y/norm(y))\n",
    "    # END\n",
    "end\n",
    "\n",
    "x = randn(5)\n",
    "Q = householderreflection(true, x)\n",
    "@test Q isa Reflection\n",
    "@test Q*x ≈ [norm(x);zeros(eltype(x),length(x)-1)]\n",
    "\n",
    "Q = householderreflection(false, x)\n",
    "@test Q isa Reflection\n",
    "@test Q*x ≈ [-norm(x);zeros(eltype(x),length(x)-1)]"
   ]
  },
  {
   "cell_type": "markdown",
   "metadata": {},
   "source": [
    "**Problem 2(c)**\n",
    "Complete the definition of `Reflections` which supports a sequence of reflections,\n",
    "that is,\n",
    "$$\n",
    "Q = Q_{𝐯_1} ⋯ Q_{𝐯_m}\n",
    "$$\n",
    "where the vectors are stored as a matrix $V ∈ ℂ^{n × m}$ whose $j$-th column is $𝐯_j∈ ℂ^n$, and\n",
    "$$\n",
    "Q_{𝐯_j} = I - 2 𝐯_j 𝐯_j^⋆\n",
    "$$\n",
    "is a reflection."
   ]
  },
  {
   "cell_type": "code",
   "execution_count": 10,
   "metadata": {},
   "outputs": [
    {
     "data": {
      "text/plain": [
       "\u001b[32m\u001b[1mTest Passed\u001b[22m\u001b[39m"
      ]
     },
     "metadata": {},
     "output_type": "display_data"
    }
   ],
   "source": [
    "struct Reflections{T} <: AbstractMatrix{T}\n",
    "    V::Matrix{T} # Columns of V are the householder vectors\n",
    "end\n",
    "\n",
    "size(Q::Reflections) = (size(Q.V,1), size(Q.V,1))\n",
    "\n",
    "\n",
    "function *(Q::Reflections, x::AbstractVector)\n",
    "    # TODO: Apply Q in O(mn) operations by applying\n",
    "    # the reflection corresponding to each column of Q.V to x\n",
    "\n",
    "    # SOLUTION\n",
    "    m,n = size(Q.V)\n",
    "    for j = n:-1:1\n",
    "        x = Reflection(Q.V[:, j]) * x\n",
    "    end\n",
    "    # END\n",
    "\n",
    "    x\n",
    "end\n",
    "\n",
    "\n",
    "## Implementations of Reflections * AbstractMatrix\n",
    "function *(Q::Reflections, X::AbstractMatrix)\n",
    "    T = promote_type(eltype(Q), eltype(X))\n",
    "    m,n = size(X)\n",
    "    ret = zeros(T, m, n)\n",
    "    for j = 1:n\n",
    "        ret[:,j] = Q * X[:,j]\n",
    "    end\n",
    "    ret\n",
    "end\n",
    "\n",
    "\n",
    "function getindex(Q::Reflections, k::Int, j::Int)\n",
    "    # TODO: Return Q[k,j] in O(mn) operations (hint: use *)\n",
    "\n",
    "    # SOLUTION\n",
    "    T = eltype(Q.V)\n",
    "    m,n = size(Q)\n",
    "    eⱼ = zeros(T, m)\n",
    "    eⱼ[j] = one(T)\n",
    "    return (Q*eⱼ)[k]\n",
    "    # END\n",
    "end\n",
    "\n",
    "import LinearAlgebra: adjoint\n",
    "function adjoint(Q::Reflections) # called when calling Q'\n",
    "    # TODO: return the adjoint as a Reflections\n",
    "    # SOLUTION\n",
    "    Reflections(Q.V[:,end:-1:1])\n",
    "    # END\n",
    "end\n",
    "\n",
    "Y = randn(5,3)\n",
    "V = Y * Diagonal([1/norm(Y[:,j]) for j=1:3])\n",
    "Q = Reflections(V)\n",
    "@test Q ≈ (I - 2V[:,1]*V[:,1]')*(I - 2V[:,2]*V[:,2]')*(I - 2V[:,3]*V[:,3]')\n",
    "@test Q' isa Reflections\n",
    "@test Q' ≈ (I - 2V[:,3]*V[:,3]')*(I - 2V[:,2]*V[:,2]')*(I - 2V[:,1]*V[:,1]')\n",
    "@test Q'Q ≈ I"
   ]
  },
  {
   "cell_type": "markdown",
   "metadata": {},
   "source": [
    "-----"
   ]
  },
  {
   "cell_type": "markdown",
   "metadata": {},
   "source": [
    "## III.5 QR Factorisation"
   ]
  },
  {
   "cell_type": "markdown",
   "metadata": {},
   "source": [
    "The QR factorisation of a matrix $A ∈ ℂ^{m × n}$ is of the form\n",
    "$$\n",
    "A = QR\n",
    "$$\n",
    "where $Q$ is unitary and $R$ is right-triangular: all entries below the diagonal are zero. We focus on the case where $m ≥ n$.\n",
    "It can be computed using Gram–Schmidt, Householder reflections or rotations."
   ]
  },
  {
   "cell_type": "markdown",
   "metadata": {},
   "source": [
    "### III.5.1 Reduced QR and Gram–Schmidt"
   ]
  },
  {
   "cell_type": "markdown",
   "metadata": {},
   "source": [
    "The Gram–Schmidt process can be used to compute the QR factorisation by orthogonalising the columns\n",
    "of $A$ in sequence. We won't discuss this in more detail as it is numerically better to use reflections/rotations."
   ]
  },
  {
   "cell_type": "markdown",
   "metadata": {},
   "source": [
    "### III.5.2 Householder reflections and QR"
   ]
  },
  {
   "cell_type": "markdown",
   "metadata": {},
   "source": [
    "In the notes we use Householder reflections to prove that a QR factorisation exists. That is,\n",
    "Then we compute a householder $Q_1$ reflection corresponding to the first row\n",
    "and write\n",
    "$$\n",
    "Q_1A = \\begin{bmatrix} α & 𝐰^⊤ \\\\\n",
    "           & A_2 \\end{bmatrix}\n",
    "$$\n",
    "The iterative proof actually encodes an algorithm, which we can implement as follows:"
   ]
  },
  {
   "cell_type": "code",
   "execution_count": 11,
   "metadata": {},
   "outputs": [
    {
     "data": {
      "text/plain": [
       "\u001b[32m\u001b[1mTest Passed\u001b[22m\u001b[39m"
      ]
     },
     "metadata": {},
     "output_type": "display_data"
    }
   ],
   "source": [
    "function householderqr(A)\n",
    "    T = eltype(A)\n",
    "    m,n = size(A)\n",
    "    if n > m\n",
    "        error(\"More columns than rows is not supported\")\n",
    "    end\n",
    "\n",
    "    R = zeros(T, m, n)\n",
    "    Q = Matrix(one(T)*I, m, m)\n",
    "    Aⱼ = copy(A) # initate the recurrence with the full matrix\n",
    "\n",
    "    for j = 1:n\n",
    "        𝐚₁ = Aⱼ[:,1] # first columns of Aⱼ\n",
    "        Q₁ = dense_householderreflection(𝐚₁)\n",
    "        Q₁Aⱼ = Q₁*Aⱼ # multiply Aⱼ by the Householder reflection\n",
    "        α,𝐰 = Q₁Aⱼ[1,1],Q₁Aⱼ[1,2:end]\n",
    "\n",
    "        # populate returned data\n",
    "        R[j,j] = α\n",
    "        R[j,j+1:end] = 𝐰\n",
    "\n",
    "        # following is equivalent to Q = Q*[I 0 ; 0 Qⱼ]\n",
    "        Q[:,j:end] = Q[:,j:end]*Q₁\n",
    "\n",
    "        Aⱼ = Q₁Aⱼ[2:end,2:end] # this is the \"induction\", we get out the bottom right block of Q₁*Aⱼ\n",
    "    end\n",
    "    Q,R\n",
    "end\n",
    "\n",
    "m,n = 100,50\n",
    "A = randn(m,n)\n",
    "Q,R = householderqr(A)\n",
    "@test Q'Q ≈ I\n",
    "@test Q*R ≈ A"
   ]
  },
  {
   "cell_type": "markdown",
   "metadata": {},
   "source": [
    "Note because we are forming a full matrix representation of each Householder\n",
    "reflection this is a slow algorithm: it uses $O(m^2 n^2)$ operations, which is too many!\n",
    "By being more careful about how we apply and store reflections we can avoid this,\n",
    "in particular, taking advantage of the types `Reflection` and `Reflections`."
   ]
  },
  {
   "cell_type": "markdown",
   "metadata": {},
   "source": [
    "------"
   ]
  },
  {
   "cell_type": "markdown",
   "metadata": {},
   "source": [
    "**Problem 3** Complete the following function that implements\n",
    "Householder QR for a real matrix $A ∈ ℝ^{m × n}$ where $m ≥ n$ using only $O(mn^2)$ operations, using\n",
    " `Reflection` and `Reflections`."
   ]
  },
  {
   "cell_type": "code",
   "execution_count": 12,
   "metadata": {},
   "outputs": [
    {
     "data": {
      "text/plain": [
       "\u001b[32m\u001b[1mTest Passed\u001b[22m\u001b[39m"
      ]
     },
     "metadata": {},
     "output_type": "display_data"
    }
   ],
   "source": [
    "function householderqr(A)\n",
    "    T = eltype(A)\n",
    "    m,n = size(A)\n",
    "    if n > m\n",
    "        error(\"More columns than rows is not supported\")\n",
    "    end\n",
    "\n",
    "    R = zeros(T, m, n)\n",
    "    Q = Reflections(zeros(T, m, n))\n",
    "    Aⱼ = copy(A)\n",
    "\n",
    "    for j = 1:n\n",
    "        # TODO: rewrite householder QR to use Reflection,\n",
    "        # Reflections and householderreflection, in a way that one achieves O(mn^2) operations\n",
    "        # SOLUTION\n",
    "        𝐚₁ = Aⱼ[:,1] # first columns of Aⱼ\n",
    "        Q₁ = householderreflection(𝐚₁[1] < 0, 𝐚₁)\n",
    "        Q₁Aⱼ = Q₁*Aⱼ\n",
    "        α,𝐰 = Q₁Aⱼ[1,1],Q₁Aⱼ[1,2:end]\n",
    "        Aⱼ₊₁ = Q₁Aⱼ[2:end,2:end]\n",
    "\n",
    "        # populate returned data\n",
    "        R[j,j] = α\n",
    "        R[j,j+1:end] = 𝐰\n",
    "\n",
    "        Q.V[j:end, j] = Q₁.v\n",
    "\n",
    "        Aⱼ = Aⱼ₊₁ # this is the \"induction\"\n",
    "        # END\n",
    "    end\n",
    "    Q,R\n",
    "end\n",
    "\n",
    "A = randn(600,400)\n",
    "Q,R = householderqr(A)\n",
    "@test Q*R ≈ A"
   ]
  },
  {
   "cell_type": "markdown",
   "metadata": {},
   "source": [
    "------\n",
    "### Given's Rotations and QR"
   ]
  },
  {
   "cell_type": "markdown",
   "metadata": {},
   "source": [
    "An alternative to using reflections to introduce zeros is to use rotations, which\n",
    "are called Given's Rotations.\n",
    "This is particularly convenient for tridiagonal matrices, where one needs to only\n",
    "make one sub-diagonal zero. Here we explore a tridiagonal QR built from rotations\n",
    "in a way that the factorisation can be computed in $O(n)$ operations."
   ]
  },
  {
   "cell_type": "markdown",
   "metadata": {},
   "source": [
    "-----"
   ]
  },
  {
   "cell_type": "markdown",
   "metadata": {},
   "source": [
    "**Problem 4** This problem explores computing  a QR factorisation of a Tridiagonal matrix in $O(n)$ operations.\n",
    "This will introduce entries in the second super-diagonal, hence we will use the `UpperTridiagonal` type\n",
    "from Lab 6 (solution copied below). Complete the implementation of `bandedqr`, that only takes $O(n)$ operations,\n",
    "using an instance of `Reflections` to represent `Q` and `UpperTriangular` to represent `R`."
   ]
  },
  {
   "cell_type": "code",
   "execution_count": 13,
   "metadata": {},
   "outputs": [
    {
     "data": {
      "text/plain": [
       "\u001b[32m\u001b[1mTest Passed\u001b[22m\u001b[39m"
      ]
     },
     "metadata": {},
     "output_type": "display_data"
    }
   ],
   "source": [
    "import Base: *, size, getindex, setindex!\n",
    "struct UpperTridiagonal{T} <: AbstractMatrix{T}\n",
    "    d::Vector{T}   # diagonal entries\n",
    "    du::Vector{T}  # super-diagonal enries\n",
    "    du2::Vector{T} # second-super-diagonal entries\n",
    "end\n",
    "\n",
    "size(U::UpperTridiagonal) = (length(U.d),length(U.d))\n",
    "\n",
    "function getindex(U::UpperTridiagonal, k::Int, j::Int)\n",
    "    d,du,du2 = U.d,U.du,U.du2\n",
    "    if j - k == 0\n",
    "        d[j]\n",
    "    elseif j - k == 1\n",
    "        du[k]\n",
    "    elseif j - k == 2\n",
    "        du2[k]\n",
    "    else\n",
    "        0\n",
    "    end\n",
    "end\n",
    "\n",
    "function setindex!(U::UpperTridiagonal, v, k::Int, j::Int)\n",
    "    d,du,du2 = U.d,U.du,U.du2\n",
    "    if j > k+2\n",
    "        error(\"Cannot modify off-band\")\n",
    "    end\n",
    "    if j - k == 0\n",
    "        d[k] = v\n",
    "    elseif j - k == 1\n",
    "        du[k] = v\n",
    "    elseif j - k == 2\n",
    "        du2[k] = v\n",
    "    else\n",
    "        error(\"Cannot modify off-band\")\n",
    "    end\n",
    "    U # by convention we return the matrix\n",
    "end\n",
    "\n",
    "\n",
    "function bandedqr(A::Tridiagonal)\n",
    "    n = size(A, 1)\n",
    "    Q = Rotations(zeros(n - 1)) # Assume Float64\n",
    "    R = UpperTridiagonal(zeros(n), zeros(n - 1), zeros(n - 2))\n",
    "\n",
    "    # TODO: Populate Q and R by looping through the columns of A.\n",
    "\n",
    "    # SOLUTION\n",
    "    # In what follows we use both A and R simultaneously, where R\n",
    "    # represents the upper-triangular part of the modified A, up to rows j.\n",
    "    # At each stage we apply the rotation Q_j that introduces a zero\n",
    "    # in the (j+1,j) entry of A.\n",
    "\n",
    "    # To begin with we haven't applied Q so R contains just the first row of A.\n",
    "\n",
    "    R[1, 1:2] = A[1, 1:2]\n",
    "\n",
    "    for j = 1:n-1\n",
    "        # We determine the angle of rotation. Note R contains the updated entries\n",
    "        # on or above the diagonal whilst A containss the unmodified entries below the diagonal.\n",
    "        x_1 = [R[j, j], A[j+1, j]]\n",
    "        Q.θ[j] = atan(x_1[2], x_1[1])\n",
    "        Q_1 = Rotation(-Q.θ[j]) # rotate in opposite direction\n",
    "        # Q satisfies Q*[ R[j,j],A[j+1,j]] = [sqrt(R[j,j]^2+A[j+1,j]^2), 0]\n",
    "        # Or we can just write this as:\n",
    "        R[j, j] = (Q_1 * x_1)[1]\n",
    "\n",
    "        # We now apply this to the rest of the columns to update R.\n",
    "        x_2 = [R[j, j+1]; A[j+1, j+1]]\n",
    "        R[j:j+1, j+1] = Q_1 * x_2\n",
    "\n",
    "        if j < n - 1 # need to avoid going beyond the dimension\n",
    "            # We use the fact that A is banded so there is a 0.\n",
    "            x_3 = [0, A[j+1, j+2]]\n",
    "            R[j:j+1, j+2] = Q_1 * x_3\n",
    "        end\n",
    "    end\n",
    "    # END\n",
    "    Q, R\n",
    "end\n",
    "\n",
    "A = Tridiagonal([1, 2, 3, 4], [1, 2, 3, 4, 5], [1, 2, 3, 4])\n",
    "Q, R = bandedqr(A)\n",
    "@test Q*R ≈ A"
   ]
  },
  {
   "cell_type": "markdown",
   "metadata": {},
   "source": [
    "### III.5.3 QR and least squares"
   ]
  },
  {
   "cell_type": "markdown",
   "metadata": {},
   "source": [
    "When we type `A \\ b` with a rectangular matrix `A` it is\n",
    "solving a least squares system, and behind the scenes it is using a QR factorisation.\n",
    "We can see this via the inbulit `qr` function"
   ]
  },
  {
   "cell_type": "code",
   "execution_count": 14,
   "metadata": {},
   "outputs": [
    {
     "data": {
      "text/plain": [
       "LinearAlgebra.QRCompactWY{Float64, Matrix{Float64}, Matrix{Float64}}\n",
       "Q factor: 200×200 LinearAlgebra.QRCompactWYQ{Float64, Matrix{Float64}, Matrix{Float64}}\n",
       "R factor:\n",
       "100×100 Matrix{Float64}:\n",
       " 14.7009  -1.00182   -0.881068  …   0.659135    0.703146    0.96148\n",
       "  0.0     14.9251     1.96943       1.31943    -1.67225    -0.772697\n",
       "  0.0      0.0      -13.2333        1.10222     1.62371    -0.243276\n",
       "  0.0      0.0        0.0           0.385347   -0.230373   -0.833128\n",
       "  0.0      0.0        0.0           0.397567   -1.8211     -0.352376\n",
       "  0.0      0.0        0.0       …  -0.603494    0.453395    0.106278\n",
       "  0.0      0.0        0.0          -1.22138    -0.111057    0.0593717\n",
       "  0.0      0.0        0.0           0.0738789   0.0618384  -0.663415\n",
       "  0.0      0.0        0.0           0.211904    1.84212     0.484474\n",
       "  0.0      0.0        0.0          -1.01366    -0.230764   -1.06443\n",
       "  ⋮                             ⋱                          \n",
       "  0.0      0.0        0.0           0.110101   -1.8227      0.645427\n",
       "  0.0      0.0        0.0           0.423156    1.50766     0.24574\n",
       "  0.0      0.0        0.0           1.00358     0.775653   -0.0729217\n",
       "  0.0      0.0        0.0           0.152305   -1.63958     0.970094\n",
       "  0.0      0.0        0.0       …   0.968762    1.66165     0.0395001\n",
       "  0.0      0.0        0.0          -1.37167    -0.69914     1.19328\n",
       "  0.0      0.0        0.0          -9.14876     1.24982    -0.177627\n",
       "  0.0      0.0        0.0           0.0        10.1835     -0.65084\n",
       "  0.0      0.0        0.0           0.0         0.0         9.2541"
      ]
     },
     "metadata": {},
     "output_type": "display_data"
    }
   ],
   "source": [
    "A = randn(200,100)\n",
    "b = randn(200)\n",
    "\n",
    "Q,R̂ = qr(A)"
   ]
  },
  {
   "cell_type": "markdown",
   "metadata": {},
   "source": [
    "Here `Q` is a special type representing an orthogonal matrix.\n",
    "`R̂` is an `UpperTriangular`, that is, we only store the upper triangular\n",
    "entries of `R` (which is the same as the reduced QR factorisation).\n",
    "Thus to solve a least squares problem we need to drop the extra entries as\n",
    "follows:"
   ]
  },
  {
   "cell_type": "code",
   "execution_count": 15,
   "metadata": {},
   "outputs": [
    {
     "data": {
      "text/plain": [
       "\u001b[32m\u001b[1mTest Passed\u001b[22m\u001b[39m"
      ]
     },
     "metadata": {},
     "output_type": "display_data"
    }
   ],
   "source": [
    "c = Q'b # invert Q\n",
    "c̃ = c[1:size(R̂,1)] # drop extra entries\n",
    "@test A \\ b ≈ R̂ \\ c̃"
   ]
  },
  {
   "cell_type": "markdown",
   "metadata": {},
   "source": [
    "**Problem 5** Complete the function `leastsquares(A, b)` that uses your\n",
    "`householderqr` function to solve a least squares problem."
   ]
  },
  {
   "cell_type": "code",
   "execution_count": 16,
   "metadata": {},
   "outputs": [
    {
     "data": {
      "text/plain": [
       "\u001b[32m\u001b[1mTest Passed\u001b[22m\u001b[39m"
      ]
     },
     "metadata": {},
     "output_type": "display_data"
    }
   ],
   "source": [
    "function leastsquares(A, b)\n",
    "    # TODO: use householderqr to solve a least squares problem.\n",
    "    # SOLUTION\n",
    "    m,n = size(A)\n",
    "    Q, R = householderqr(A)\n",
    "    UpperTriangular(R[1:n,1:n])\\(Q'b)[1:n]\n",
    "    # END\n",
    "end\n",
    "\n",
    "@test A\\b ≈ leastsquares(A,b)"
   ]
  },
  {
   "cell_type": "markdown",
   "metadata": {},
   "source": [
    "---\n",
    "\n",
    "*This notebook was generated using [Literate.jl](https://github.com/fredrikekre/Literate.jl).*"
   ]
  }
 ],
 "metadata": {
  "kernelspec": {
   "display_name": "Julia 1.11.2",
   "language": "julia",
   "name": "julia-1.11"
  },
  "language_info": {
   "file_extension": ".jl",
   "mimetype": "application/julia",
   "name": "julia",
   "version": "1.11.2"
  }
 },
 "nbformat": 4,
 "nbformat_minor": 3
}
