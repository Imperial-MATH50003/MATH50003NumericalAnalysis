{
 "cells": [
  {
   "cell_type": "markdown",
   "metadata": {},
   "source": [
    "# MATH50003 (2024–25)\n",
    "# Lab 4: II.3 Interval Arithmetic and III.1 Structured Matrices"
   ]
  },
  {
   "cell_type": "markdown",
   "metadata": {},
   "source": [
    "This lab explores the usage of rounding modes for floating point arithmetic and how they\n",
    "can be used to compute _rigorous_ bounds on mathematical constants such as `ℯ`.\n",
    "The key idea is using _interval arithmetic_ to compute the Taylor series which is\n",
    "combined with a bound on the error caused by truncating a Taylor series.\n",
    "As a fun example, we compute the first 1000 digits of `ℯ`, backed up by a rigorous\n",
    "computation."
   ]
  },
  {
   "cell_type": "markdown",
   "metadata": {},
   "source": [
    "We also explore the construction of vectors and matrices, in particular those with sparsity structure\n",
    "such as triangular, diagonal, bidiagonal and tridiagonal\n",
    "which we capture using special types."
   ]
  },
  {
   "cell_type": "markdown",
   "metadata": {},
   "source": [
    "**Learning Outcomes**\n",
    "\n",
    "Mathematical knowledge:\n",
    "\n",
    "2. Extending interval arithmetic operations to non-positive intervals.\n",
    "3. Combining interval arithmetic with Taylor series bounds for rigorous computations.\n",
    "1. Matrix multiplication, back- and forward-substitution.\n",
    "2. Banded matrices and their utilisation for better complexity linear algebra.\n",
    "\n",
    "Coding knowledge:\n",
    "\n",
    "3. The `promote` command for converting multiple variables to be the same type.\n",
    "4. Using `&&` for \"and\" and `||` for \"or\".\n",
    "1. Construction of a dense `Vector` or `Matrix` either directly or via comprehensions or broadcasting.\n",
    "2. The `vec`, `transpose`, `zeros`, `ones`, `fill`, `range`, `promote_type`, and `eltype` functions.\n",
    "3. Using `\\` to solve linear systems.\n",
    "4. The `Diagonal`, `Bidiagonal`, and `Tridiagonal` types for making banded matrices.\n",
    "5. Implementing a custom matrix type by subtyping `AbstractMatrix` and overloading `size`, `getindex`, and `setindex!`."
   ]
  },
  {
   "cell_type": "markdown",
   "metadata": {},
   "source": [
    "We need the following packages:"
   ]
  },
  {
   "cell_type": "code",
   "execution_count": 69,
   "metadata": {},
   "outputs": [
    {
     "data": {
      "text/html": [
       "sin(x::<b>T</b>)<i> where T<:Union{Float32, Float64}</i> in Base.Math at <a href=\"https://github.com/JuliaLang/julia/tree/5e9a32e7af2837e677e60543d4a15faa8d3a7297/base/special/trig.jl#L29\" target=\"_blank\">special/trig.jl:29</a>"
      ],
      "text/plain": [
       "sin(\u001b[90mx\u001b[39m::\u001b[1mT\u001b[22m) where T<:Union{Float32, Float64}\n",
       "\u001b[90m     @\u001b[39m \u001b[90mBase.Math\u001b[39m \u001b[90mspecial/\u001b[39m\u001b[90m\u001b[4mtrig.jl:29\u001b[24m\u001b[39m"
      ]
     },
     "execution_count": 69,
     "metadata": {},
     "output_type": "execute_result"
    }
   ],
   "source": [
    "foo(x) = x\n",
    "foo(x::Int) = 3\n",
    "\n",
    "@which sin(3.0)"
   ]
  },
  {
   "cell_type": "code",
   "execution_count": 67,
   "metadata": {},
   "outputs": [
    {
     "data": {
      "text/html": [
       "exp(x::<b>Union{Float16, Float32, Float64}</b>) in Base.Math at <a href=\"https://github.com/JuliaLang/julia/tree/5e9a32e7af2837e677e60543d4a15faa8d3a7297/base/special/exp.jl#L327\" target=\"_blank\">special/exp.jl:327</a>"
      ],
      "text/plain": [
       "exp(\u001b[90mx\u001b[39m::\u001b[1mUnion\u001b[22m\u001b[0m{Float16, Float32, Float64})\n",
       "\u001b[90m     @\u001b[39m \u001b[90mBase.Math\u001b[39m \u001b[90mspecial/\u001b[39m\u001b[90m\u001b[4mexp.jl:327\u001b[24m\u001b[39m"
      ]
     },
     "execution_count": 67,
     "metadata": {},
     "output_type": "execute_result"
    }
   ],
   "source": [
    "@which exp(1.0)"
   ]
  },
  {
   "cell_type": "code",
   "execution_count": 65,
   "metadata": {},
   "outputs": [],
   "source": [
    "\n",
    "using SetRounding, LinearAlgebra, Test"
   ]
  },
  {
   "cell_type": "code",
   "execution_count": 15,
   "metadata": {},
   "outputs": [
    {
     "data": {
      "text/plain": [
       "2.6666666666666665"
      ]
     },
     "execution_count": 15,
     "metadata": {},
     "output_type": "execute_result"
    }
   ],
   "source": [
    "x = 1.0\n",
    "setrounding(Float64, RoundDown) do\n",
    "    1 + x + x^2/2 + x^3/6 # every Float64 operation between do and end is rounded down\n",
    "end"
   ]
  },
  {
   "cell_type": "code",
   "execution_count": 16,
   "metadata": {},
   "outputs": [
    {
     "data": {
      "text/plain": [
       "2.666666666666667"
      ]
     },
     "execution_count": 16,
     "metadata": {},
     "output_type": "execute_result"
    }
   ],
   "source": [
    "setrounding(Float64, RoundUp) do\n",
    "      1 + x + x^2/2 + x^3/6 # every Float64 operation between do and end is rounded up\n",
    "end"
   ]
  },
  {
   "cell_type": "markdown",
   "metadata": {},
   "source": [
    "-----\n",
    "\n",
    "## II.3 Interval Arithmetic"
   ]
  },
  {
   "cell_type": "markdown",
   "metadata": {},
   "source": [
    "In lectures we introduced the idea of using set arithmetic to compute rigorous bounds on algorithms.\n",
    "To implement this in practice\n",
    "we will now create a Type to represent an interval $[a,b] = \\{x : a ≤ x ≤ b\\}$, which we will call `Interval`.\n",
    "We need fields for the left endpoint (`a`) and a right endpoint (`b`):"
   ]
  },
  {
   "cell_type": "code",
   "execution_count": 18,
   "metadata": {},
   "outputs": [
    {
     "data": {
      "text/plain": [
       "Interval(1.0, 1.0)"
      ]
     },
     "execution_count": 18,
     "metadata": {},
     "output_type": "execute_result"
    }
   ],
   "source": [
    "struct Interval # represents the set [a,b]\n",
    "    a # left endpoint\n",
    "    b # right endpoint\n",
    "end\n",
    "\n",
    "Interval(x) = Interval(x,x) # Support Interval(1) to represent [1,1]\n",
    "\n",
    "Interval(1.0)"
   ]
  },
  {
   "cell_type": "markdown",
   "metadata": {},
   "source": [
    "For example, if we say `X = Interval(1, 2)` this corresponds to the mathematical interval\n",
    "$[1, 2]$, and the fields are accessed via `X.a` and `X.b`.\n",
    "We will overload `*`, `+`, `-`, `/` to use interval arithmetic. That is, whenever we do arithmetic with\n",
    "an instance of `Interval` we want it to use correctly rounded interval variants.\n",
    "We also need to support `one` (a function that creates an interval containing a single point `1`)\n",
    "and `in` functions (a function to test if a number is within an interval).\n",
    "To overload these functions we need to import them as follows:"
   ]
  },
  {
   "cell_type": "code",
   "execution_count": 19,
   "metadata": {},
   "outputs": [],
   "source": [
    "import Base: *, +, -, ^, /, one, in"
   ]
  },
  {
   "cell_type": "markdown",
   "metadata": {},
   "source": [
    "We overload `in` as follows:"
   ]
  },
  {
   "cell_type": "code",
   "execution_count": 21,
   "metadata": {},
   "outputs": [
    {
     "data": {
      "text/plain": [
       "true"
      ]
     },
     "execution_count": 21,
     "metadata": {},
     "output_type": "execute_result"
    }
   ],
   "source": [
    "in(x, X::Interval) = X.a ≤ x ≤ X.b\n",
    "\n",
    "1 in Interval(1)"
   ]
  },
  {
   "cell_type": "code",
   "execution_count": 26,
   "metadata": {},
   "outputs": [
    {
     "data": {
      "text/plain": [
       "3.141592653589793"
      ]
     },
     "execution_count": 26,
     "metadata": {},
     "output_type": "execute_result"
    }
   ],
   "source": [
    "Float64(π)"
   ]
  },
  {
   "cell_type": "code",
   "execution_count": 24,
   "metadata": {},
   "outputs": [
    {
     "data": {
      "text/plain": [
       "true"
      ]
     },
     "execution_count": 24,
     "metadata": {},
     "output_type": "execute_result"
    }
   ],
   "source": [
    "π in Interval(Float64(π,RoundDown), Float64(π,RoundUp))"
   ]
  },
  {
   "cell_type": "markdown",
   "metadata": {},
   "source": [
    "The function `in` is whats called an \"infix\" operation (just like `+`, `-`, `*`, and `/`). We can call it\n",
    "either as `in(x, X)` or put the `in` in the middle and write `x in X`. This can be seen in the following:"
   ]
  },
  {
   "cell_type": "code",
   "execution_count": null,
   "metadata": {},
   "outputs": [],
   "source": [
    "X = Interval(2.0,3.3)\n",
    "# 2.5 in X is equivalent to in(2.5, X)\n",
    "# !(3.4 in X) is equivalent to !in(3.4, X)\n",
    "2.5 in X, !(3.4 in X)"
   ]
  },
  {
   "cell_type": "markdown",
   "metadata": {},
   "source": [
    "We can overload `one` as follows to create an interval corresponding to $[1,1]$.\n",
    "The `one(T)` function will create the \"multiplicative identity\"\n",
    "for a given type. For example `one(Int)` will return `1`, `one(Float64)` returns `1.0`,\n",
    "and `one(String)` returns \"\" (because `\"\" * \"any string\" == \"any string\"`):"
   ]
  },
  {
   "cell_type": "code",
   "execution_count": 28,
   "metadata": {},
   "outputs": [
    {
     "data": {
      "text/plain": [
       "(1, 1.0)"
      ]
     },
     "execution_count": 28,
     "metadata": {},
     "output_type": "execute_result"
    }
   ],
   "source": [
    "one(Int), one(Float64)"
   ]
  },
  {
   "cell_type": "code",
   "execution_count": 30,
   "metadata": {},
   "outputs": [
    {
     "data": {
      "text/plain": [
       "\"HI\""
      ]
     },
     "execution_count": 30,
     "metadata": {},
     "output_type": "execute_result"
    }
   ],
   "source": [
    " one(String) * \"HI\""
   ]
  },
  {
   "cell_type": "code",
   "execution_count": null,
   "metadata": {},
   "outputs": [],
   "source": [
    "one(Int), one(Int64), one(String)"
   ]
  },
  {
   "cell_type": "markdown",
   "metadata": {},
   "source": [
    "We can also just call it on an instance of the type:"
   ]
  },
  {
   "cell_type": "code",
   "execution_count": null,
   "metadata": {},
   "outputs": [],
   "source": [
    "one(2), one(2.0), one(\"any string\")"
   ]
  },
  {
   "cell_type": "markdown",
   "metadata": {},
   "source": [
    "For an interval the multiplicative identity is the interval whose lower and upper limit are both 1.\n",
    "To ensure its the right type we call `one(X.a)` and `one(X.b)`"
   ]
  },
  {
   "cell_type": "code",
   "execution_count": 44,
   "metadata": {},
   "outputs": [
    {
     "data": {
      "text/plain": [
       "one (generic function with 25 methods)"
      ]
     },
     "execution_count": 44,
     "metadata": {},
     "output_type": "execute_result"
    }
   ],
   "source": [
    "one(X::Interval) = Interval(one(X.a), one(X.b))"
   ]
  },
  {
   "cell_type": "markdown",
   "metadata": {},
   "source": [
    "Thus the following returns an interval whose endpoints are both `1.0`:"
   ]
  },
  {
   "cell_type": "code",
   "execution_count": null,
   "metadata": {},
   "outputs": [],
   "source": [
    "one(Interval(2.0,3.3))"
   ]
  },
  {
   "cell_type": "markdown",
   "metadata": {},
   "source": [
    "We now want to overload the operations `+`, `/` and `*` so that we can compute the Taylor\n",
    "series of `exp`. We begin with `+`."
   ]
  },
  {
   "cell_type": "code",
   "execution_count": 31,
   "metadata": {},
   "outputs": [
    {
     "data": {
      "text/plain": [
       "(5.0, 2.3, 2.099609375)"
      ]
     },
     "execution_count": 31,
     "metadata": {},
     "output_type": "execute_result"
    }
   ],
   "source": [
    "# promote makes all numbers the same type\n",
    "promote(5, 2.3, Float16(2.1)) # makes 3 Float64"
   ]
  },
  {
   "cell_type": "code",
   "execution_count": 33,
   "metadata": {},
   "outputs": [
    {
     "data": {
      "text/plain": [
       "Interval(3.5999999999999996, 3.6000000000000005)"
      ]
     },
     "execution_count": 33,
     "metadata": {},
     "output_type": "execute_result"
    }
   ],
   "source": [
    "function +(X::Interval, Y::Interval) # X = [a,b], Y = [c,d]\n",
    "    a,b,c,d = promote(X.a, X.b, Y.a, Y.b) # promote to makes sure all Float64\n",
    "    T = typeof(a) # the type of a,b,c,d\n",
    "    # any promote-like, type stuff will be given in an exam\n",
    "    α = setrounding(T, RoundDown) do\n",
    "        a + c\n",
    "    end # lower endpoint of X ⊕ Y\n",
    "    β = setrounding(T, RoundUp) do\n",
    "        b + d\n",
    "    end\n",
    "    Interval(α, β)\n",
    "end\n",
    "\n",
    "\n",
    "+(x::Number, Y::Interval) = Interval(x) + Y # Number is a supertype that contains Int, Float64, etc.\n",
    "+(X::Interval, y::Number) = X + Interval(y)\n",
    "\n",
    "\n",
    "# following example was the non-associative example but now we have bounds\n",
    "Interval(1.1) + Interval(1.2) + Interval(1.3)\n",
    "\n",
    "# note we are actually doing computations on ${\\rm fl}^{nearest}(1.1)$, etc.,\n",
    "# that is, we haven't accounted in the errors from making the constants."
   ]
  },
  {
   "cell_type": "markdown",
   "metadata": {},
   "source": [
    "We now implement division, checking that our assumptions\n",
    "are satified. Note that `&&` means \"and\" whilst `||` means \"or\",\n",
    "While `!` changes a `true` to `false` and vice-versa."
   ]
  },
  {
   "cell_type": "code",
   "execution_count": 34,
   "metadata": {},
   "outputs": [
    {
     "data": {
      "text/plain": [
       "Interval(0.3333333333333333, 0.6666666666666667)"
      ]
     },
     "execution_count": 34,
     "metadata": {},
     "output_type": "execute_result"
    }
   ],
   "source": [
    "function /(X::Interval, n::Int)\n",
    "    a,b = promote(X.a, X.b)\n",
    "    T = typeof(a)\n",
    "    if !(n > 0 && 0 < a ≤ b)\n",
    "        error(\"Input doesn't satisfy positivity assumptions\")\n",
    "    end\n",
    "    α = setrounding(T, RoundDown) do\n",
    "            a / n\n",
    "    end\n",
    "    β = setrounding(T, RoundUp) do\n",
    "            b / n\n",
    "    end\n",
    "    Interval(α, β)\n",
    "end\n",
    "\n",
    "Interval(1.0,2.0)/3 # rounds bottom down and top up"
   ]
  },
  {
   "cell_type": "markdown",
   "metadata": {},
   "source": [
    "Finally we overload `*` to behave like the operation `⊗`:"
   ]
  },
  {
   "cell_type": "code",
   "execution_count": 35,
   "metadata": {},
   "outputs": [
    {
     "data": {
      "text/plain": [
       "* (generic function with 288 methods)"
      ]
     },
     "execution_count": 35,
     "metadata": {},
     "output_type": "execute_result"
    }
   ],
   "source": [
    "function *(X::Interval, Y::Interval)\n",
    "    a,b,c,d = promote(X.a, X.b, Y.a, Y.b)\n",
    "    T = typeof(a)\n",
    "    if !(0 < a ≤ b && 0 < c ≤ d)\n",
    "        error(\"Input doesn't satisfy positivity assumptions\")\n",
    "    end\n",
    "    α = setrounding(T, RoundDown) do\n",
    "            a * c\n",
    "    end\n",
    "    β = setrounding(T, RoundUp) do\n",
    "            b * d\n",
    "    end\n",
    "    Interval(α, β)\n",
    "end"
   ]
  },
  {
   "cell_type": "markdown",
   "metadata": {},
   "source": [
    "Let's also support powers:"
   ]
  },
  {
   "cell_type": "code",
   "execution_count": 36,
   "metadata": {},
   "outputs": [
    {
     "data": {
      "text/plain": [
       "^ (generic function with 70 methods)"
      ]
     },
     "execution_count": 36,
     "metadata": {},
     "output_type": "execute_result"
    }
   ],
   "source": [
    "function ^(X::Interval, k::Int)\n",
    "    if k ≤ 0\n",
    "        error(\"not supported\")\n",
    "    elseif k == 1\n",
    "        X\n",
    "    else\n",
    "        X * X^(k-1)\n",
    "    end\n",
    "end"
   ]
  },
  {
   "cell_type": "markdown",
   "metadata": {},
   "source": [
    "We can now compute positive polynomials with interval arithmetic:"
   ]
  },
  {
   "cell_type": "code",
   "execution_count": 40,
   "metadata": {},
   "outputs": [
    {
     "data": {
      "text/plain": [
       "Interval(2.6666666666666665, 2.666666666666667)"
      ]
     },
     "execution_count": 40,
     "metadata": {},
     "output_type": "execute_result"
    }
   ],
   "source": [
    "X = Interval(1.0)\n",
    "1 + X + X^2/2 + X^3/6"
   ]
  },
  {
   "cell_type": "markdown",
   "metadata": {},
   "source": [
    "------"
   ]
  },
  {
   "cell_type": "markdown",
   "metadata": {},
   "source": [
    "**Problem 3(a)** Complete the following implementations of `-` to correctly round\n",
    "the endpoints in interval negation and subtraction."
   ]
  },
  {
   "cell_type": "code",
   "execution_count": null,
   "metadata": {},
   "outputs": [],
   "source": [
    "import Base: -\n",
    "\n",
    "function -(X::Interval)\n",
    "    a,b = promote(X.a, X.b)\n",
    "    # TODO: return an interval representing {-x : x in X}\n",
    "\n",
    "end\n",
    "\n",
    "function -(X::Interval, Y::Interval)\n",
    "    a,b,c,d = promote(X.a, X.b, Y.a, Y.b)\n",
    "    T = typeof(a)\n",
    "    # TODO: return an interval implementing X ⊖ Y\n",
    "\n",
    "end\n",
    "\n",
    "@test -Interval(0.1,0.2) == Interval(-0.2, -0.1)\n",
    "@test Interval(0.1,0.2) - Interval(1.1,1.2) ≡ Interval(-1.1, -0.9)"
   ]
  },
  {
   "cell_type": "markdown",
   "metadata": {},
   "source": [
    "**Problem 3(b)** Alter the implementation of `/(X::Interval, n::Int)`\n",
    "to support the case where `n < 0` and `*` to remove the restrictions on\n",
    "positivity of the endpoints. You may assume the intervals are non-empty."
   ]
  },
  {
   "cell_type": "code",
   "execution_count": null,
   "metadata": {},
   "outputs": [],
   "source": [
    "# TODO: overload / and *, again.\n",
    "\n",
    "\n",
    "\n",
    "@test Interval(1.1, 1.2) * Interval(2.1, 3.1) ≡ Interval(2.31, 3.72)\n",
    "@test Interval(-1.2, -1.1) * Interval(2.1, 3.1) ≡ Interval(-3.72, -2.31)\n",
    "@test Interval(1.1, 1.2) * Interval(-3.1, -2.1) ≡ Interval(-3.72, -2.31)\n",
    "@test Interval(-1.2, -1.1) * Interval(-3.1, -2.1) ≡ Interval(2.31, 3.72)\n",
    "\n",
    "\n",
    "@test Interval(1.0,2.0)/3 ≡ Interval(0.3333333333333333, 0.6666666666666667)\n",
    "@test Interval(1.0,2.0)/(-3) ≡ Interval(-0.6666666666666667, -0.3333333333333333)\n",
    "\n",
    "@test Interval(-1., 2) * Interval(2,3) ≡ Interval(-3.0, 6.0)\n",
    "@test Interval(-1., 2) * Interval(-3,5) ≡ Interval(-6.0, 10.0)"
   ]
  },
  {
   "cell_type": "markdown",
   "metadata": {},
   "source": [
    "-----"
   ]
  },
  {
   "cell_type": "markdown",
   "metadata": {},
   "source": [
    "The following function  computes the first `n+1` terms of the Taylor series of $\\exp(x)$:\n",
    "$$\n",
    "\\sum_{k=0}^n {x^k \\over k!}\n",
    "$$\n",
    "We avoid using `factorial` to avoid underflow/overflow."
   ]
  },
  {
   "cell_type": "code",
   "execution_count": 50,
   "metadata": {},
   "outputs": [
    {
     "data": {
      "text/plain": [
       "Interval(2.718281828459041, 2.7182818284590846)"
      ]
     },
     "execution_count": 50,
     "metadata": {},
     "output_type": "execute_result"
    }
   ],
   "source": [
    "function exp_t(x, n)\n",
    "    ret = one(x) # 1 of the same type as x\n",
    "    s = one(x) # store x^k/k! = x^(k-1)/(k-1)! * x/(k-1)\n",
    "    for k = 1:n\n",
    "        s = s/k * x\n",
    "        ret = ret + s\n",
    "    end\n",
    "    ret\n",
    "end\n",
    "\n",
    "exp_t(Interval(1.0),100)"
   ]
  },
  {
   "cell_type": "markdown",
   "metadata": {},
   "source": [
    "In the notes we derived a bound assuming $0 ≤ x ≤ 1$\n",
    "on the error in Taylor series of the form $|δ_{x,n}| ≤ 3/(n+1)!$.\n",
    "Here we incorporate that error to get a rigorous bound."
   ]
  },
  {
   "cell_type": "code",
   "execution_count": 57,
   "metadata": {},
   "outputs": [
    {
     "data": {
      "text/plain": [
       "Interval(2.7182818284590406, 2.718281828459085)"
      ]
     },
     "execution_count": 57,
     "metadata": {},
     "output_type": "execute_result"
    }
   ],
   "source": [
    "function exp_bound(X::Interval, n)\n",
    "    a,b = promote(X.a, X.b)\n",
    "    T = typeof(a)\n",
    "\n",
    "    ret = exp_t(X, n) # truncated taylor series\n",
    "\n",
    "    f = T(factorial(big(n+1)), RoundDown) # make (n+1)! using BigInt and round Down\n",
    "\n",
    "    δ = setrounding(T, RoundUp) do\n",
    "         T(3) / f # bound given by 3/(n+1)! rounded up\n",
    "    end\n",
    "    ret + Interval(-δ, δ)\n",
    "end\n",
    "\n",
    "E = exp_bound(Interval(1.0), 100)"
   ]
  },
  {
   "cell_type": "markdown",
   "metadata": {},
   "source": [
    "Here we test that the bounds match our expectations:"
   ]
  },
  {
   "cell_type": "code",
   "execution_count": 61,
   "metadata": {},
   "outputs": [
    {
     "data": {
      "text/plain": [
       "Interval(2.718281828459045235360287471352662497757247093699959574966967627724076630352622, 2.718281828459045235360287471352662497757247093699959574966967627724076630387167)"
      ]
     },
     "execution_count": 61,
     "metadata": {},
     "output_type": "execute_result"
    }
   ],
   "source": [
    "E = exp_bound(Interval(big(1.0)), 1000)\n",
    "E.b-E.a\n",
    "E"
   ]
  },
  {
   "cell_type": "code",
   "execution_count": 64,
   "metadata": {},
   "outputs": [
    {
     "data": {
      "text/plain": [
       "0.5f0"
      ]
     },
     "execution_count": 64,
     "metadata": {},
     "output_type": "execute_result"
    }
   ],
   "source": [
    "Float32(1)/2"
   ]
  },
  {
   "cell_type": "markdown",
   "metadata": {},
   "source": [
    "We can even use the code with `BigFloat` to compute a rigorous bound on the first\n",
    "1000 digits of `ℯ`:"
   ]
  },
  {
   "cell_type": "code",
   "execution_count": null,
   "metadata": {},
   "outputs": [],
   "source": [
    "#"
   ]
  },
  {
   "cell_type": "markdown",
   "metadata": {},
   "source": [
    "Our tests show that this has computed more than 1000 digits:"
   ]
  },
  {
   "cell_type": "code",
   "execution_count": null,
   "metadata": {},
   "outputs": [],
   "source": [
    "#"
   ]
  },
  {
   "cell_type": "markdown",
   "metadata": {},
   "source": [
    "------\n",
    "**Problem 4** Extend the implementation of `exp_bound` for the case when `-2 ≤ x ≤ 2`."
   ]
  },
  {
   "cell_type": "code",
   "execution_count": null,
   "metadata": {},
   "outputs": [],
   "source": [
    "# TODO: re-overload exp_bound but without the restrictions on positivity and adjusting the\n",
    "# the bound appropriately.\n",
    "\n",
    "\n",
    "\n",
    "@test exp(big(-2)) in exp_bound(Interval(-2.0), 20)"
   ]
  },
  {
   "cell_type": "markdown",
   "metadata": {},
   "source": [
    "**Problem 5(a)** Complete the implementation of a function `sin_t(x,n)` computing the\n",
    "first `2n+1` terms of the Taylor series:\n",
    "$$\n",
    "\\sin\\ x ≈ ∑_{k=0}^n {(-1)^k x^{2k+1} \\over (2k+1)!}\n",
    "$$"
   ]
  },
  {
   "cell_type": "code",
   "execution_count": null,
   "metadata": {},
   "outputs": [],
   "source": [
    "function sin_t(x, n)\n",
    "    ret = x\n",
    "    s = x\n",
    "    # TODO: Compute the first 2n+1 terms of the Taylor series of sin, without using the factorial function\n",
    "\n",
    "    ret\n",
    "end\n",
    "\n",
    "@test sin_t(1.0, 10) ≈ 0.8414709848078965\n",
    "@test sin_t(big(1.0), 10) in  sin_t(Interval(1.0), 10)"
   ]
  },
  {
   "cell_type": "markdown",
   "metadata": {},
   "source": [
    "**Problem 5(b)** Complete the implementation of a function `sin_bound(x,n)` that\n",
    "includes an error bound on the computation. You may assume $0 ≤ x ≤ 1$."
   ]
  },
  {
   "cell_type": "code",
   "execution_count": null,
   "metadata": {},
   "outputs": [],
   "source": [
    "function sin_bound(X::Interval, n)\n",
    "    a,b = promote(X.a, X.b)\n",
    "    T = typeof(a)\n",
    "    # TODO: complete the implementation to include the error in truncating the Taylor series.\n",
    "\n",
    "end\n",
    "\n",
    "\n",
    "S = sin_bound(Interval(1.0), 20)\n",
    "@test sin(big(1)) in S\n",
    "@test S.b - S.a ≤ 1E-13 # we want our bounds to be sharp"
   ]
  },
  {
   "cell_type": "markdown",
   "metadata": {},
   "source": [
    "-----"
   ]
  },
  {
   "cell_type": "markdown",
   "metadata": {},
   "source": [
    "## III.1 Structured Matrices"
   ]
  },
  {
   "cell_type": "markdown",
   "metadata": {},
   "source": [
    "Before discussing structured matrices we give an overview of creating arrays  (vectors and matrices)\n",
    "in Julia."
   ]
  },
  {
   "cell_type": "markdown",
   "metadata": {},
   "source": [
    "### III.1.1 Dense matrices"
   ]
  },
  {
   "cell_type": "markdown",
   "metadata": {},
   "source": [
    "One can create arrays in multiple ways. For example, the function `zeros(Int, 10)` creates\n",
    "a 10-element `Vector` whose entries are all `zero(Int) == 0`. Or `fill(x, 10)` creates a\n",
    "10-element `Vector` whose entries are all equal to `x`. Or you can use a comprehension:\n",
    "for example `[k^2 for k = 1:10]` creates a vector whose entries are `[1^2, 2^2, …, 10^2]`.\n",
    "This also works for matrices: `zeros(Int, 10, 5)` creates a 10 × 5 matrix of all zeros,\n",
    "and `[k^2 + j for k=1:3, j=1:4]` creates the following:"
   ]
  },
  {
   "cell_type": "code",
   "execution_count": null,
   "metadata": {},
   "outputs": [],
   "source": [
    "#"
   ]
  },
  {
   "cell_type": "markdown",
   "metadata": {},
   "source": [
    "Note sometimes it is best to create a vector/matrix and populate it. For example, the\n",
    "previous matrix could also been constructed as follows:"
   ]
  },
  {
   "cell_type": "code",
   "execution_count": null,
   "metadata": {},
   "outputs": [],
   "source": [
    "#"
   ]
  },
  {
   "cell_type": "markdown",
   "metadata": {},
   "source": [
    "**Remark** Julia uses 1-based indexing where the first index of a vector/matrix\n",
    "is 1. This is standard in all mathematical programming languages (Fortran, Maple, Matlab, Mathematica)\n",
    "whereas those designed for computer science use 0-based indexing (C, Python, Rust)."
   ]
  },
  {
   "cell_type": "markdown",
   "metadata": {},
   "source": [
    "Be careful: a `Matrix` or `Vector` can only ever contain entries of the right\n",
    "type. It will attempt to convert an assignment to the right type but will throw\n",
    "an error if not successful:"
   ]
  },
  {
   "cell_type": "code",
   "execution_count": null,
   "metadata": {},
   "outputs": [],
   "source": [
    "#"
   ]
  },
  {
   "cell_type": "markdown",
   "metadata": {},
   "source": [
    "------\n",
    "**Problem 1(a)** Create a 5×6 matrix whose entries are `Int` which is\n",
    "one in all entries. Hint: use a for-loop, `ones`, `fill`, or a comprehension."
   ]
  },
  {
   "cell_type": "code",
   "execution_count": null,
   "metadata": {},
   "outputs": [],
   "source": [
    "# TODO: Create a matrix of ones, 4 different ways"
   ]
  },
  {
   "cell_type": "markdown",
   "metadata": {},
   "source": [
    "**Problem 1(b)** Create a 1 × 5 `Matrix{Int}` with entries `A[k,j] = j`. Hint: use a for-loop or a comprehension."
   ]
  },
  {
   "cell_type": "code",
   "execution_count": null,
   "metadata": {},
   "outputs": [],
   "source": [
    "# TODO: Create a 1 × 5  matrix whose entries equal the column, 2 different ways"
   ]
  },
  {
   "cell_type": "markdown",
   "metadata": {},
   "source": [
    "-------\n",
    "#### Transposes and adjoints"
   ]
  },
  {
   "cell_type": "markdown",
   "metadata": {},
   "source": [
    "We can also transpose a matrix `A` via `transpose(A)`\n",
    "or compute the adjoint (conjugate-transpose) via `A'` (which is\n",
    "equivalent to a transpose when the entries are real).\n",
    "This is done _lazily_: they return custom types `Transpose` or\n",
    "`Adjoint` that just wrap the input array and reinterpret the entries.\n",
    "This is equivalent to\n",
    "_row-major_ format, where the next address in memory of `transpose(A)` corresponds to\n",
    "moving along the row.\n",
    "Here is a simple example:"
   ]
  },
  {
   "cell_type": "code",
   "execution_count": null,
   "metadata": {},
   "outputs": [],
   "source": [
    "#"
   ]
  },
  {
   "cell_type": "markdown",
   "metadata": {},
   "source": [
    "If we change entries of `A'` it actually changes entries of `A` too since\n",
    "they are pointing to the same locations in memory, just interpreting the data differently:"
   ]
  },
  {
   "cell_type": "code",
   "execution_count": null,
   "metadata": {},
   "outputs": [],
   "source": [
    "#"
   ]
  },
  {
   "cell_type": "markdown",
   "metadata": {},
   "source": [
    "Note vector adjoints/transposes behave differently than 1 × n matrices: they are\n",
    "more like row-vectors. For example the following computes the dot product of two vectors:"
   ]
  },
  {
   "cell_type": "code",
   "execution_count": null,
   "metadata": {},
   "outputs": [],
   "source": [
    "#"
   ]
  },
  {
   "cell_type": "markdown",
   "metadata": {},
   "source": [
    "#### Broadcasting"
   ]
  },
  {
   "cell_type": "markdown",
   "metadata": {},
   "source": [
    "_Broadcasting_ is a powerful and convenient way to create matrices or vectors,\n",
    "where a function is applied to every entry of a vector or matrix.\n",
    "By adding `.` to the end of a function we \"broadcast\" the function over\n",
    "a vector:"
   ]
  },
  {
   "cell_type": "code",
   "execution_count": null,
   "metadata": {},
   "outputs": [],
   "source": [
    "#"
   ]
  },
  {
   "cell_type": "markdown",
   "metadata": {},
   "source": [
    "Broadcasting has some interesting behaviour for matrices.\n",
    "If one dimension of a matrix (or vector) is `1`, it automatically\n",
    "repeats the matrix (or vector) to match the size of another example.\n",
    "In the following we use broadcasting to pointwise-multiply a column and row\n",
    "vector to make a matrix:"
   ]
  },
  {
   "cell_type": "code",
   "execution_count": null,
   "metadata": {},
   "outputs": [],
   "source": [
    "#"
   ]
  },
  {
   "cell_type": "markdown",
   "metadata": {},
   "source": [
    "Since `size([1,2,3],2) == 1` it repeats the same vector to match the size\n",
    "`size([4,5]',2) == 2`. Similarly, `[4,5]'` is repeated 3 times. So the\n",
    "above is equivalent to:"
   ]
  },
  {
   "cell_type": "code",
   "execution_count": null,
   "metadata": {},
   "outputs": [],
   "source": [
    "#"
   ]
  },
  {
   "cell_type": "markdown",
   "metadata": {},
   "source": [
    "Note we can also use matrix broadcasting with our own functions:"
   ]
  },
  {
   "cell_type": "code",
   "execution_count": null,
   "metadata": {},
   "outputs": [],
   "source": [
    "#"
   ]
  },
  {
   "cell_type": "markdown",
   "metadata": {},
   "source": [
    "#### Ranges"
   ]
  },
  {
   "cell_type": "markdown",
   "metadata": {},
   "source": [
    "_Ranges_ are another useful example of vectors, but where the entries are defined \"lazily\" instead of\n",
    "actually created in memory.\n",
    "We have already seen that we can represent a range of integers via `a:b`. Note we can\n",
    "convert it to a `Vector` as follows:"
   ]
  },
  {
   "cell_type": "code",
   "execution_count": null,
   "metadata": {},
   "outputs": [],
   "source": [
    "#"
   ]
  },
  {
   "cell_type": "markdown",
   "metadata": {},
   "source": [
    "We can also specify a step:"
   ]
  },
  {
   "cell_type": "code",
   "execution_count": null,
   "metadata": {},
   "outputs": [],
   "source": [
    "#"
   ]
  },
  {
   "cell_type": "markdown",
   "metadata": {},
   "source": [
    "Finally, the `range` function gives more functionality, for example, we can create 4 evenly\n",
    "spaced points between `-1` and `1`:"
   ]
  },
  {
   "cell_type": "code",
   "execution_count": null,
   "metadata": {},
   "outputs": [],
   "source": [
    "#"
   ]
  },
  {
   "cell_type": "markdown",
   "metadata": {},
   "source": [
    "Note that `Vector` is mutable but a range is not:"
   ]
  },
  {
   "cell_type": "code",
   "execution_count": null,
   "metadata": {},
   "outputs": [],
   "source": [
    "#"
   ]
  },
  {
   "cell_type": "markdown",
   "metadata": {},
   "source": [
    "Both ranges `Vector` are subtypes of `AbstractVector`, whilst `Matrix` is a subtype of `AbstractMatrix`."
   ]
  },
  {
   "cell_type": "markdown",
   "metadata": {},
   "source": [
    "-----"
   ]
  },
  {
   "cell_type": "markdown",
   "metadata": {},
   "source": [
    "**Problem 1(c)** Create a vector of length 5 whose entries are `Float64`\n",
    "approximations of `exp(-k)`. Hint: use a for-loop, broadcasting `f.(x)` notation, or a comprehension."
   ]
  },
  {
   "cell_type": "code",
   "execution_count": null,
   "metadata": {},
   "outputs": [],
   "source": [
    "# TODO: Create a vector whose entries are exp(-k), 3 different ways"
   ]
  },
  {
   "cell_type": "markdown",
   "metadata": {},
   "source": [
    "------\n",
    "#### Storage of matrices and vectors"
   ]
  },
  {
   "cell_type": "markdown",
   "metadata": {},
   "source": [
    "A `Vector` stores its entries consecutively in memory.\n",
    "To be perhaps overly technical: a `Vector` contains a \"pointer\" (an integer)\n",
    "to the first memory address and a length. A `Matrix` is also stored consecutively in memory\n",
    " going down column-by-\n",
    "column (_column-major_). That is,"
   ]
  },
  {
   "cell_type": "code",
   "execution_count": null,
   "metadata": {},
   "outputs": [],
   "source": [
    "#"
   ]
  },
  {
   "cell_type": "markdown",
   "metadata": {},
   "source": [
    "Is actually stored equivalently to a length `6` vector `[A[1,1],A[2,1],A[3,1],A[1,2],A[2,2],A[3,2]]`:"
   ]
  },
  {
   "cell_type": "code",
   "execution_count": null,
   "metadata": {},
   "outputs": [],
   "source": [
    "#"
   ]
  },
  {
   "cell_type": "markdown",
   "metadata": {},
   "source": [
    "which in this case would be stored using `8 * 6 = 48` consecutive bytes.\n",
    "Behind the scenes, a matrix is also \"pointer\" to the location of the first entry alongside two integers\n",
    "dictating the row and column sizes."
   ]
  },
  {
   "cell_type": "markdown",
   "metadata": {},
   "source": [
    "Matrix-vector multiplication works as expected because `*` is overloaded:"
   ]
  },
  {
   "cell_type": "code",
   "execution_count": null,
   "metadata": {},
   "outputs": [],
   "source": [
    "#"
   ]
  },
  {
   "cell_type": "markdown",
   "metadata": {},
   "source": [
    "We can implement our own version for any types that support `*` and `+` but there are\n",
    "actually two different ways. The most natural mathematical way is to multiply-by-rows:"
   ]
  },
  {
   "cell_type": "code",
   "execution_count": null,
   "metadata": {},
   "outputs": [],
   "source": [
    "#"
   ]
  },
  {
   "cell_type": "markdown",
   "metadata": {},
   "source": [
    "But we can also change the order of operations to give an alternative approach that is multiply-by-columns:"
   ]
  },
  {
   "cell_type": "code",
   "execution_count": null,
   "metadata": {},
   "outputs": [],
   "source": [
    "#"
   ]
  },
  {
   "cell_type": "markdown",
   "metadata": {},
   "source": [
    "Both implementations match _exactly_ for integer inputs:"
   ]
  },
  {
   "cell_type": "code",
   "execution_count": null,
   "metadata": {},
   "outputs": [],
   "source": [
    "#"
   ]
  },
  {
   "cell_type": "markdown",
   "metadata": {},
   "source": [
    "Either implementation will be $O(mn)$ operations. However, the implementation\n",
    "`mul_cols` accesses the entries of `A` going down the column,\n",
    "which happens to be _significantly faster_ than `mul_rows`, due to accessing\n",
    "memory of `A` in order. We can see this by measuring the time it takes using `@btime`:"
   ]
  },
  {
   "cell_type": "code",
   "execution_count": null,
   "metadata": {},
   "outputs": [],
   "source": [
    "#"
   ]
  },
  {
   "cell_type": "markdown",
   "metadata": {},
   "source": [
    "Here `ms` means milliseconds (`0.001 = 10^(-3)` seconds) and `μs` means microseconds (`0.000001 = 10^(-6)` seconds).\n",
    "On my machine we observe that `mul_cols` is roughly 2–3x faster than `mul_rows`, while the optimised `*` is roughly 5x faster than `mul_cols`.\n",
    "The reason why isn't too important for us (accessing memory in order is much faster than jumping around), but the key points are:\n",
    "1. Making fast algorithms is delicate and arguably more of an art than a science.\n",
    "2. We can focus on complexity rather than counting operations as the latter does not tell us speed.\n",
    "3. Use in-built implementations whenever available."
   ]
  },
  {
   "cell_type": "markdown",
   "metadata": {},
   "source": [
    "Note that the rules of floating point arithmetic apply here. Matrix multiplication with floats\n",
    "will incur round-off error (the precise details of which are subject to the implementation):"
   ]
  },
  {
   "cell_type": "code",
   "execution_count": null,
   "metadata": {},
   "outputs": [],
   "source": [
    "#"
   ]
  },
  {
   "cell_type": "markdown",
   "metadata": {},
   "source": [
    "And integer arithmetic will be subject to overflow:"
   ]
  },
  {
   "cell_type": "code",
   "execution_count": null,
   "metadata": {},
   "outputs": [],
   "source": [
    "#"
   ]
  },
  {
   "cell_type": "markdown",
   "metadata": {},
   "source": [
    "Solving a linear system is done using `\\`:"
   ]
  },
  {
   "cell_type": "code",
   "execution_count": null,
   "metadata": {},
   "outputs": [],
   "source": [
    "A = [1 2 3;\n",
    "     1 2 4;\n",
    "     3 7 8]\n",
    "b = [10; 11; 12]\n",
    "A \\ b"
   ]
  },
  {
   "cell_type": "markdown",
   "metadata": {},
   "source": [
    "Despite the answer being integer-valued,\n",
    "here we see that it resorted to using floating point arithmetic,\n",
    "incurring rounding error.\n",
    "But it is \"accurate to (roughly) 16-digits\".\n",
    "As we shall see, the way solving a linear system works is we first write `A` as a\n",
    "product of matrices that are easy to invert, e.g., a product of triangular matrices or a product of an orthogonal\n",
    "and triangular matrix."
   ]
  },
  {
   "cell_type": "markdown",
   "metadata": {},
   "source": [
    "### III.1.2 Triangular Matrices"
   ]
  },
  {
   "cell_type": "markdown",
   "metadata": {},
   "source": [
    "Triangular matrices are represented by dense square matrices where the entries below the\n",
    "diagonal are ignored:"
   ]
  },
  {
   "cell_type": "code",
   "execution_count": null,
   "metadata": {},
   "outputs": [],
   "source": [
    "#"
   ]
  },
  {
   "cell_type": "markdown",
   "metadata": {},
   "source": [
    "We can see that `L` is storing all the entries of `A` in a field called `data`:"
   ]
  },
  {
   "cell_type": "code",
   "execution_count": null,
   "metadata": {},
   "outputs": [],
   "source": [
    "#"
   ]
  },
  {
   "cell_type": "markdown",
   "metadata": {},
   "source": [
    "Similarly we can create an upper triangular matrix by ignoring the entries below the diagonal:"
   ]
  },
  {
   "cell_type": "code",
   "execution_count": null,
   "metadata": {},
   "outputs": [],
   "source": [
    "#"
   ]
  },
  {
   "cell_type": "markdown",
   "metadata": {},
   "source": [
    "If we know a matrix is triangular we can do matrix-vector multiplication in roughly half\n",
    "the number of operations by skipping over the entries we know are zero:"
   ]
  },
  {
   "cell_type": "code",
   "execution_count": null,
   "metadata": {},
   "outputs": [],
   "source": [
    "#\n",
    "\n",
    "x = [10, 11, 12]\n",
    "# matches built-in * which also exploits the structure:\n",
    "@test mul_cols(L, x) == L*x"
   ]
  },
  {
   "cell_type": "markdown",
   "metadata": {},
   "source": [
    "Moreover, we can easily invert matrices.\n",
    "Consider a simple 3×3 example, which can be solved with `\\`:"
   ]
  },
  {
   "cell_type": "code",
   "execution_count": null,
   "metadata": {},
   "outputs": [],
   "source": [
    "#"
   ]
  },
  {
   "cell_type": "markdown",
   "metadata": {},
   "source": [
    "Behind the scenes, `\\` is doing forward-substitution.\n",
    "We can implement our own version as follows:"
   ]
  },
  {
   "cell_type": "code",
   "execution_count": null,
   "metadata": {},
   "outputs": [],
   "source": [
    "# ldiv is our own version of \\\n",
    "#"
   ]
  },
  {
   "cell_type": "markdown",
   "metadata": {},
   "source": [
    "------"
   ]
  },
  {
   "cell_type": "markdown",
   "metadata": {},
   "source": [
    "**Problem 3(a)** Complete the following function for upper triangular matrix-vector\n",
    "multiplication without ever accessing the zero entries of `L` above the diagonal.\n",
    "You may assume all numbers are `Float64`.\n",
    "Hint: just copy code for `mul_cols` and modify the for-loop ranges a la the `UpperTriangular`\n",
    "case."
   ]
  },
  {
   "cell_type": "code",
   "execution_count": null,
   "metadata": {},
   "outputs": [],
   "source": [
    "function mul_cols(U::UpperTriangular, x)\n",
    "    n = size(U,1)\n",
    "\n",
    "    b = zeros(n) # the returned vector, begins of all zeros\n",
    "\n",
    "    # TODO: populate b so that U*x ≈ b\n",
    "\n",
    "\n",
    "    b\n",
    "end\n",
    "\n",
    "U = UpperTriangular(randn(5,5))\n",
    "x = randn(5)\n",
    "@test U*x ≈ mul_cols(U, x)"
   ]
  },
  {
   "cell_type": "markdown",
   "metadata": {},
   "source": [
    "**Problem 3(b)** Complete the following function for solving linear systems with\n",
    "upper triangular systems by implementing back-substitution. You may assume\n",
    "all input and output vectors have `Float64` values."
   ]
  },
  {
   "cell_type": "code",
   "execution_count": null,
   "metadata": {},
   "outputs": [],
   "source": [
    "# ldiv(U, b) is our implementation of U\\b\n",
    "function ldiv(U::UpperTriangular, b)\n",
    "    n = size(U,1)\n",
    "\n",
    "    if length(b) != n\n",
    "        error(\"The system is not compatible\")\n",
    "    end\n",
    "\n",
    "    x = zeros(n)  # the solution vector\n",
    "    # TODO: populate x with the entries according to back substitution.\n",
    "\n",
    "    x\n",
    "end\n",
    "\n",
    "\n",
    "U = UpperTriangular(randn(5,5))\n",
    "b = randn(5)\n",
    "@test U\\b ≈ ldiv(U, b)"
   ]
  },
  {
   "cell_type": "markdown",
   "metadata": {},
   "source": [
    "## III.1.3 Banded matrices"
   ]
  },
  {
   "cell_type": "markdown",
   "metadata": {},
   "source": [
    "Diagonal matrices in Julia are stored as a vector containing the diagonal entries:"
   ]
  },
  {
   "cell_type": "code",
   "execution_count": null,
   "metadata": {},
   "outputs": [],
   "source": [
    "#"
   ]
  },
  {
   "cell_type": "markdown",
   "metadata": {},
   "source": [
    "It is clear that we can perform diagonal-vector multiplications and solve linear systems involving diagonal matrices efficiently\n",
    "(in $O(n)$ operations)."
   ]
  },
  {
   "cell_type": "markdown",
   "metadata": {},
   "source": [
    "We can create bidiagonal matrices in Julia by specifying the diagonal and off-diagonal:"
   ]
  },
  {
   "cell_type": "code",
   "execution_count": null,
   "metadata": {},
   "outputs": [],
   "source": [
    "#"
   ]
  },
  {
   "cell_type": "markdown",
   "metadata": {},
   "source": [
    "Multiplication and solving linear systems with Bidiagonal systems is also $O(n)$ operations, using the standard\n",
    "multiplications/back-substitution algorithms but being careful in the loops to only access the non-zero entries."
   ]
  },
  {
   "cell_type": "markdown",
   "metadata": {},
   "source": [
    "Julia has a type `Tridiagonal` for representing a tridiagonal matrix from its sub-diagonal, diagonal, and super-diagonal:"
   ]
  },
  {
   "cell_type": "code",
   "execution_count": null,
   "metadata": {},
   "outputs": [],
   "source": [
    "#"
   ]
  },
  {
   "cell_type": "markdown",
   "metadata": {},
   "source": [
    "Tridiagonal matrices will come up in solving second-order differential equations and orthogonal polynomials.\n",
    "We will later see how linear systems involving tridiagonal matrices can be solved in $O(n)$ operations."
   ]
  },
  {
   "cell_type": "markdown",
   "metadata": {},
   "source": [
    "-----"
   ]
  },
  {
   "cell_type": "markdown",
   "metadata": {},
   "source": [
    "**Problem 4(a)** Complete the implementation of `UpperTridiagonal` which represents a banded matrix with\n",
    "bandwidths $(l,u) = (0,2)$ by overloading `getindex(U::UpperTridiagonal, k::Int, j::Int)` (which implements `U[k,j]`) and `setindex!(U::UpperTriangular, v, k::Int, j::Int)` (which implements `U[k,j] = v`). Return zero (of the same type as the other entries)\n",
    "if we are off the bands."
   ]
  },
  {
   "cell_type": "code",
   "execution_count": null,
   "metadata": {},
   "outputs": [],
   "source": [
    "struct UpperTridiagonal <: AbstractMatrix{Float64}\n",
    "    d   # diagonal entries stored as a Vector: d[k] == U[k,k]\n",
    "    du  # super-diagonal enries stored as a Vector: du[k] == U[k,k+1]\n",
    "    du2 # second-super-diagonal entries stored as a Vector: du2[k] == U[k,k+2]\n",
    "end\n",
    "\n",
    "# This uses the notation `<: AbstractMatrix{Float64}`: this tells Julia that our type is in fact a matrix\n",
    "# whose entries are `Float64`.\n",
    "# In order for it to behave a matrix we have to overload the function `size` for our type to return\n",
    "# the dimensions (in this case we just use the length of the diagonal):\n",
    "\n",
    "import Base: size, getindex, setindex!\n",
    "\n",
    "size(U::UpperTridiagonal) = (length(U.d),length(U.d))\n",
    "\n",
    "# Julia still doesn't know what the entries of the matrix are. To do this we need to overload `getindex`.\n",
    "# We also overload `setindex!` to allow changing the non-zero entries.\n",
    "\n",
    "\n",
    "# getindex(U, k, j) is another way to write U[k,j].\n",
    "# This function will therefore be called when we call U[k,j]\n",
    "function getindex(U::UpperTridiagonal, k::Int, j::Int)\n",
    "    d,du,du2 = U.d,U.du,U.du2\n",
    "    # TODO: return U[k,j]\n",
    "\n",
    "end\n",
    "\n",
    "# setindex!(U, v, k, j) gets called when we write (U[k,j] = v).\n",
    "function setindex!(U::UpperTridiagonal, v, k::Int, j::Int)\n",
    "    d,du,du2 = U.d,U.du,U.du2\n",
    "    if j > k+2 || j < k\n",
    "        error(\"Cannot modify off-band\")\n",
    "    end\n",
    "\n",
    "    # TODO: modify d,du,du2 so that U[k,j] == v\n",
    "\n",
    "    U # by convention we return the matrix\n",
    "end\n",
    "\n",
    "U = UpperTridiagonal([1.0,2,3,4,5], [1.0,2,3,4], [1.0,2,3])\n",
    "@test U == [1 1 1 0 0;\n",
    "            0 2 2 2 0;\n",
    "            0 0 3 3 3;\n",
    "            0 0 0 4 4;\n",
    "            0 0 0 0 5]\n",
    "\n",
    "U[3,4] = 2\n",
    "@test U == [1 1 1 0 0;\n",
    "            0 2 2 2 0;\n",
    "            0 0 3 2 3;\n",
    "            0 0 0 4 4;\n",
    "            0 0 0 0 5]"
   ]
  },
  {
   "cell_type": "markdown",
   "metadata": {},
   "source": [
    "**Problem 4(b)** Complete the following implementations of `*` and `\\` for `UpperTridiagonal` so that\n",
    "they take only $O(n)$ operations. Hint: the function `max(a,b)` returns the larger of `a` or `b`\n",
    "and `min(a,b)` returns the smaller. They may help to avoid accessing zeros."
   ]
  },
  {
   "cell_type": "code",
   "execution_count": null,
   "metadata": {},
   "outputs": [],
   "source": [
    "import Base: *, \\\n",
    "\n",
    "function *(U::UpperTridiagonal, x::AbstractVector)\n",
    "    n = size(U,1)\n",
    "    b = zeros(n) # the returned vector, assume Float64 values\n",
    "    # TODO: populate b so that U*x ≈ b (up to rounding)\n",
    "\n",
    "    b\n",
    "end\n",
    "\n",
    "function \\(U::UpperTridiagonal, b::AbstractVector)\n",
    "    n = size(U,1)\n",
    "    if length(b) != n\n",
    "        error(\"The system is not compatible\")\n",
    "    end\n",
    "\n",
    "    x = zeros(n)  # the solution vector, assume Float64 values\n",
    "    # TODO: populate x so that U*x ≈ b\n",
    "\n",
    "    x\n",
    "end\n",
    "\n",
    "n = 1_000_000 # under-scores are like commas: so this is a million: 1,000,000\n",
    "U = UpperTridiagonal(ones(n), fill(0.5,n-1), fill(0.1,n-2))\n",
    "x = ones(n)\n",
    "b = [fill(1.6,n-2); 1.5; 1] # exact result\n",
    "# note following should take much less than a second\n",
    "@test U*x ≈ b\n",
    "@test U\\b ≈ x"
   ]
  },
  {
   "cell_type": "markdown",
   "metadata": {},
   "source": [
    "---\n",
    "\n",
    "*This notebook was generated using [Literate.jl](https://github.com/fredrikekre/Literate.jl).*"
   ]
  }
 ],
 "metadata": {
  "kernelspec": {
   "display_name": "Julia 1.11.2",
   "language": "julia",
   "name": "julia-1.11"
  },
  "language_info": {
   "file_extension": ".jl",
   "mimetype": "application/julia",
   "name": "julia",
   "version": "1.11.2"
  }
 },
 "nbformat": 4,
 "nbformat_minor": 4
}
