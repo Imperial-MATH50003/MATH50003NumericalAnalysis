{
 "cells": [
  {
   "cell_type": "markdown",
   "source": [
    "# MATH50003 (2024–25)\n",
    "# Lab 4: II.3 Interval Arithmetic and III.1 Structured Matrices"
   ],
   "metadata": {}
  },
  {
   "cell_type": "markdown",
   "source": [
    "This lab explores the usage of rounding modes for floating point arithmetic and how they\n",
    "can be used to compute _rigorous_ bounds on mathematical constants such as `ℯ`.\n",
    "The key idea is using _interval arithmetic_ to compute the Taylor series which is\n",
    "combined with a bound on the error caused by truncating a Taylor series.\n",
    "As a fun example, we compute the first 1000 digits of `ℯ`, backed up by a rigorous\n",
    "computation."
   ],
   "metadata": {}
  },
  {
   "cell_type": "markdown",
   "source": [
    "We also explore the construction of vectors and matrices, in particular those with sparsity structure\n",
    "such as triangular, diagonal, bidiagonal and tridiagonal\n",
    "which we capture using special types."
   ],
   "metadata": {}
  },
  {
   "cell_type": "markdown",
   "source": [
    "**Learning Outcomes**\n",
    "\n",
    "Mathematical knowledge:\n",
    "\n",
    "2. Extending interval arithmetic operations to non-positive intervals.\n",
    "3. Combining interval arithmetic with Taylor series bounds for rigorous computations.\n",
    "1. Matrix multiplication, back- and forward-substitution.\n",
    "2. Banded matrices and their utilisation for better complexity linear algebra.\n",
    "\n",
    "Coding knowledge:\n",
    "\n",
    "3. The `promote` command for converting multiple variables to be the same type.\n",
    "4. Using `&&` for \"and\" and `||` for \"or\".\n",
    "1. Construction of a dense `Vector` or `Matrix` either directly or via comprehensions or broadcasting.\n",
    "2. The `vec`, `transpose`, `zeros`, `ones`, `fill`, `range`, `promote_type`, and `eltype` functions.\n",
    "3. Using `\\` to solve linear systems.\n",
    "4. The `Diagonal`, `Bidiagonal`, and `Tridiagonal` types for making banded matrices.\n",
    "5. Implementing a custom matrix type by subtyping `AbstractMatrix` and overloading `size`, `getindex`, and `setindex!`."
   ],
   "metadata": {}
  },
  {
   "cell_type": "markdown",
   "source": [
    "We need the following packages:"
   ],
   "metadata": {}
  },
  {
   "outputs": [],
   "cell_type": "code",
   "source": [
    "using SetRounding, LinearAlgebra, Test"
   ],
   "metadata": {},
   "execution_count": null
  },
  {
   "cell_type": "markdown",
   "source": [
    "-----\n",
    "\n",
    "## II.3 Interval Arithmetic"
   ],
   "metadata": {}
  },
  {
   "cell_type": "markdown",
   "source": [
    "In lectures we introduced the idea of using set arithmetic to compute rigorous bounds on algorithms.\n",
    "To implement this in practice\n",
    "we will now create a Type to represent an interval $[a,b] = \\{x : a ≤ x ≤ b\\}$, which we will call `Interval`.\n",
    "We need fields for the left endpoint (`a`) and a right endpoint (`b`):"
   ],
   "metadata": {}
  },
  {
   "outputs": [],
   "cell_type": "code",
   "source": [
    "struct Interval # represents the set [a,b]\n",
    "    a # left endpoint\n",
    "    b # right endpoint\n",
    "end\n",
    "\n",
    "Interval(x) = Interval(x,x) # Support Interval(1) to represent [1,1]"
   ],
   "metadata": {},
   "execution_count": null
  },
  {
   "cell_type": "markdown",
   "source": [
    "For example, if we say `X = Interval(1, 2)` this corresponds to the mathematical interval\n",
    "$[1, 2]$, and the fields are accessed via `X.a` and `X.b`.\n",
    "We will overload `*`, `+`, `-`, `/` to use interval arithmetic. That is, whenever we do arithmetic with\n",
    "an instance of `Interval` we want it to use correctly rounded interval variants.\n",
    "We also need to support `one` (a function that creates an interval containing a single point `1`)\n",
    "and `in` functions (a function to test if a number is within an interval).\n",
    "To overload these functions we need to import them as follows:"
   ],
   "metadata": {}
  },
  {
   "outputs": [],
   "cell_type": "code",
   "source": [
    "import Base: *, +, -, ^, /, one, in"
   ],
   "metadata": {},
   "execution_count": null
  },
  {
   "cell_type": "markdown",
   "source": [
    "We overload `in` as follows:"
   ],
   "metadata": {}
  },
  {
   "outputs": [],
   "cell_type": "code",
   "source": [
    "in(x, X::Interval) = X.a ≤ x ≤ X.b"
   ],
   "metadata": {},
   "execution_count": null
  },
  {
   "cell_type": "markdown",
   "source": [
    "The function `in` is whats called an \"infix\" operation (just like `+`, `-`, `*`, and `/`). We can call it\n",
    "either as `in(x, X)` or put the `in` in the middle and write `x in X`. This can be seen in the following:"
   ],
   "metadata": {}
  },
  {
   "outputs": [],
   "cell_type": "code",
   "source": [
    "X = Interval(2.0,3.3)\n",
    "# 2.5 in X is equivalent to in(2.5, X)\n",
    "# !(3.4 in X) is equivalent to !in(3.4, X)\n",
    "2.5 in X, !(3.4 in X)"
   ],
   "metadata": {},
   "execution_count": null
  },
  {
   "cell_type": "markdown",
   "source": [
    "We can overload `one` as follows to create an interval corresponding to $[1,1]$.\n",
    "The `one(T)` function will create the \"multiplicative identity\"\n",
    "for a given type. For example `one(Int)` will return `1`, `one(Float64)` returns `1.0`,\n",
    "and `one(String)` returns \"\" (because `\"\" * \"any string\" == \"any string\"`):"
   ],
   "metadata": {}
  },
  {
   "outputs": [],
   "cell_type": "code",
   "source": [
    "one(Int), one(Int64), one(String)"
   ],
   "metadata": {},
   "execution_count": null
  },
  {
   "cell_type": "markdown",
   "source": [
    "We can also just call it on an instance of the type:"
   ],
   "metadata": {}
  },
  {
   "outputs": [],
   "cell_type": "code",
   "source": [
    "one(2), one(2.0), one(\"any string\")"
   ],
   "metadata": {},
   "execution_count": null
  },
  {
   "cell_type": "markdown",
   "source": [
    "For an interval the multiplicative identity is the interval whose lower and upper limit are both 1.\n",
    "To ensure its the right type we call `one(X.a)` and `one(X.b)`"
   ],
   "metadata": {}
  },
  {
   "outputs": [],
   "cell_type": "code",
   "source": [
    "one(X::Interval) = Interval(one(X.a), one(X.b))"
   ],
   "metadata": {},
   "execution_count": null
  },
  {
   "cell_type": "markdown",
   "source": [
    "Thus the following returns an interval whose endpoints are both `1.0`:"
   ],
   "metadata": {}
  },
  {
   "outputs": [],
   "cell_type": "code",
   "source": [
    "one(Interval(2.0,3.3))"
   ],
   "metadata": {},
   "execution_count": null
  },
  {
   "cell_type": "markdown",
   "source": [
    "We now want to overload the operations `+`, `/` and `*` so that we can compute the Taylor\n",
    "series of `exp`. We begin with `+`."
   ],
   "metadata": {}
  },
  {
   "outputs": [],
   "cell_type": "code",
   "source": [
    "function +(X::Interval, Y::Interval)\n",
    "    a,b,c,d = promote(X.a, X.b, Y.a, Y.b) # make sure all are the same type\n",
    "    T = typeof(a)\n",
    "    α = setrounding(T, RoundDown) do\n",
    "        a + c\n",
    "    end\n",
    "    β = setrounding(T, RoundUp) do\n",
    "        b + d\n",
    "    end\n",
    "    Interval(α, β)\n",
    "end\n",
    "\n",
    "\n",
    "+(x::Number, Y::Interval) = Interval(x) + Y # Number is a supertype that contains Int, Float64, etc.\n",
    "+(X::Interval, y::Number) = X + Interval(y)\n",
    "\n",
    "\n",
    "# following example was the non-associative example but now we have bounds\n",
    "Interval(1.1) + Interval(1.2) + Interval(1.3)\n",
    "\n",
    "# note we are actually doing computations on ${\\rm fl}^{nearest}(1.1)$, etc.,\n",
    "# that is, we haven't accounted in the errors from making the constants."
   ],
   "metadata": {},
   "execution_count": null
  },
  {
   "cell_type": "markdown",
   "source": [
    "We now implement division, checking that our assumptions\n",
    "are satified. Note that `&&` means \"and\" whilst `||` means \"or\",\n",
    "While `!` changes a `true` to `false` and vice-versa."
   ],
   "metadata": {}
  },
  {
   "outputs": [],
   "cell_type": "code",
   "source": [
    "function /(X::Interval, n::Int)\n",
    "    a,b = promote(X.a, X.b)\n",
    "    T = typeof(a)\n",
    "    if !(n > 0 && 0 < a ≤ b)\n",
    "        error(\"Input doesn't satisfy positivity assumptions\")\n",
    "    end\n",
    "    α = setrounding(T, RoundDown) do\n",
    "            a / n\n",
    "    end\n",
    "    β = setrounding(T, RoundUp) do\n",
    "            b / n\n",
    "    end\n",
    "    Interval(α, β)\n",
    "end\n",
    "\n",
    "Interval(1.0,2.0)/3 # rounds bottom down and top up"
   ],
   "metadata": {},
   "execution_count": null
  },
  {
   "cell_type": "markdown",
   "source": [
    "Finally we overload `*` to behave like the operation `⊗`:"
   ],
   "metadata": {}
  },
  {
   "outputs": [],
   "cell_type": "code",
   "source": [
    "function *(X::Interval, Y::Interval)\n",
    "    a,b,c,d = promote(X.a, X.b, Y.a, Y.b)\n",
    "    T = typeof(a)\n",
    "    if !(0 < a ≤ b && 0 < c ≤ d)\n",
    "        error(\"Input doesn't satisfy positivity assumptions\")\n",
    "    end\n",
    "    α = setrounding(T, RoundDown) do\n",
    "            a * c\n",
    "    end\n",
    "    β = setrounding(T, RoundUp) do\n",
    "            b * d\n",
    "    end\n",
    "    Interval(α, β)\n",
    "end"
   ],
   "metadata": {},
   "execution_count": null
  },
  {
   "cell_type": "markdown",
   "source": [
    "Let's also support powers:"
   ],
   "metadata": {}
  },
  {
   "outputs": [],
   "cell_type": "code",
   "source": [
    "function ^(X::Interval, k::Int)\n",
    "    if k ≤ 0\n",
    "        error(\"not supported\")\n",
    "    elseif k == 1\n",
    "        X\n",
    "    else\n",
    "        X * X^(k-1)\n",
    "    end\n",
    "end"
   ],
   "metadata": {},
   "execution_count": null
  },
  {
   "cell_type": "markdown",
   "source": [
    "We can now compute positive polynomials with interval arithmetic:"
   ],
   "metadata": {}
  },
  {
   "outputs": [],
   "cell_type": "code",
   "source": [
    "X = Interval(1.0)\n",
    "1 + X + X^2/2 + X^3/6 + X^4/24"
   ],
   "metadata": {},
   "execution_count": null
  },
  {
   "cell_type": "markdown",
   "source": [
    "------"
   ],
   "metadata": {}
  },
  {
   "cell_type": "markdown",
   "source": [
    "**Problem 3(a)** Complete the following implementations of `-` to correctly round\n",
    "the endpoints in interval negation and subtraction."
   ],
   "metadata": {}
  },
  {
   "outputs": [],
   "cell_type": "code",
   "source": [
    "import Base: -\n",
    "\n",
    "function -(X::Interval)\n",
    "    a,b = promote(X.a, X.b)\n",
    "    # TODO: return an interval representing {-x : x in X}\n",
    "\n",
    "end\n",
    "\n",
    "function -(X::Interval, Y::Interval)\n",
    "    a,b,c,d = promote(X.a, X.b, Y.a, Y.b)\n",
    "    T = typeof(a)\n",
    "    # TODO: return an interval implementing X ⊖ Y\n",
    "\n",
    "end\n",
    "\n",
    "@test -Interval(0.1,0.2) == Interval(-0.2, -0.1)\n",
    "@test Interval(0.1,0.2) - Interval(1.1,1.2) ≡ Interval(-1.1, -0.9)"
   ],
   "metadata": {},
   "execution_count": null
  },
  {
   "cell_type": "markdown",
   "source": [
    "**Problem 3(b)** Alter the implementation of `/(X::Interval, n::Int)`\n",
    "to support the case where `n < 0` and `*` to remove the restrictions on\n",
    "positivity of the endpoints. You may assume the intervals are non-empty."
   ],
   "metadata": {}
  },
  {
   "outputs": [],
   "cell_type": "code",
   "source": [
    "# TODO: overload / and *, again.\n",
    "\n",
    "\n",
    "\n",
    "@test Interval(1.1, 1.2) * Interval(2.1, 3.1) ≡ Interval(2.31, 3.72)\n",
    "@test Interval(-1.2, -1.1) * Interval(2.1, 3.1) ≡ Interval(-3.72, -2.31)\n",
    "@test Interval(1.1, 1.2) * Interval(-3.1, -2.1) ≡ Interval(-3.72, -2.31)\n",
    "@test Interval(-1.2, -1.1) * Interval(-3.1, -2.1) ≡ Interval(2.31, 3.72)\n",
    "\n",
    "\n",
    "@test Interval(1.0,2.0)/3 ≡ Interval(0.3333333333333333, 0.6666666666666667)\n",
    "@test Interval(1.0,2.0)/(-3) ≡ Interval(-0.6666666666666667, -0.3333333333333333)\n",
    "\n",
    "@test Interval(-1., 2) * Interval(2,3) ≡ Interval(-3.0, 6.0)\n",
    "@test Interval(-1., 2) * Interval(-3,5) ≡ Interval(-6.0, 10.0)"
   ],
   "metadata": {},
   "execution_count": null
  },
  {
   "cell_type": "markdown",
   "source": [
    "-----"
   ],
   "metadata": {}
  },
  {
   "cell_type": "markdown",
   "source": [
    "The following function  computes the first `n+1` terms of the Taylor series of $\\exp(x)$:\n",
    "$$\n",
    "\\sum_{k=0}^n {x^k \\over k!}\n",
    "$$\n",
    "We avoid using `factorial` to avoid underflow/overflow."
   ],
   "metadata": {}
  },
  {
   "outputs": [],
   "cell_type": "code",
   "source": [
    "function exp_t(x, n)\n",
    "    ret = one(x)\n",
    "    s = one(x)\n",
    "    for k = 1:n\n",
    "        s = s/k * x\n",
    "        ret = ret + s\n",
    "    end\n",
    "    ret\n",
    "end\n",
    "\n",
    "exp_t(X, 100) # Taylor series with interval arithmetic"
   ],
   "metadata": {},
   "execution_count": null
  },
  {
   "cell_type": "markdown",
   "source": [
    "In the notes we derived a bound assuming $0 ≤ x ≤ 1$\n",
    "on the error in Taylor series of the form $|δ_{x,n}| ≤ 3/(n+1)!$.\n",
    "Here we incorporate that error to get a rigorous bound."
   ],
   "metadata": {}
  },
  {
   "outputs": [],
   "cell_type": "code",
   "source": [
    "function exp_bound(X::Interval, n)\n",
    "    a,b = promote(X.a, X.b)\n",
    "    T = typeof(a)\n",
    "\n",
    "    if !(0 ≤ a ≤ b ≤ 1)\n",
    "        error(\"Interval must be a subset of [0, 1]\")\n",
    "    end\n",
    "    ret = exp_t(X, n) # the code for Taylor series should work on Interval unmodified\n",
    "    # avoid overflow in computing factorial by using `big`.\n",
    "    # Convert to type `T` to support rounding.\n",
    "    f = T(factorial(big(n + 1)),RoundDown)\n",
    "\n",
    "    δ = setrounding(T, RoundUp) do\n",
    "        T(3) / f # need to convert 3 to the right type to set the rounding\n",
    "    end\n",
    "    ret + Interval(-δ,δ)\n",
    "end\n",
    "\n",
    "E = exp_bound(Interval(1.0), 20)"
   ],
   "metadata": {},
   "execution_count": null
  },
  {
   "cell_type": "markdown",
   "source": [
    "Here we test that the bounds match our expectations:"
   ],
   "metadata": {}
  },
  {
   "outputs": [],
   "cell_type": "code",
   "source": [
    "@test exp(big(1)) in E\n",
    "@test E.b - E.a ≤ 1E-13 # we want our bounds to be sharp"
   ],
   "metadata": {},
   "execution_count": null
  },
  {
   "cell_type": "markdown",
   "source": [
    "We can even use the code with `BigFloat` to compute a rigorous bound on the first\n",
    "1000 digits of `ℯ`:"
   ],
   "metadata": {}
  },
  {
   "outputs": [],
   "cell_type": "code",
   "source": [
    "e_int_big = setprecision(4_000) do\n",
    "    exp_bound(Interval(big(1.0)), 1000)\n",
    "end"
   ],
   "metadata": {},
   "execution_count": null
  },
  {
   "cell_type": "markdown",
   "source": [
    "Our tests show that this has computed more than 1000 digits:"
   ],
   "metadata": {}
  },
  {
   "outputs": [],
   "cell_type": "code",
   "source": [
    "@test ℯ in e_int_big # we contain ℯ\n",
    "@test e_int_big.b - e_int_big.a ≤ big(10.0)^(-1200) # with 1200 digits of accuracy!"
   ],
   "metadata": {},
   "execution_count": null
  },
  {
   "cell_type": "markdown",
   "source": [
    "------\n",
    "**Problem 4** Extend the implementation of `exp_bound` for the case when `-2 ≤ x ≤ 2`."
   ],
   "metadata": {}
  },
  {
   "outputs": [],
   "cell_type": "code",
   "source": [
    "# TODO: re-overload exp_bound but without the restrictions on positivity and adjusting the\n",
    "# the bound appropriately.\n",
    "\n",
    "\n",
    "\n",
    "@test exp(big(-2)) in exp_bound(Interval(-2.0), 20)"
   ],
   "metadata": {},
   "execution_count": null
  },
  {
   "cell_type": "markdown",
   "source": [
    "**Problem 5(a)** Complete the implementation of a function `sin_t(x,n)` computing the\n",
    "first `2n+1` terms of the Taylor series:\n",
    "$$\n",
    "\\sin\\ x ≈ ∑_{k=0}^n {(-1)^k x^{2k+1} \\over (2k+1)!}\n",
    "$$"
   ],
   "metadata": {}
  },
  {
   "outputs": [],
   "cell_type": "code",
   "source": [
    "function sin_t(x, n)\n",
    "    ret = x\n",
    "    s = x\n",
    "    # TODO: Compute the first 2n+1 terms of the Taylor series of sin, without using the factorial function\n",
    "\n",
    "    ret\n",
    "end\n",
    "\n",
    "@test sin_t(1.0, 10) ≈ 0.8414709848078965\n",
    "@test sin_t(big(1.0), 10) in  sin_t(Interval(1.0), 10)"
   ],
   "metadata": {},
   "execution_count": null
  },
  {
   "cell_type": "markdown",
   "source": [
    "**Problem 5(b)** Complete the implementation of a function `sin_bound(x,n)` that\n",
    "includes an error bound on the computation. You may assume $0 ≤ x ≤ 1$."
   ],
   "metadata": {}
  },
  {
   "outputs": [],
   "cell_type": "code",
   "source": [
    "function sin_bound(X::Interval, n)\n",
    "    a,b = promote(X.a, X.b)\n",
    "    T = typeof(a)\n",
    "    # TODO: complete the implementation to include the error in truncating the Taylor series.\n",
    "\n",
    "end\n",
    "\n",
    "\n",
    "S = sin_bound(Interval(1.0), 20)\n",
    "@test sin(big(1)) in S\n",
    "@test S.b - S.a ≤ 1E-13 # we want our bounds to be sharp"
   ],
   "metadata": {},
   "execution_count": null
  },
  {
   "cell_type": "markdown",
   "source": [
    "-----"
   ],
   "metadata": {}
  },
  {
   "cell_type": "markdown",
   "source": [
    "## III.1 Structured Matrices"
   ],
   "metadata": {}
  },
  {
   "cell_type": "markdown",
   "source": [
    "Before discussing structured matrices we give an overview of creating arrays  (vectors and matrices)\n",
    "in Julia."
   ],
   "metadata": {}
  },
  {
   "cell_type": "markdown",
   "source": [
    "### III.1.1 Dense matrices"
   ],
   "metadata": {}
  },
  {
   "cell_type": "markdown",
   "source": [
    "One can create arrays in multiple ways. For example, the function `zeros(Int, 10)` creates\n",
    "a 10-element `Vector` whose entries are all `zero(Int) == 0`. Or `fill(x, 10)` creates a\n",
    "10-element `Vector` whose entries are all equal to `x`. Or you can use a comprehension:\n",
    "for example `[k^2 for k = 1:10]` creates a vector whose entries are `[1^2, 2^2, …, 10^2]`.\n",
    "This also works for matrices: `zeros(Int, 10, 5)` creates a 10 × 5 matrix of all zeros,\n",
    "and `[k^2 + j for k=1:3, j=1:4]` creates the following:"
   ],
   "metadata": {}
  },
  {
   "outputs": [],
   "cell_type": "code",
   "source": [
    "[k^2 + j for k=1:3, j=1:4] # k is the row, j is the column"
   ],
   "metadata": {},
   "execution_count": null
  },
  {
   "cell_type": "markdown",
   "source": [
    "Note sometimes it is best to create a vector/matrix and populate it. For example, the\n",
    "previous matrix could also been constructed as follows:"
   ],
   "metadata": {}
  },
  {
   "outputs": [],
   "cell_type": "code",
   "source": [
    "A = zeros(Int, 3, 4) # create a 3 × 4 matrix whose entries are 0 (as Ints)\n",
    "for k = 1:3, j = 1:4\n",
    "    A[k,j] = k^2 + j # set the entries of A\n",
    "end\n",
    "A"
   ],
   "metadata": {},
   "execution_count": null
  },
  {
   "cell_type": "markdown",
   "source": [
    "**Remark** Julia uses 1-based indexing where the first index of a vector/matrix\n",
    "is 1. This is standard in all mathematical programming languages (Fortran, Maple, Matlab, Mathematica)\n",
    "whereas those designed for computer science use 0-based indexing (C, Python, Rust)."
   ],
   "metadata": {}
  },
  {
   "cell_type": "markdown",
   "source": [
    "Be careful: a `Matrix` or `Vector` can only ever contain entries of the right\n",
    "type. It will attempt to convert an assignment to the right type but will throw\n",
    "an error if not successful:"
   ],
   "metadata": {}
  },
  {
   "outputs": [],
   "cell_type": "code",
   "source": [
    "A[2,3] = 2.0 # works because 2.0 is a Float64 that is exactly equal to an Int\n",
    "A[1,2] = 2.3 # fails since 2.3 is a Float64 that cannot be converted to an Int"
   ],
   "metadata": {},
   "execution_count": null
  },
  {
   "cell_type": "markdown",
   "source": [
    "------\n",
    "**Problem 1(a)** Create a 5×6 matrix whose entries are `Int` which is\n",
    "one in all entries. Hint: use a for-loop, `ones`, `fill`, or a comprehension."
   ],
   "metadata": {}
  },
  {
   "outputs": [],
   "cell_type": "code",
   "source": [
    "# TODO: Create a matrix of ones, 4 different ways"
   ],
   "metadata": {},
   "execution_count": null
  },
  {
   "cell_type": "markdown",
   "source": [
    "**Problem 1(b)** Create a 1 × 5 `Matrix{Int}` with entries `A[k,j] = j`. Hint: use a for-loop or a comprehension."
   ],
   "metadata": {}
  },
  {
   "outputs": [],
   "cell_type": "code",
   "source": [
    "# TODO: Create a 1 × 5  matrix whose entries equal the column, 2 different ways"
   ],
   "metadata": {},
   "execution_count": null
  },
  {
   "cell_type": "markdown",
   "source": [
    "-------\n",
    "#### Transposes and adjoints"
   ],
   "metadata": {}
  },
  {
   "cell_type": "markdown",
   "source": [
    "We can also transpose a matrix `A` via `transpose(A)`\n",
    "or compute the adjoint (conjugate-transpose) via `A'` (which is\n",
    "equivalent to a transpose when the entries are real).\n",
    "This is done _lazily_: they return custom types `Transpose` or\n",
    "`Adjoint` that just wrap the input array and reinterpret the entries.\n",
    "This is equivalent to\n",
    "_row-major_ format, where the next address in memory of `transpose(A)` corresponds to\n",
    "moving along the row.\n",
    "Here is a simple example:"
   ],
   "metadata": {}
  },
  {
   "outputs": [],
   "cell_type": "code",
   "source": [
    "A = [1+im  2  3;\n",
    "     4     5  6;\n",
    "     6     8  9]\n",
    "\n",
    "A' # adjoint (conjugate-transpose). If entries are real it is equivalent to transpose(A)"
   ],
   "metadata": {},
   "execution_count": null
  },
  {
   "cell_type": "markdown",
   "source": [
    "If we change entries of `A'` it actually changes entries of `A` too since\n",
    "they are pointing to the same locations in memory, just interpreting the data differently:"
   ],
   "metadata": {}
  },
  {
   "outputs": [],
   "cell_type": "code",
   "source": [
    "A'[1,2] = 2+im\n",
    "A # A[2,1] is now 2-im"
   ],
   "metadata": {},
   "execution_count": null
  },
  {
   "cell_type": "markdown",
   "source": [
    "Note vector adjoints/transposes behave differently than 1 × n matrices: they are\n",
    "more like row-vectors. For example the following computes the dot product of two vectors:"
   ],
   "metadata": {}
  },
  {
   "outputs": [],
   "cell_type": "code",
   "source": [
    "x = [1,2,3]\n",
    "y = [4,5,6]\n",
    "x'y # equivalent to dot(x,y), i.e. the standard dot product."
   ],
   "metadata": {},
   "execution_count": null
  },
  {
   "cell_type": "markdown",
   "source": [
    "#### Broadcasting"
   ],
   "metadata": {}
  },
  {
   "cell_type": "markdown",
   "source": [
    "_Broadcasting_ is a powerful and convenient way to create matrices or vectors,\n",
    "where a function is applied to every entry of a vector or matrix.\n",
    "By adding `.` to the end of a function we \"broadcast\" the function over\n",
    "a vector:"
   ],
   "metadata": {}
  },
  {
   "outputs": [],
   "cell_type": "code",
   "source": [
    "x = [1,2,3]\n",
    "cos.(x) # equivalent to [cos(1), cos(2), cos(3)], or can be written broadcast(cos, x)"
   ],
   "metadata": {},
   "execution_count": null
  },
  {
   "cell_type": "markdown",
   "source": [
    "Broadcasting has some interesting behaviour for matrices.\n",
    "If one dimension of a matrix (or vector) is `1`, it automatically\n",
    "repeats the matrix (or vector) to match the size of another example.\n",
    "In the following we use broadcasting to pointwise-multiply a column and row\n",
    "vector to make a matrix:"
   ],
   "metadata": {}
  },
  {
   "outputs": [],
   "cell_type": "code",
   "source": [
    "a = [1,2,3]\n",
    "b = [4,5]\n",
    "\n",
    "a .* b'"
   ],
   "metadata": {},
   "execution_count": null
  },
  {
   "cell_type": "markdown",
   "source": [
    "Since `size([1,2,3],2) == 1` it repeats the same vector to match the size\n",
    "`size([4,5]',2) == 2`. Similarly, `[4,5]'` is repeated 3 times. So the\n",
    "above is equivalent to:"
   ],
   "metadata": {}
  },
  {
   "outputs": [],
   "cell_type": "code",
   "source": [
    "A = [1 1;\n",
    "     2 2;\n",
    "     3 3] # same as [a a], i.e. repeat the vector a in each column\n",
    "B = [4 5;\n",
    "     4 5;\n",
    "     4 5] # same as [b'; b' b'], i.e. repeat the row vector b' in each row\n",
    "\n",
    "A .* B # equals the above a .* b'"
   ],
   "metadata": {},
   "execution_count": null
  },
  {
   "cell_type": "markdown",
   "source": [
    "Note we can also use matrix broadcasting with our own functions:"
   ],
   "metadata": {}
  },
  {
   "outputs": [],
   "cell_type": "code",
   "source": [
    "f = (x,y) -> cos(x + 2y)\n",
    "f.(a, b') # makes a matrix with entries [f(1,4) f(1,5); f(2,4) f(2,5); f(3,4) f(3.5)]"
   ],
   "metadata": {},
   "execution_count": null
  },
  {
   "cell_type": "markdown",
   "source": [
    "#### Ranges"
   ],
   "metadata": {}
  },
  {
   "cell_type": "markdown",
   "source": [
    "_Ranges_ are another useful example of vectors, but where the entries are defined \"lazily\" instead of\n",
    "actually created in memory.\n",
    "We have already seen that we can represent a range of integers via `a:b`. Note we can\n",
    "convert it to a `Vector` as follows:"
   ],
   "metadata": {}
  },
  {
   "outputs": [],
   "cell_type": "code",
   "source": [
    "Vector(2:6)"
   ],
   "metadata": {},
   "execution_count": null
  },
  {
   "cell_type": "markdown",
   "source": [
    "We can also specify a step:"
   ],
   "metadata": {}
  },
  {
   "outputs": [],
   "cell_type": "code",
   "source": [
    "Vector(2:2:6), Vector(6:-1:2)"
   ],
   "metadata": {},
   "execution_count": null
  },
  {
   "cell_type": "markdown",
   "source": [
    "Finally, the `range` function gives more functionality, for example, we can create 4 evenly\n",
    "spaced points between `-1` and `1`:"
   ],
   "metadata": {}
  },
  {
   "outputs": [],
   "cell_type": "code",
   "source": [
    "Vector(range(-1, 1; length=4))"
   ],
   "metadata": {},
   "execution_count": null
  },
  {
   "cell_type": "markdown",
   "source": [
    "Note that `Vector` is mutable but a range is not:"
   ],
   "metadata": {}
  },
  {
   "outputs": [],
   "cell_type": "code",
   "source": [
    "r = 2:6\n",
    "r[2] = 3   # Not allowed"
   ],
   "metadata": {},
   "execution_count": null
  },
  {
   "cell_type": "markdown",
   "source": [
    "Both ranges `Vector` are subtypes of `AbstractVector`, whilst `Matrix` is a subtype of `AbstractMatrix`."
   ],
   "metadata": {}
  },
  {
   "cell_type": "markdown",
   "source": [
    "-----"
   ],
   "metadata": {}
  },
  {
   "cell_type": "markdown",
   "source": [
    "**Problem 1(c)** Create a vector of length 5 whose entries are `Float64`\n",
    "approximations of `exp(-k)`. Hint: use a for-loop, broadcasting `f.(x)` notation, or a comprehension."
   ],
   "metadata": {}
  },
  {
   "outputs": [],
   "cell_type": "code",
   "source": [
    "# TODO: Create a vector whose entries are exp(-k), 3 different ways"
   ],
   "metadata": {},
   "execution_count": null
  },
  {
   "cell_type": "markdown",
   "source": [
    "------\n",
    "#### Storage of matrices and vectors"
   ],
   "metadata": {}
  },
  {
   "cell_type": "markdown",
   "source": [
    "A `Vector` stores its entries consecutively in memory.\n",
    "To be perhaps overly technical: a `Vector` contains a \"pointer\" (an integer)\n",
    "to the first memory address and a length. A `Matrix` is also stored consecutively in memory\n",
    " going down column-by-\n",
    "column (_column-major_). That is,"
   ],
   "metadata": {}
  },
  {
   "outputs": [],
   "cell_type": "code",
   "source": [
    "A = [1 2;\n",
    "     3 4;\n",
    "     5 6]"
   ],
   "metadata": {},
   "execution_count": null
  },
  {
   "cell_type": "markdown",
   "source": [
    "Is actually stored equivalently to a length `6` vector `[A[1,1],A[2,1],A[3,1],A[1,2],A[2,2],A[3,2]]`:"
   ],
   "metadata": {}
  },
  {
   "outputs": [],
   "cell_type": "code",
   "source": [
    "vec(A)"
   ],
   "metadata": {},
   "execution_count": null
  },
  {
   "cell_type": "markdown",
   "source": [
    "which in this case would be stored using `8 * 6 = 48` consecutive bytes.\n",
    "Behind the scenes, a matrix is also \"pointer\" to the location of the first entry alongside two integers\n",
    "dictating the row and column sizes."
   ],
   "metadata": {}
  },
  {
   "cell_type": "markdown",
   "source": [
    "Matrix-vector multiplication works as expected because `*` is overloaded:"
   ],
   "metadata": {}
  },
  {
   "outputs": [],
   "cell_type": "code",
   "source": [
    "x = [7, 8]\n",
    "A * x"
   ],
   "metadata": {},
   "execution_count": null
  },
  {
   "cell_type": "markdown",
   "source": [
    "We can implement our own version for any types that support `*` and `+` but there are\n",
    "actually two different ways. The most natural mathematical way is to multiply-by-rows:"
   ],
   "metadata": {}
  },
  {
   "outputs": [],
   "cell_type": "code",
   "source": [
    "function mul_rows(A, x)\n",
    "    m,n = size(A)\n",
    "    # promote_type type finds a type that is compatible with both types, eltype gives the type of the elements of a vector / matrix\n",
    "    T = promote_type(eltype(x), eltype(A))\n",
    "    c = zeros(T, m) # the returned vector, begins of all zeros\n",
    "    for k = 1:m # for each column\n",
    "        for j = 1:n # then each row\n",
    "            c[k] += A[k, j] * x[j] # equivalent to c[k] = c[k] + A[k, j] * x[j]\n",
    "        end\n",
    "    end\n",
    "    c\n",
    "end"
   ],
   "metadata": {},
   "execution_count": null
  },
  {
   "cell_type": "markdown",
   "source": [
    "But we can also change the order of operations to give an alternative approach that is multiply-by-columns:"
   ],
   "metadata": {}
  },
  {
   "outputs": [],
   "cell_type": "code",
   "source": [
    "function mul_cols(A, x)\n",
    "    m,n = size(A)\n",
    "    # promote_type type finds a type that is compatible with both types, eltype gives the type of the elements of a vector / matrix\n",
    "    T = promote_type(eltype(x), eltype(A))\n",
    "    c = zeros(T, m) # the returned vector, begins of all zeros\n",
    "    for j = 1:n # for each column\n",
    "        for k = 1:m # then each row\n",
    "            c[k] += A[k, j] * x[j] # equivalent to c[k] = c[k] + A[k, j] * x[j]\n",
    "        end\n",
    "    end\n",
    "    c\n",
    "end"
   ],
   "metadata": {},
   "execution_count": null
  },
  {
   "cell_type": "markdown",
   "source": [
    "Both implementations match _exactly_ for integer inputs:"
   ],
   "metadata": {}
  },
  {
   "outputs": [],
   "cell_type": "code",
   "source": [
    "mul_rows(A, x), mul_cols(A, x) # also matches `A*x`"
   ],
   "metadata": {},
   "execution_count": null
  },
  {
   "cell_type": "markdown",
   "source": [
    "Either implementation will be $O(mn)$ operations. However, the implementation\n",
    "`mul_cols` accesses the entries of `A` going down the column,\n",
    "which happens to be _significantly faster_ than `mul_rows`, due to accessing\n",
    "memory of `A` in order. We can see this by measuring the time it takes using `@btime`:"
   ],
   "metadata": {}
  },
  {
   "outputs": [],
   "cell_type": "code",
   "source": [
    "n = 1000\n",
    "A = randn(n,n) # create n x n matrix with random normal entries\n",
    "x = randn(n) # create length n vector with random normal entries\n",
    "\n",
    "using BenchmarkTools # load package for reliable timing\n",
    "@btime mul_rows(A,x)\n",
    "@btime mul_cols(A,x)\n",
    "@btime A*x; # built-in, high performance implementation. USE THIS in practice"
   ],
   "metadata": {},
   "execution_count": null
  },
  {
   "cell_type": "markdown",
   "source": [
    "Here `ms` means milliseconds (`0.001 = 10^(-3)` seconds) and `μs` means microseconds (`0.000001 = 10^(-6)` seconds).\n",
    "On my machine we observe that `mul_cols` is roughly 2–3x faster than `mul_rows`, while the optimised `*` is roughly 5x faster than `mul_cols`.\n",
    "The reason why isn't too important for us (accessing memory in order is much faster than jumping around), but the key points are:\n",
    "1. Making fast algorithms is delicate and arguably more of an art than a science.\n",
    "2. We can focus on complexity rather than counting operations as the latter does not tell us speed.\n",
    "3. Use in-built implementations whenever available."
   ],
   "metadata": {}
  },
  {
   "cell_type": "markdown",
   "source": [
    "Note that the rules of floating point arithmetic apply here. Matrix multiplication with floats\n",
    "will incur round-off error (the precise details of which are subject to the implementation):"
   ],
   "metadata": {}
  },
  {
   "outputs": [],
   "cell_type": "code",
   "source": [
    "A = [1.4 0.4;\n",
    "     2.0 1/2]\n",
    "A * [1, -1] # First entry has round-off error, but 2nd entry is exact"
   ],
   "metadata": {},
   "execution_count": null
  },
  {
   "cell_type": "markdown",
   "source": [
    "And integer arithmetic will be subject to overflow:"
   ],
   "metadata": {}
  },
  {
   "outputs": [],
   "cell_type": "code",
   "source": [
    "A = fill(Int8(2^6), 2, 2) # make a matrix whose entries are all equal to 2^6\n",
    "A * Int8[1,1] # we have overflowed and get a negative number -2^7"
   ],
   "metadata": {},
   "execution_count": null
  },
  {
   "cell_type": "markdown",
   "source": [
    "Solving a linear system is done using `\\`:"
   ],
   "metadata": {}
  },
  {
   "outputs": [],
   "cell_type": "code",
   "source": [
    "A = [1 2 3;\n",
    "     1 2 4;\n",
    "     3 7 8]\n",
    "b = [10; 11; 12]\n",
    "A \\ b"
   ],
   "metadata": {},
   "execution_count": null
  },
  {
   "cell_type": "markdown",
   "source": [
    "Despite the answer being integer-valued,\n",
    "here we see that it resorted to using floating point arithmetic,\n",
    "incurring rounding error.\n",
    "But it is \"accurate to (roughly) 16-digits\".\n",
    "As we shall see, the way solving a linear system works is we first write `A` as a\n",
    "product of matrices that are easy to invert, e.g., a product of triangular matrices or a product of an orthogonal\n",
    "and triangular matrix."
   ],
   "metadata": {}
  },
  {
   "cell_type": "markdown",
   "source": [
    "### III.1.2 Triangular Matrices"
   ],
   "metadata": {}
  },
  {
   "cell_type": "markdown",
   "source": [
    "Triangular matrices are represented by dense square matrices where the entries below the\n",
    "diagonal are ignored:"
   ],
   "metadata": {}
  },
  {
   "outputs": [],
   "cell_type": "code",
   "source": [
    "A = [1 2 3;\n",
    "     4 5 6;\n",
    "     7 8 9]\n",
    "L = LowerTriangular(A)"
   ],
   "metadata": {},
   "execution_count": null
  },
  {
   "cell_type": "markdown",
   "source": [
    "We can see that `L` is storing all the entries of `A` in a field called `data`:"
   ],
   "metadata": {}
  },
  {
   "outputs": [],
   "cell_type": "code",
   "source": [
    "L.data"
   ],
   "metadata": {},
   "execution_count": null
  },
  {
   "cell_type": "markdown",
   "source": [
    "Similarly we can create an upper triangular matrix by ignoring the entries below the diagonal:"
   ],
   "metadata": {}
  },
  {
   "outputs": [],
   "cell_type": "code",
   "source": [
    "U = UpperTriangular(A)"
   ],
   "metadata": {},
   "execution_count": null
  },
  {
   "cell_type": "markdown",
   "source": [
    "If we know a matrix is triangular we can do matrix-vector multiplication in roughly half\n",
    "the number of operations by skipping over the entries we know are zero:"
   ],
   "metadata": {}
  },
  {
   "outputs": [],
   "cell_type": "code",
   "source": [
    "function mul_cols(L::LowerTriangular, x)\n",
    "    n = size(L,1)\n",
    "    # promote_type type finds a type that is compatible with both types, eltype gives the type of the elements of a vector / matrix\n",
    "    T = promote_type(eltype(x),eltype(L))\n",
    "    b = zeros(T, n) # the returned vector, begins of all zeros\n",
    "    for j = 1:n\n",
    "        xⱼ = x[j]\n",
    "        for k = j:n # k = j:n instead of 1:n since we know L[k,j] = 0 if k < j.\n",
    "            b[k] += L[k, j] * xⱼ\n",
    "        end\n",
    "    end\n",
    "    b\n",
    "end\n",
    "\n",
    "x = [10, 11, 12]\n",
    "# matches built-in * which also exploits the structure:\n",
    "@test mul_cols(L, x) == L*x"
   ],
   "metadata": {},
   "execution_count": null
  },
  {
   "cell_type": "markdown",
   "source": [
    "Moreover, we can easily invert matrices.\n",
    "Consider a simple 3×3 example, which can be solved with `\\`:"
   ],
   "metadata": {}
  },
  {
   "outputs": [],
   "cell_type": "code",
   "source": [
    "b = [5, 6, 7]\n",
    "x = L \\ b # Excercise: why does this return a float vector?"
   ],
   "metadata": {},
   "execution_count": null
  },
  {
   "cell_type": "markdown",
   "source": [
    "Behind the scenes, `\\` is doing forward-substitution.\n",
    "We can implement our own version as follows:"
   ],
   "metadata": {}
  },
  {
   "outputs": [],
   "cell_type": "code",
   "source": [
    "# ldiv is our own version of \\\n",
    "function ldiv(L::LowerTriangular, b)\n",
    "    n = size(L,1)\n",
    "\n",
    "    if length(b) != n\n",
    "        error(\"The system is not compatible\")\n",
    "    end\n",
    "\n",
    "    x = zeros(n)  # the solution vector\n",
    "    for k = 1:n  # start with k = 1\n",
    "        r = b[k]  # dummy variable\n",
    "        for j = 1:k-1\n",
    "            r -= L[k,j]*x[j]\n",
    "        end\n",
    "        x[k] = r/L[k,k]\n",
    "    end\n",
    "    x\n",
    "end\n",
    "\n",
    "\n",
    "@test ldiv(L, b) ≈ L\\b"
   ],
   "metadata": {},
   "execution_count": null
  },
  {
   "cell_type": "markdown",
   "source": [
    "------"
   ],
   "metadata": {}
  },
  {
   "cell_type": "markdown",
   "source": [
    "**Problem 3(a)** Complete the following function for upper triangular matrix-vector\n",
    "multiplication without ever accessing the zero entries of `L` above the diagonal.\n",
    "You may assume all numbers are `Float64`.\n",
    "Hint: just copy code for `mul_cols` and modify the for-loop ranges a la the `UpperTriangular`\n",
    "case."
   ],
   "metadata": {}
  },
  {
   "outputs": [],
   "cell_type": "code",
   "source": [
    "function mul_cols(U::UpperTriangular, x)\n",
    "    n = size(U,1)\n",
    "\n",
    "    b = zeros(n) # the returned vector, begins of all zeros\n",
    "\n",
    "    # TODO: populate b so that U*x ≈ b\n",
    "\n",
    "\n",
    "    b\n",
    "end\n",
    "\n",
    "U = UpperTriangular(randn(5,5))\n",
    "x = randn(5)\n",
    "@test U*x ≈ mul_cols(U, x)"
   ],
   "metadata": {},
   "execution_count": null
  },
  {
   "cell_type": "markdown",
   "source": [
    "**Problem 3(b)** Complete the following function for solving linear systems with\n",
    "upper triangular systems by implementing back-substitution. You may assume\n",
    "all input and output vectors have `Float64` values."
   ],
   "metadata": {}
  },
  {
   "outputs": [],
   "cell_type": "code",
   "source": [
    "# ldiv(U, b) is our implementation of U\\b\n",
    "function ldiv(U::UpperTriangular, b)\n",
    "    n = size(U,1)\n",
    "\n",
    "    if length(b) != n\n",
    "        error(\"The system is not compatible\")\n",
    "    end\n",
    "\n",
    "    x = zeros(n)  # the solution vector\n",
    "    # TODO: populate x with the entries according to back substitution.\n",
    "\n",
    "    x\n",
    "end\n",
    "\n",
    "\n",
    "U = UpperTriangular(randn(5,5))\n",
    "b = randn(5)\n",
    "@test U\\b ≈ ldiv(U, b)"
   ],
   "metadata": {},
   "execution_count": null
  },
  {
   "cell_type": "markdown",
   "source": [
    "## III.1.3 Banded matrices"
   ],
   "metadata": {}
  },
  {
   "cell_type": "markdown",
   "source": [
    "Diagonal matrices in Julia are stored as a vector containing the diagonal entries:"
   ],
   "metadata": {}
  },
  {
   "outputs": [],
   "cell_type": "code",
   "source": [
    "x = [1,2,3]\n",
    "D = Diagonal(x) # the type Diagonal has a single field: D.diag"
   ],
   "metadata": {},
   "execution_count": null
  },
  {
   "cell_type": "markdown",
   "source": [
    "It is clear that we can perform diagonal-vector multiplications and solve linear systems involving diagonal matrices efficiently\n",
    "(in $O(n)$ operations)."
   ],
   "metadata": {}
  },
  {
   "cell_type": "markdown",
   "source": [
    "We can create bidiagonal matrices in Julia by specifying the diagonal and off-diagonal:"
   ],
   "metadata": {}
  },
  {
   "outputs": [],
   "cell_type": "code",
   "source": [
    "L = Bidiagonal([1,2,3], [4,5], :L) # the type Bidiagonal has three fields: L.dv (diagonal), L.ev (lower-diagonal), L.uplo (either 'L', 'U')"
   ],
   "metadata": {},
   "execution_count": null
  },
  {
   "outputs": [],
   "cell_type": "code",
   "source": [
    "U = Bidiagonal([1,2,3], [4,5], :U) # When U.uplo == 'U' it is interpreted as an upper bidiagonal matrix"
   ],
   "metadata": {},
   "execution_count": null
  },
  {
   "cell_type": "markdown",
   "source": [
    "Multiplication and solving linear systems with Bidiagonal systems is also $O(n)$ operations, using the standard\n",
    "multiplications/back-substitution algorithms but being careful in the loops to only access the non-zero entries."
   ],
   "metadata": {}
  },
  {
   "cell_type": "markdown",
   "source": [
    "Julia has a type `Tridiagonal` for representing a tridiagonal matrix from its sub-diagonal, diagonal, and super-diagonal:"
   ],
   "metadata": {}
  },
  {
   "outputs": [],
   "cell_type": "code",
   "source": [
    "T = Tridiagonal([1,2], [3,4,5], [6,7]) # The type Tridiagonal has three fields: T.dl (sub), T.d (diag), T.du (super)"
   ],
   "metadata": {},
   "execution_count": null
  },
  {
   "cell_type": "markdown",
   "source": [
    "Tridiagonal matrices will come up in solving second-order differential equations and orthogonal polynomials.\n",
    "We will later see how linear systems involving tridiagonal matrices can be solved in $O(n)$ operations."
   ],
   "metadata": {}
  },
  {
   "cell_type": "markdown",
   "source": [
    "-----"
   ],
   "metadata": {}
  },
  {
   "cell_type": "markdown",
   "source": [
    "**Problem 4(a)** Complete the implementation of `UpperTridiagonal` which represents a banded matrix with\n",
    "bandwidths $(l,u) = (0,2)$ by overloading `getindex(U::UpperTridiagonal, k::Int, j::Int)` (which implements `U[k,j]`) and `setindex!(U::UpperTriangular, v, k::Int, j::Int)` (which implements `U[k,j] = v`). Return zero (of the same type as the other entries)\n",
    "if we are off the bands."
   ],
   "metadata": {}
  },
  {
   "outputs": [],
   "cell_type": "code",
   "source": [
    "struct UpperTridiagonal <: AbstractMatrix{Float64}\n",
    "    d   # diagonal entries stored as a Vector: d[k] == U[k,k]\n",
    "    du  # super-diagonal enries stored as a Vector: du[k] == U[k,k+1]\n",
    "    du2 # second-super-diagonal entries stored as a Vector: du2[k] == U[k,k+2]\n",
    "end\n",
    "\n",
    "# This uses the notation `<: AbstractMatrix{Float64}`: this tells Julia that our type is in fact a matrix\n",
    "# whose entries are `Float64`.\n",
    "# In order for it to behave a matrix we have to overload the function `size` for our type to return\n",
    "# the dimensions (in this case we just use the length of the diagonal):\n",
    "\n",
    "import Base: size, getindex, setindex!\n",
    "\n",
    "size(U::UpperTridiagonal) = (length(U.d),length(U.d))\n",
    "\n",
    "# Julia still doesn't know what the entries of the matrix are. To do this we need to overload `getindex`.\n",
    "# We also overload `setindex!` to allow changing the non-zero entries.\n",
    "\n",
    "\n",
    "# getindex(U, k, j) is another way to write U[k,j].\n",
    "# This function will therefore be called when we call U[k,j]\n",
    "function getindex(U::UpperTridiagonal, k::Int, j::Int)\n",
    "    d,du,du2 = U.d,U.du,U.du2\n",
    "    # TODO: return U[k,j]\n",
    "\n",
    "end\n",
    "\n",
    "# setindex!(U, v, k, j) gets called when we write (U[k,j] = v).\n",
    "function setindex!(U::UpperTridiagonal, v, k::Int, j::Int)\n",
    "    d,du,du2 = U.d,U.du,U.du2\n",
    "    if j > k+2 || j < k\n",
    "        error(\"Cannot modify off-band\")\n",
    "    end\n",
    "\n",
    "    # TODO: modify d,du,du2 so that U[k,j] == v\n",
    "\n",
    "    U # by convention we return the matrix\n",
    "end\n",
    "\n",
    "U = UpperTridiagonal([1.0,2,3,4,5], [1.0,2,3,4], [1.0,2,3])\n",
    "@test U == [1 1 1 0 0;\n",
    "            0 2 2 2 0;\n",
    "            0 0 3 3 3;\n",
    "            0 0 0 4 4;\n",
    "            0 0 0 0 5]\n",
    "\n",
    "U[3,4] = 2\n",
    "@test U == [1 1 1 0 0;\n",
    "            0 2 2 2 0;\n",
    "            0 0 3 2 3;\n",
    "            0 0 0 4 4;\n",
    "            0 0 0 0 5]"
   ],
   "metadata": {},
   "execution_count": null
  },
  {
   "cell_type": "markdown",
   "source": [
    "**Problem 4(b)** Complete the following implementations of `*` and `\\` for `UpperTridiagonal` so that\n",
    "they take only $O(n)$ operations. Hint: the function `max(a,b)` returns the larger of `a` or `b`\n",
    "and `min(a,b)` returns the smaller. They may help to avoid accessing zeros."
   ],
   "metadata": {}
  },
  {
   "outputs": [],
   "cell_type": "code",
   "source": [
    "import Base: *, \\\n",
    "\n",
    "function *(U::UpperTridiagonal, x::AbstractVector)\n",
    "    n = size(U,1)\n",
    "    b = zeros(n) # the returned vector, assume Float64 values\n",
    "    # TODO: populate b so that U*x ≈ b (up to rounding)\n",
    "\n",
    "    b\n",
    "end\n",
    "\n",
    "function \\(U::UpperTridiagonal, b::AbstractVector)\n",
    "    n = size(U,1)\n",
    "    if length(b) != n\n",
    "        error(\"The system is not compatible\")\n",
    "    end\n",
    "\n",
    "    x = zeros(n)  # the solution vector, assume Float64 values\n",
    "    # TODO: populate x so that U*x ≈ b\n",
    "\n",
    "    x\n",
    "end\n",
    "\n",
    "n = 1_000_000 # under-scores are like commas: so this is a million: 1,000,000\n",
    "U = UpperTridiagonal(ones(n), fill(0.5,n-1), fill(0.1,n-2))\n",
    "x = ones(n)\n",
    "b = [fill(1.6,n-2); 1.5; 1] # exact result\n",
    "# note following should take much less than a second\n",
    "@test U*x ≈ b\n",
    "@test U\\b ≈ x"
   ],
   "metadata": {},
   "execution_count": null
  },
  {
   "cell_type": "markdown",
   "source": [
    "---\n",
    "\n",
    "*This notebook was generated using [Literate.jl](https://github.com/fredrikekre/Literate.jl).*"
   ],
   "metadata": {}
  }
 ],
 "nbformat_minor": 3,
 "metadata": {
  "language_info": {
   "file_extension": ".jl",
   "mimetype": "application/julia",
   "name": "julia",
   "version": "1.11.2"
  },
  "kernelspec": {
   "name": "julia-1.11",
   "display_name": "Julia 1.11.2",
   "language": "julia"
  }
 },
 "nbformat": 4
}
