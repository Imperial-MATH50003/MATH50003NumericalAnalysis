{
 "cells": [
  {
   "cell_type": "markdown",
   "source": [
    "# MATH50003 (2024–25)\n",
    "# Lab 8: V.1 Fourier Expansions and V.2 Discrete Fourier Transform"
   ],
   "metadata": {}
  },
  {
   "cell_type": "markdown",
   "source": [
    "**Learning Outcomes**\n",
    "\n",
    "Mathematical knowledge:"
   ],
   "metadata": {}
  },
  {
   "cell_type": "markdown",
   "source": [
    "1."
   ],
   "metadata": {}
  },
  {
   "cell_type": "markdown",
   "source": [
    "Coding knowledge:"
   ],
   "metadata": {}
  },
  {
   "cell_type": "markdown",
   "source": [
    "1. The FFTW.jl package and the `fft` function.\n",
    "2."
   ],
   "metadata": {}
  },
  {
   "cell_type": "markdown",
   "source": [
    "We first load  packages we need including two new ones, FFTW.jl (for the fast Foourier transform)\n",
    "and QuadGK.jl (for black-box numerical integration)"
   ],
   "metadata": {}
  },
  {
   "outputs": [],
   "cell_type": "code",
   "source": [
    "using LinearAlgebra, Plots, FFTW, QuadGK, Test"
   ],
   "metadata": {},
   "execution_count": null
  },
  {
   "cell_type": "markdown",
   "source": [
    "## V.1 Fourier Expansions"
   ],
   "metadata": {}
  },
  {
   "cell_type": "markdown",
   "source": [
    "We consider the Fourier expansion\n",
    "$$\n",
    "f(x) = ∑_{k=-∞}^∞ f̂_k {\\rm e}^{{\\rm i}kθ}\n",
    "$$\n",
    "and the closely related Fourier–Taylor expansion\n",
    "$$\n",
    "f(x) = ∑_{k=0}^∞ f̂_k {\\rm e}^{{\\rm i}kθ}\n",
    "$$\n",
    "where\n",
    "$$\n",
    "f̂_k := {1 \\over 2π} ∫_0^{2π} {\\rm e}^{-{\\rm i}kθ} f(x)  {\\rm d}x.\n",
    "$$\n",
    "We will ultimately use the Trapezium rule to compute $f̂_k$ but for now we will use QuadGK.jl\n",
    "to get a high-accuracy approximation. QuadGK.jl implements a black-box algorithm for computing\n",
    "integrals via `quadgk`, eg."
   ],
   "metadata": {}
  },
  {
   "outputs": [],
   "cell_type": "code",
   "source": [
    "σ,ε = quadgk(exp, 0, 1) # integrates exp(x) for x ∈ [0,1]"
   ],
   "metadata": {},
   "execution_count": null
  },
  {
   "cell_type": "markdown",
   "source": [
    "This returns a 2-tuple, the first argument is an approximation to the integral"
   ],
   "metadata": {}
  },
  {
   "outputs": [],
   "cell_type": "code",
   "source": [
    "@test σ ≈ exp(1)-1"
   ],
   "metadata": {},
   "execution_count": null
  },
  {
   "cell_type": "markdown",
   "source": [
    "whilst the second argument is an estimate for the error, which in this case is spot-on:"
   ],
   "metadata": {}
  },
  {
   "outputs": [],
   "cell_type": "code",
   "source": [
    "abs(σ - (exp(1)-1))"
   ],
   "metadata": {},
   "execution_count": null
  },
  {
   "cell_type": "markdown",
   "source": [
    "If we give an extra parameter `atol` we can specify the desired accuracy.\n",
    "We can thus use this to compute  approximations to the true Fourier coefficients that are accurate\n",
    "to $10^{-12}$ via:"
   ],
   "metadata": {}
  },
  {
   "outputs": [],
   "cell_type": "code",
   "source": [
    "fouriercoefficient(f, k) = quadgk(θ -> f(θ)*exp(-im*k*θ), 0, 2π, atol=1E-12)[1]/(2π)\n",
    "fouriercoefficient(exp, 0)"
   ],
   "metadata": {},
   "execution_count": null
  },
  {
   "cell_type": "markdown",
   "source": [
    "We can use this to approximate a finite truncation of the Fourier series\n",
    "$$\n",
    "fₙ(θ) = ∑_{k=-m}^m f̂ₖ {\\rm e}^{{\\rm i}kθ}\n",
    "$$"
   ],
   "metadata": {}
  },
  {
   "outputs": [],
   "cell_type": "code",
   "source": [
    "m = 20 # n = 2m+1 Fourier coefficients\n",
    "f̂ = [fouriercoefficient(exp, k) for k = -m:m]\n",
    "F = θ -> [exp(im*k*θ) for k = -m:m] # Create the Fourier basis\n",
    "fₙ = θ -> transpose(F(θ))*f̂ # finite Fourier series\n",
    "g = range(0, 2π, 1000) # plotting grid\n",
    "plot(g, exp.(g); label=\"f\")\n",
    "plot!(g, real(fₙ.(g)); label=\"Re fₙ(θ)\")\n",
    "plot!(g, imag(fₙ.(g)); label=\"Im fₙ(θ)\")"
   ],
   "metadata": {},
   "execution_count": null
  },
  {
   "cell_type": "markdown",
   "source": [
    "Because of symmetry properties the imaginary part is numerically zero.\n",
    "But observe also that the approxiamtion overshoots at $0$ and $2π$, something\n",
    "known as _Gibb's phenomenon_."
   ],
   "metadata": {}
  },
  {
   "cell_type": "markdown",
   "source": [
    "**Problem 1(a)** Repeat the above experiment for the non-symmetric truncation\n",
    "$$\n",
    "fₙ(θ) = ∑_{k=-m}^{m-1} f̂ₖ {\\rm e}^{{\\rm i}kθ}\n",
    "$$\n",
    "with $n = 2m$ Fourier coefficients, where $m = 20$,\n",
    "for $f(θ) = \\exp(θ)$, $f(θ) = \\exp(\\cos(θ))$, and $\\exp(\\exp({\\rm i} θ))$. Is the imaginary part still\n",
    "numerically zero? # Does the second example appear to converge at $0$ and $2π$?"
   ],
   "metadata": {}
  },
  {
   "outputs": [],
   "cell_type": "code",
   "source": [
    "m = 20 # n = 2m Fourier coefficients\n",
    "# TODO: plot the truncated Fourier expansion with coefficients ranging from -m:m-1"
   ],
   "metadata": {},
   "execution_count": null
  },
  {
   "cell_type": "markdown",
   "source": [
    "**Problem 1(b)**  Plot the finite Fourier-Taylor expansion\n",
    "$$\n",
    "fₙ(θ) = ∑_{k=0}^{ n-1} f̂ₖ {\\rm e}^{{\\rm i}kθ}\n",
    "$$\n",
    "where $n = 20$,\n",
    "for $f(θ) = \\exp(θ)$, $f(θ) = \\exp(\\cos(θ))$, and $\\exp(\\exp({\\rm i} θ))$.\n",
    "For which of these functions does the approximation appear to converge?"
   ],
   "metadata": {}
  },
  {
   "outputs": [],
   "cell_type": "code",
   "source": [
    "n = 20\n",
    "# TODO: plot the truncated Fourier-Taylor expansion with coefficients ranging from 0:n-1"
   ],
   "metadata": {},
   "execution_count": null
  },
  {
   "cell_type": "markdown",
   "source": [
    "**Problem 1(c)** A cosine expansion is a special case of Fourier series of the form\n",
    "$$\n",
    "f(θ) = ∑_{k=0}^∞ f̌_k \\cos k θ.\n",
    "$$\n",
    "Derive an expression for $f̌_k$ and plot the finite cosine expansion\n",
    "$$\n",
    "fₙ(θ) = ∑_{k=0}^{ n-1} f̌_k \\cos k θ\n",
    "$$\n",
    "for $f(θ) = \\exp(θ)$ and $f(θ) = \\exp(\\cos(θ))$. You may assume $f$ is real\n",
    "and the returned coefficients should be real.\n",
    "For which of these functions does the approximation appear to converge?"
   ],
   "metadata": {}
  },
  {
   "outputs": [],
   "cell_type": "code",
   "source": [
    "n = 20\n",
    "function cosinecoefficient(f, k)\n",
    "    # TODO: use quadgk to approximate f̌_k\n",
    "\n",
    "end\n",
    "@test cosinecoefficient(θ -> exp(cos(θ)), 5) isa Float64\n",
    "@test cosinecoefficient(θ -> exp(cos(θ)), 5) ≈ 0.0005429263119137845\n",
    "\n",
    "# TODO: plot the truncated cosine expansion with coefficients ranging from 0:n-1"
   ],
   "metadata": {},
   "execution_count": null
  },
  {
   "cell_type": "markdown",
   "source": [
    "### V.1.1 Convergence of Fourier series"
   ],
   "metadata": {}
  },
  {
   "cell_type": "markdown",
   "source": [
    "Different function have different rates of convergence for their Fourier series,\n",
    "which is largely dictated by the rate of decay in their coefficients. We can explore\n",
    "how different _regularity_, i.e., the smoothness of the function, influences the rate of decay\n",
    "of a Fourier expansion."
   ],
   "metadata": {}
  },
  {
   "cell_type": "markdown",
   "source": [
    "**Problem 2(a)** Plot  the absolute value of coefficients for the functions $\\exp θ$,\n",
    "$θ (2π - θ) \\exp θ$ and $θ^2 (2π-θ)^2 \\exp θ$. By scaling the $x$- and $y$-axis logarithmically deduce\n",
    "experimentally the rate of decay."
   ],
   "metadata": {}
  },
  {
   "outputs": [],
   "cell_type": "code",
   "source": [
    "# TODO: plot the coefficients for the three functions with different smoothness properties and deduce the rate of decay."
   ],
   "metadata": {},
   "execution_count": null
  },
  {
   "cell_type": "markdown",
   "source": [
    "**Problem 2(b)** Repeat the above for $1/(\\cos^2 θ + 1)$ and $1/(25 \\cos^2 θ + 1)$, $\\exp(\\cos θ)$. Is the\n",
    "convergence algebraic, exponential, or super-exponential?"
   ],
   "metadata": {}
  },
  {
   "outputs": [],
   "cell_type": "code",
   "source": [
    "# TODO: plot the coefficients for the three functions with different smoothness properties and deduce the rate of decay."
   ],
   "metadata": {},
   "execution_count": null
  },
  {
   "cell_type": "markdown",
   "source": [
    "### V.1.2 Trapezium rule and discrete Fourier coefficients"
   ],
   "metadata": {}
  },
  {
   "cell_type": "markdown",
   "source": [
    "Above we use `quadgk` to compute the Fourier integrals, however, this has highly limited the number of coefficients\n",
    "we can compute as it becomes prohibitively expensive for large `k`. Instead, we can leverage the Trapezium rule which has\n",
    "highly structured error properties for computing Fourier integrals. We can use a modified version of the `trapeziumrule` function\n",
    "from Lab 1:"
   ],
   "metadata": {}
  },
  {
   "outputs": [],
   "cell_type": "code",
   "source": [
    "function periodictrapeziumrule(f, n)\n",
    "    ret = 0.0\n",
    "    for j = 0:n-1\n",
    "        ret = ret + f(2π*j/n)\n",
    "    end\n",
    "    ret/n\n",
    "end\n",
    "\n",
    "f = θ -> exp(cos(θ))\n",
    "@test periodictrapeziumrule(f, 10) ≈ quadgk(f, 0, 2π)[1]/(2π)"
   ],
   "metadata": {},
   "execution_count": null
  },
  {
   "cell_type": "markdown",
   "source": [
    "**Problem 3** Implement the functio"
   ],
   "metadata": {}
  },
  {
   "cell_type": "markdown",
   "source": [
    "**Problem 4**"
   ],
   "metadata": {}
  },
  {
   "cell_type": "markdown",
   "source": [
    "### V.1.3 Convergence of Approximate Fourier expansions"
   ],
   "metadata": {}
  },
  {
   "cell_type": "markdown",
   "source": [
    "**Problem 5**"
   ],
   "metadata": {}
  },
  {
   "cell_type": "markdown",
   "source": [
    "## V.2 Discrete Fourier Transform"
   ],
   "metadata": {}
  },
  {
   "cell_type": "markdown",
   "source": [
    "The Fast Fourier Transform is"
   ],
   "metadata": {}
  },
  {
   "cell_type": "markdown",
   "source": [
    "**Problem 6**"
   ],
   "metadata": {}
  },
  {
   "cell_type": "markdown",
   "source": [
    "### V.2.1 Trigonometric Interpolation"
   ],
   "metadata": {}
  },
  {
   "cell_type": "markdown",
   "source": [
    "**Problem 7**"
   ],
   "metadata": {}
  },
  {
   "cell_type": "markdown",
   "source": [
    "---\n",
    "\n",
    "*This notebook was generated using [Literate.jl](https://github.com/fredrikekre/Literate.jl).*"
   ],
   "metadata": {}
  }
 ],
 "nbformat_minor": 3,
 "metadata": {
  "language_info": {
   "file_extension": ".jl",
   "mimetype": "application/julia",
   "name": "julia",
   "version": "1.11.2"
  },
  "kernelspec": {
   "name": "julia-1.11",
   "display_name": "Julia 1.11.2",
   "language": "julia"
  }
 },
 "nbformat": 4
}
