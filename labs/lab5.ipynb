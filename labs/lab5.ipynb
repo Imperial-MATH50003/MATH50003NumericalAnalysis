{
 "cells": [
  {
   "cell_type": "markdown",
   "source": [
    "# MATH50003 (2024–25)\n",
    "# Lab 5: III.2 LU Factorisation and III.3 Cholesky Factorisation"
   ],
   "metadata": {}
  },
  {
   "cell_type": "markdown",
   "source": [
    "In this lab we explore using LU, PLU and Cholesky factorisations, and\n",
    "implement algorithms for computing a Cholesky factorisation. We explore\n",
    "stability properties of these different factorisations, and see that the\n",
    "Cholesky factorisation is a robust way of determining if a matrix is symmetric\n",
    "postive definite."
   ],
   "metadata": {}
  },
  {
   "cell_type": "markdown",
   "source": [
    "**Learning Outcomes**\n",
    "\n",
    "Mathematical knowledge:\n",
    "\n",
    "1. LU and PLU factorisations\n",
    "2. Cholesky and reverse Cholesky factorisations, including for banded matrices."
   ],
   "metadata": {}
  },
  {
   "cell_type": "markdown",
   "source": [
    "Coding knowledge:\n",
    "\n",
    "1. Using the `lu` and `cholesky` functions."
   ],
   "metadata": {}
  },
  {
   "cell_type": "markdown",
   "source": [
    "We load the following packages:"
   ],
   "metadata": {}
  },
  {
   "outputs": [],
   "cell_type": "code",
   "source": [
    "using LinearAlgebra, Plots, Test"
   ],
   "metadata": {},
   "execution_count": null
  },
  {
   "cell_type": "markdown",
   "source": [
    "### III.2 LU and PLU Factorisations"
   ],
   "metadata": {}
  },
  {
   "cell_type": "markdown",
   "source": [
    "LU, PLU and Cholesky factorisations are closely related\n",
    "matrix factorisations that reduce a square matrix to a product of\n",
    "lower and upper triangular matrices, possibly with a permutation matrix.\n",
    "We will only focus on the practical usage of LU and PLU, without digging into the\n",
    "details of implementation."
   ],
   "metadata": {}
  },
  {
   "cell_type": "markdown",
   "source": [
    "### III.2.1 LU Factorisation"
   ],
   "metadata": {}
  },
  {
   "cell_type": "markdown",
   "source": [
    "If $A ∈ 𝔽^{n × n}$ is a square matrix where $𝔽$ is a field ($ℝ$ or $ℂ$)\n",
    "then we can sometimes find lower and upper triangular matrices $L,U ∈ 𝔽^{n × n}$ such that\n",
    "$$\n",
    "A = LU.\n",
    "$$\n",
    "This is equivalent to Gaussian elimination but we will only focus on practical usage in this lab.\n",
    "This factorisation can be computed using the `lu` function, but as the default is a PLU factorisation we add a flag\n",
    "telling it not to use pivoting/permutations:"
   ],
   "metadata": {}
  },
  {
   "outputs": [],
   "cell_type": "code",
   "source": [
    "A = [1.0 1 1;\n",
    "     2   4 8;\n",
    "     1   4 9]\n",
    "\n",
    "L,U = lu(A, NoPivot()) # NoPivot is a flag that tells lu to not use permutations"
   ],
   "metadata": {},
   "execution_count": null
  },
  {
   "cell_type": "markdown",
   "source": [
    "This matches what we derived by hand in the notes and indeed:"
   ],
   "metadata": {}
  },
  {
   "outputs": [],
   "cell_type": "code",
   "source": [
    "@test A ≈ L*U"
   ],
   "metadata": {},
   "execution_count": null
  },
  {
   "cell_type": "markdown",
   "source": [
    "We can use an LU factorisation to reduce solving a linear system to inverting triangular matrices:"
   ],
   "metadata": {}
  },
  {
   "outputs": [],
   "cell_type": "code",
   "source": [
    "b = randn(3)\n",
    "c = L \\ b # computed using forward elimination (even though L is a Matrix, \\ detects it is lower triangular)\n",
    "x = U \\ c # computed using back substitution\n",
    "@test A \\ b ≈ x"
   ],
   "metadata": {},
   "execution_count": null
  },
  {
   "cell_type": "markdown",
   "source": [
    "If a matrix has a zero on a pivot we know by equivalence to Gaussian elimination that an LU factorisation\n",
    "does not exist:"
   ],
   "metadata": {}
  },
  {
   "outputs": [],
   "cell_type": "code",
   "source": [
    "A[1,1] = 0\n",
    "lu(A, NoPivot()) # throws an error"
   ],
   "metadata": {},
   "execution_count": null
  },
  {
   "cell_type": "markdown",
   "source": [
    "But even if it has a very small but non-zero entry we get huge errors:"
   ],
   "metadata": {}
  },
  {
   "outputs": [],
   "cell_type": "code",
   "source": [
    "A[1,1] = 1E-14\n",
    "L,U = lu(A, NoPivot()) # Succeeds but suddenly U is on order of 2E14!"
   ],
   "metadata": {},
   "execution_count": null
  },
  {
   "outputs": [],
   "cell_type": "code",
   "source": [
    "norm(A \\ b - U\\(L\\b)) # Very large error! A \\ b uses pivoting now."
   ],
   "metadata": {},
   "execution_count": null
  },
  {
   "cell_type": "markdown",
   "source": [
    "**WARNING** The parantheses are important: algebra is left-associative so had we written `U\\L\\b` this would have been interpreted as\n",
    "`(U\\L) \\ b` which would have meant `inv(inv(U)*L)*b == L \\ (U*b)`."
   ],
   "metadata": {}
  },
  {
   "cell_type": "markdown",
   "source": [
    "-----"
   ],
   "metadata": {}
  },
  {
   "cell_type": "markdown",
   "source": [
    "**Problem 1** For `A` defined above, consider setting  `A[1,1] = ε` for `ε = 10.0 ^ (-k)` for `k = 0,…,14`\n",
    "with the right-hand side `b = [1,2,3]`.\n",
    "Plot, scaling the $y$-axis logarithmically, the growth rate in the error of using LU compared to `\\`.\n",
    "Make a conjecture on how the error grows as $k → ∞$.\n",
    "Hint: you can either allocate a vector of errors that is populated in a for-loop or write a simple comprehension."
   ],
   "metadata": {}
  },
  {
   "outputs": [],
   "cell_type": "code",
   "source": [
    "# TODO: Do a log-log plot for A with its 1,1 entry set to different ε and guess the growth rate."
   ],
   "metadata": {},
   "execution_count": null
  },
  {
   "cell_type": "markdown",
   "source": [
    "-----"
   ],
   "metadata": {}
  },
  {
   "cell_type": "markdown",
   "source": [
    "## III.2.2 PLU Factorisation"
   ],
   "metadata": {}
  },
  {
   "cell_type": "markdown",
   "source": [
    "In general it is necessary to use pivoting, a feature you have seen\n",
    "in Gaussian elimination but as Problem 1 demonstrates we need to do so even if we do not encounter\n",
    "a zero. This corresponds to a factorisation of the form\n",
    "$$\n",
    " A = P^⊤LU\n",
    "$$\n",
    "where $P$ is a permutation matrix, $L$ is lower triangular and $U$ is upper triangular.\n",
    "We compute this as follows, printing out the permutation:"
   ],
   "metadata": {}
  },
  {
   "outputs": [],
   "cell_type": "code",
   "source": [
    "A = [0.1 1 1;\n",
    "     2   4 8;\n",
    "     1   4 9]\n",
    "\n",
    "L,U,σ = lu(A)\n",
    "σ"
   ],
   "metadata": {},
   "execution_count": null
  },
  {
   "cell_type": "markdown",
   "source": [
    "The permutation matrix is encoded as a vector $σ$. More precisely, we have\n",
    "$$\n",
    "    P 𝐯 = 𝐯[σ]\n",
    "$$\n",
    "Thus we can solve a linear system by  first permuting the entries of the right-hand side:"
   ],
   "metadata": {}
  },
  {
   "outputs": [],
   "cell_type": "code",
   "source": [
    "b = [10,11,12]\n",
    "b̃ = b[σ] # permute the entries to [b[2],b[3],b[1]]"
   ],
   "metadata": {},
   "execution_count": null
  },
  {
   "cell_type": "markdown",
   "source": [
    "And then inverting $L$ and $U$ as before:"
   ],
   "metadata": {}
  },
  {
   "outputs": [],
   "cell_type": "code",
   "source": [
    "c = L \\ b̃ # invert L with forward substitution\n",
    "x = U \\ c # invert U with back substitution\n",
    "\n",
    "@test x == A \\ b # \\ also use PLU to do the solve so these exactly equal"
   ],
   "metadata": {},
   "execution_count": null
  },
  {
   "cell_type": "markdown",
   "source": [
    "Note in the following problems we will see that PLU is _usually_ stable but not always.\n",
    "Fortunately the set of matrices where it fails to be accurate has extremely small measure.\n",
    "The big _open problem_ in numerical linear algebra is to turn this observation into a precise statement."
   ],
   "metadata": {}
  },
  {
   "cell_type": "markdown",
   "source": [
    "-----"
   ],
   "metadata": {}
  },
  {
   "cell_type": "markdown",
   "source": [
    "**Problem 2(a)** Complete the function  `badmatrix(n)` that returns the following $ℤ^{n × n}$ matrix:\n",
    "$$\n",
    "  B_n := \\begin{bmatrix}\n",
    "      1      &&&& 1  \\\\\n",
    "      -1 & 1       &&& 1   \\\\\n",
    "      ⋮ & ⋱ & ⋱   && ⋮    \\\\\n",
    "      -1 & ⋯ & -1 & 1 & 1 \\\\\n",
    "      -1 & ⋯ & -1 & -1 & 1\n",
    "  \\end{bmatrix}\n",
    "$$\n",
    "That is: all entries below the diagonal are $-1$ whilst the diagonal and last column are $1$."
   ],
   "metadata": {}
  },
  {
   "outputs": [],
   "cell_type": "code",
   "source": [
    "function badmatrix(n)\n",
    "    # TODO: make the \"bad matrix\" with `Int` entries defined above and return it\n",
    "\n",
    "end\n",
    "\n",
    "@test badmatrix(3) isa Matrix{Int}\n",
    "@test badmatrix(3) == [1 0 1; -1 1 1; -1 -1 1]"
   ],
   "metadata": {},
   "execution_count": null
  },
  {
   "cell_type": "markdown",
   "source": [
    "**Problem 2(b)** Does `lu` use pivoting with `badmatrix(n)`? Does it use\n",
    "pivoting with a small random perturbation (created via `randn(n,n)`)?"
   ],
   "metadata": {}
  },
  {
   "outputs": [],
   "cell_type": "code",
   "source": [
    "# TODO: Use `lu` on `badmatrix(n)` and a small perturbation to determine if it\n",
    "# is using pivoting."
   ],
   "metadata": {},
   "execution_count": null
  },
  {
   "cell_type": "markdown",
   "source": [
    "**Problem 2(c)** We can test the accuracy of a method for inverting a matrix\n",
    "by applying the matrix and seeing how different it was from the input, eg.\n",
    "computing `norm(A*(A\\b) - b)`. This would be zero if everything was done with\n",
    "exact arithmetic. Plot the norm of this error for `b = randn(n)` for `bandmatrix(n)`\n",
    "and `badmatrix(n) + 1E-15*randn(n,n)` for `n = 25, 50, 75, 100` and\n",
    "compare the observed differences in accuracy of PLU."
   ],
   "metadata": {}
  },
  {
   "outputs": [],
   "cell_type": "code",
   "source": [
    "# TODO: plot the error norm(A*(A\\b) - b) for the perturbed and unperturbed badmatrix(n).\n",
    "# What do you observe?"
   ],
   "metadata": {},
   "execution_count": null
  },
  {
   "cell_type": "markdown",
   "source": [
    "-----"
   ],
   "metadata": {}
  },
  {
   "cell_type": "markdown",
   "source": [
    "## III.3 Cholesky factorisation"
   ],
   "metadata": {}
  },
  {
   "cell_type": "markdown",
   "source": [
    "The Cholesky factorisation is a special case of LU factorisation for the case\n",
    "when a matrix is symmetric positive definite (SPD). Hidden in the proof that a Cholesky factorisation\n",
    "exists if and only if the matrix is SPD is a simple algorithm for computing it:"
   ],
   "metadata": {}
  },
  {
   "outputs": [],
   "cell_type": "code",
   "source": [
    "function mycholesky(A)\n",
    "    T = eltype(A)\n",
    "    m,n = size(A)\n",
    "    if n ≠ m\n",
    "        error(\"Matrix must be square\")\n",
    "    end\n",
    "    if A ≠ A'\n",
    "        error(\"Matrix must be symmetric\")\n",
    "    end\n",
    "\n",
    "    L = LowerTriangular(zeros(T,n,n)) # a lower triangular matrix that at the end will satisfy L'L\n",
    "    Aⱼ = copy(A)\n",
    "    for j = 1:n\n",
    "        α,𝐯 = Aⱼ[1,1],Aⱼ[2:end,1]\n",
    "        if α ≤ 0\n",
    "            error(\"Matrix is not SPD\") # this error would be a proof that the matrix is not SPD, if done rigorously\n",
    "        end\n",
    "        L[j,j] = sqrt(α)\n",
    "        L[j+1:end,j] = 𝐯/sqrt(α)\n",
    "\n",
    "        # induction part\n",
    "        K = Aⱼ[2:end,2:end] # drop first row and column of A\n",
    "        Aⱼ = K - 𝐯*𝐯'/α\n",
    "    end\n",
    "    L\n",
    "end\n",
    "\n",
    "A = Symmetric(rand(100,100) + 100I) # Symmetric takes in a matrix and produces a symmetric version using the upper-triangular part.\n",
    "L = mycholesky(A)\n",
    "@test A ≈ L*L'"
   ],
   "metadata": {},
   "execution_count": null
  },
  {
   "cell_type": "markdown",
   "source": [
    "With exact arithmetic algorithm succeeds if and only if $A$ is symmetric positive definite.\n",
    "With floating point errors this is not necessarily the case. (One could run it with interval arithmetic\n",
    "but that would only prove a matrix is SPD if the algorithm succeeded, failure could be caused by\n",
    "rounding.)"
   ],
   "metadata": {}
  },
  {
   "cell_type": "markdown",
   "source": [
    "In practice one would normally use the inbuilt `cholesky` function as follows:"
   ],
   "metadata": {}
  },
  {
   "outputs": [],
   "cell_type": "code",
   "source": [
    "L̃ = cholesky(A).L\n",
    "@test L̃ ≈ L # our implementation matches (approximately) the high-performance implementation."
   ],
   "metadata": {},
   "execution_count": null
  },
  {
   "cell_type": "markdown",
   "source": [
    "In the following problem we consider a Cholesky factorisation for tridiagonal matrices. Since we are assuming the\n",
    "matrix is symmetric, we will use a special type `SymTridiagonal` that captures the symmetry.\n",
    "In particular, `SymTridiagonal(dv, ev) == Tridiagonal(ev, dv, ev)`."
   ],
   "metadata": {}
  },
  {
   "cell_type": "markdown",
   "source": [
    "-----"
   ],
   "metadata": {}
  },
  {
   "cell_type": "markdown",
   "source": [
    "**Problem 3** Use `mycholesky` or `cholesky` to deduce if the following matrices are SPD.\n",
    "$$\n",
    "\\begin{bmatrix} 1 & -1  \\\\\n",
    "-1 & 3\n",
    "\\end{bmatrix}, \\begin{bmatrix} 1 & 2 & 2  \\\\\n",
    "2 & 1 & 2\\\\\n",
    "2 & 2 & 1\n",
    "\\end{bmatrix}, \\begin{bmatrix} 3 & 2 & 1  \\\\\n",
    "2 & 4 & 2\\\\\n",
    "1 & 2 & 5\n",
    "\\end{bmatrix},\n",
    "\\begin{bmatrix} 4 & 2 & 2 & 1  \\\\\n",
    "2 & 4 & 2 & 2\\\\\n",
    "2 & 2 & 4 & 2 \\\\\n",
    "1 & 2 & 2 & 4\n",
    "\\end{bmatrix}\n",
    "$$"
   ],
   "metadata": {}
  },
  {
   "outputs": [],
   "cell_type": "code",
   "source": [
    "# TODO: Check if you got PS5 Q1 correct using a computer to do the Cholesky factorisation."
   ],
   "metadata": {},
   "execution_count": null
  },
  {
   "cell_type": "markdown",
   "source": [
    "**Problem 4** Complete the following\n",
    "implementation of `mycholesky` to return a `Bidiagonal` cholesky factor in $O(n)$ operations."
   ],
   "metadata": {}
  },
  {
   "outputs": [],
   "cell_type": "code",
   "source": [
    "# return a Bidiagonal L such that L'L == A (up to machine precision)\n",
    "# You are allowed to change A\n",
    "function mycholesky(A::SymTridiagonal)\n",
    "    d = A.dv # diagonal entries of A\n",
    "    u = A.ev # sub/super-diagonal entries of A\n",
    "    T = float(eltype(A)) # return type, make float in case A has Ints\n",
    "    n = length(d)\n",
    "    ld = zeros(T, n) # diagonal entries of L\n",
    "    ll = zeros(T, n-1) # sub-diagonal entries of L\n",
    "\n",
    "    # TODO: populate the diagonal entries ld and the sub-diagonal entries ll\n",
    "    # of L so that L*L' ≈ A\n",
    "\n",
    "\n",
    "    Bidiagonal(ld, ll, :L)\n",
    "end\n",
    "\n",
    "n = 1000\n",
    "A = SymTridiagonal(2*ones(n),-ones(n-1))\n",
    "L = mycholesky(A)\n",
    "@test L isa Bidiagonal\n",
    "@test L*L' ≈ A"
   ],
   "metadata": {},
   "execution_count": null
  },
  {
   "cell_type": "markdown",
   "source": [
    "---\n",
    "\n",
    "*This notebook was generated using [Literate.jl](https://github.com/fredrikekre/Literate.jl).*"
   ],
   "metadata": {}
  }
 ],
 "nbformat_minor": 3,
 "metadata": {
  "language_info": {
   "file_extension": ".jl",
   "mimetype": "application/julia",
   "name": "julia",
   "version": "1.11.2"
  },
  "kernelspec": {
   "name": "julia-1.11",
   "display_name": "Julia 1.11.2",
   "language": "julia"
  }
 },
 "nbformat": 4
}
