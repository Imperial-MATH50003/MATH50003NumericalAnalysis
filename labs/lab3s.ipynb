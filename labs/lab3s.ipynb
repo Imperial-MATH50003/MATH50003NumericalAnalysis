{
 "cells": [
  {
   "cell_type": "markdown",
   "metadata": {},
   "source": [
    "# MATH50003 (2024–25)\n",
    "# Lab 3: II.1 Reals and II.2 Floating Point Arithmetic"
   ]
  },
  {
   "cell_type": "markdown",
   "metadata": {},
   "source": [
    "In this lab, we will explore how a computer represents integers (both signed and unsigned) and reals.\n",
    "In particular, its usage of modular and floating point arithmetic.\n",
    "We also investigate the rounding behaviour of floating point numbers\n",
    "and see how we can manually set the rounding."
   ]
  },
  {
   "cell_type": "markdown",
   "metadata": {},
   "source": [
    "**Learning Outcomes**\n",
    "\n",
    "Mathematical knowledge:\n",
    "\n",
    "1. Behaviour of modular arithmetic for signed and unsigned integers.\n",
    "2. Binary and hexadecimal integer formats.\n",
    "3. Storage of floating point numbers.\n",
    "\n",
    "Coding knowledge:\n",
    "\n",
    "1. Creating numbers with different formats via `UInt8`, `Float16`, etc.\n",
    "2. The `sizeof`, `reinterpret`, `parse`, `typemax`, `bitstring`, and `printbits` functions\n",
    "3. String construction and concatenation via `*`.\n",
    "4. Creating floating point numbers by specifying their bits.\n",
    "5. Setting the rounding mode in constructors like `Float32` and via `setrounding`.\n",
    "6. High precision floating point numbers via `big` and setting precision via `setprecision`."
   ]
  },
  {
   "cell_type": "markdown",
   "metadata": {},
   "source": [
    "We load an external `ColorBitstring` package\n",
    "which implements functions `printbits` (and `printlnbits`)\n",
    "to print the bits (and with a newline) of numbers in colour,\n",
    "and an external `SetRounding` package which allows for\n",
    "manually setting the rounding mode."
   ]
  },
  {
   "cell_type": "code",
   "execution_count": 1,
   "metadata": {},
   "outputs": [],
   "source": [
    "using ColorBitstring, SetRounding, Test"
   ]
  },
  {
   "cell_type": "markdown",
   "metadata": {},
   "source": [
    "If this fails you may need to call `] add ColorBitstring SetRounding`."
   ]
  },
  {
   "cell_type": "markdown",
   "metadata": {},
   "source": [
    "## Integers"
   ]
  },
  {
   "cell_type": "markdown",
   "metadata": {},
   "source": [
    "We first explore the representation and behaviour of integers in Julia,\n",
    "which is identical to other compiled languages like C, Swift, Rust, etc.\n",
    "and exposes how a computer actually computes with Integers.\n",
    "(Python is an interpreted language and its integers are more akin to\n",
    "`BigInt` discussed later, though in NumPy it uses the same\n",
    "types as Julia.)\n",
    "The basic integer type, which is constructed when we write say `5` is\n",
    "the signed integer type `Int`:"
   ]
  },
  {
   "cell_type": "code",
   "execution_count": 2,
   "metadata": {},
   "outputs": [
    {
     "data": {
      "text/plain": [
       "Int64"
      ]
     },
     "metadata": {},
     "output_type": "display_data"
    }
   ],
   "source": [
    "typeof(5)"
   ]
  },
  {
   "cell_type": "markdown",
   "metadata": {},
   "source": [
    "On a 64-bit machine this will return `Int64` indicating it is using 64-bits.\n",
    "(It's possible your machine is 32-bit in which case this will be `Int32`.)\n",
    "But other integer types exist, in particular for unsigned integers and for\n",
    "different number of bits."
   ]
  },
  {
   "cell_type": "markdown",
   "metadata": {},
   "source": [
    "Every primitive number type is stored as a sequence of bits.\n",
    "The number of _bytes_ (i.e. 8-bits) can be deduced using the `sizeof` function:"
   ]
  },
  {
   "cell_type": "code",
   "execution_count": 3,
   "metadata": {},
   "outputs": [
    {
     "data": {
      "text/plain": [
       "8"
      ]
     },
     "metadata": {},
     "output_type": "display_data"
    }
   ],
   "source": [
    "sizeof(Int64) # 8 bytes == 8*8 bits == 64 bits"
   ]
  },
  {
   "cell_type": "markdown",
   "metadata": {},
   "source": [
    "We will use the `printbits` command provided by `ColorBitstring` to see what bits\n",
    "are actually stored, eg."
   ]
  },
  {
   "cell_type": "code",
   "execution_count": 4,
   "metadata": {},
   "outputs": [
    {
     "name": "stdout",
     "output_type": "stream",
     "text": [
      "\u001b[31m0\u001b[0m\u001b[34m000000000000000000000000000000000000000000000000000000000000101\u001b[0m"
     ]
    }
   ],
   "source": [
    "printbits(5)"
   ]
  },
  {
   "cell_type": "markdown",
   "metadata": {},
   "source": [
    "### Unsigned integers"
   ]
  },
  {
   "cell_type": "markdown",
   "metadata": {},
   "source": [
    "Unsigned integers are used to represent non-negative integers. In Julia\n",
    "these correspond to types `UInt8`, `UInt16`, etc. where the number indicates\n",
    "the number of bits. The easiest way to create such an integer is to convert\n",
    "from an `Int`:"
   ]
  },
  {
   "cell_type": "code",
   "execution_count": 5,
   "metadata": {},
   "outputs": [
    {
     "data": {
      "text/plain": [
       "0x05"
      ]
     },
     "metadata": {},
     "output_type": "display_data"
    }
   ],
   "source": [
    "UInt8(5) # creates an Int and converts it to an UInt8\n",
    "         # displaying the result in hex, i.e. base-16"
   ]
  },
  {
   "cell_type": "markdown",
   "metadata": {},
   "source": [
    "This fails if a number cannot be represented as a specified type:\n",
    "e.g. `UInt8(-5)` and `UInt8(2^8)`."
   ]
  },
  {
   "cell_type": "markdown",
   "metadata": {},
   "source": [
    "We can also create unsigned integers by specifying their bits\n",
    "by writing `0b` followed by a sequence of bits:"
   ]
  },
  {
   "cell_type": "code",
   "execution_count": 6,
   "metadata": {},
   "outputs": [
    {
     "data": {
      "text/plain": [
       "0x05"
      ]
     },
     "metadata": {},
     "output_type": "display_data"
    }
   ],
   "source": [
    "0b101 # creates an UInt8, the smallest type with at least 3 bits"
   ]
  },
  {
   "cell_type": "code",
   "execution_count": 7,
   "metadata": {},
   "outputs": [
    {
     "data": {
      "text/plain": [
       "0x05dd"
      ]
     },
     "metadata": {},
     "output_type": "display_data"
    }
   ],
   "source": [
    "0b10111011101 # creates an UInt16, the smallest type with at least 11 bits"
   ]
  },
  {
   "cell_type": "markdown",
   "metadata": {},
   "source": [
    "-----\n",
    "**Problem 1(a)** Use binary format to create an `UInt32` corresponding to $(101101)_2$."
   ]
  },
  {
   "cell_type": "code",
   "execution_count": 8,
   "metadata": {},
   "outputs": [
    {
     "data": {
      "text/plain": [
       "0x0000002d"
      ]
     },
     "metadata": {},
     "output_type": "display_data"
    }
   ],
   "source": [
    "# TODO: Create an UInt32 representing (101101)_2\n",
    "# SOLUTION\n",
    "UInt32(0b101101) # without the UInt32 it will be a UInt8. Another solution would be 0b00000000000101101\n",
    "# END"
   ]
  },
  {
   "cell_type": "markdown",
   "metadata": {},
   "source": [
    "**Problem 1(b)** What happens if you specify more than 64 bits using `0b⋅⋅…⋅⋅`?\n",
    "What if you specify more than 128 bits?"
   ]
  },
  {
   "cell_type": "code",
   "execution_count": 9,
   "metadata": {},
   "outputs": [
    {
     "data": {
      "text/plain": [
       "BigInt"
      ]
     },
     "metadata": {},
     "output_type": "display_data"
    }
   ],
   "source": [
    "# TODO: Experiment with 0b with different amounts of digits.\n",
    "# SOLUTION\n",
    "typeof(0b111111111111111111111111111111111111111111111111111111111111111111111111111111111111) # creates a UInt128\n",
    "\n",
    "typeof(0b111111111111111111111111111111111111111111111111111111111111111111111111111111111111111111111111111111111111111111111111111111111111111111111111111111111111111111111111) # creates a BigInt\n",
    "# END"
   ]
  },
  {
   "cell_type": "markdown",
   "metadata": {},
   "source": [
    "-----"
   ]
  },
  {
   "cell_type": "markdown",
   "metadata": {},
   "source": [
    "Integers use modular arithmetic for addition, subtraction and multiplication:"
   ]
  },
  {
   "cell_type": "code",
   "execution_count": 10,
   "metadata": {},
   "outputs": [
    {
     "name": "stdout",
     "output_type": "stream",
     "text": [
      "\u001b[34m00010001\u001b[0m + \n",
      "\u001b[34m00000011\u001b[0m = \n",
      "\u001b[34m00010100\u001b[0m\n",
      "\u001b[34m00010001\u001b[0m - \n",
      "\u001b[34m00000011\u001b[0m = \n",
      "\u001b[34m00001110\u001b[0m"
     ]
    }
   ],
   "source": [
    "x = UInt8(17)  # An 8-bit representation of the number 17, i.e. with bits 00010001\n",
    "y = UInt8(3)   # An 8-bit representation of the number   3, i.e. with bits 00000011\n",
    "printbits(x); println(\" + \"); printbits(y); println(\" = \")\n",
    "printlnbits(x + y) # + is automatically modular arithmetic\n",
    "printbits(x); println(\" - \"); printbits(y); println(\" = \")\n",
    "printbits(x - y) # - is automatically modular arithmetic"
   ]
  },
  {
   "cell_type": "markdown",
   "metadata": {},
   "source": [
    "If we go past the largest integer we overflow and wrap around:"
   ]
  },
  {
   "cell_type": "code",
   "execution_count": 11,
   "metadata": {},
   "outputs": [
    {
     "name": "stdout",
     "output_type": "stream",
     "text": [
      "\u001b[34m11111111\u001b[0m + \n",
      "\u001b[34m00000001\u001b[0m = \n",
      "\u001b[34m00000000\u001b[0m"
     ]
    }
   ],
   "source": [
    "x = UInt8(255) # An 8-bit representation of the number 255, i.e. with bits 11111111\n",
    "y = UInt8(1)   # An 8-bit representation of the number   1, i.e. with bits 00000001\n",
    "printbits(x); println(\" + \"); printbits(y); println(\" = \")\n",
    "printbits(x + y) # + is automatically modular arithmetic"
   ]
  },
  {
   "cell_type": "markdown",
   "metadata": {},
   "source": [
    "A similar phenomena happens with subtraction:"
   ]
  },
  {
   "cell_type": "code",
   "execution_count": 12,
   "metadata": {},
   "outputs": [
    {
     "name": "stdout",
     "output_type": "stream",
     "text": [
      "\u001b[34m00000011\u001b[0m - \n",
      "\u001b[34m00000101\u001b[0m = \n",
      "\u001b[34m11111110\u001b[0m"
     ]
    }
   ],
   "source": [
    "x = UInt8(3) # An 8-bit representation of the number   3, i.e. with bits 00000011\n",
    "y = UInt8(5) # An 8-bit representation of the number   5, i.e. with bits 00000101\n",
    "printbits(x); println(\" - \"); printbits(y); println(\" = \")\n",
    "printbits(x - y) # - is automatically modular arithmetic"
   ]
  },
  {
   "cell_type": "markdown",
   "metadata": {},
   "source": [
    "Multiplication also works similarly. Multiplication by two shifts bits by\n",
    "one and modular arithmetic just drops extra bits so we have the following behaviour:"
   ]
  },
  {
   "cell_type": "code",
   "execution_count": 13,
   "metadata": {},
   "outputs": [
    {
     "name": "stdout",
     "output_type": "stream",
     "text": [
      "\u001b[34m11111110\u001b[0m * \n",
      "\u001b[34m00000010\u001b[0m = \n",
      "\u001b[34m11111100\u001b[0m"
     ]
    }
   ],
   "source": [
    "x = UInt8(254) # An 8-bit representation of the number 254, i.e. with bits 11111110\n",
    "y = UInt8(2)   # An 8-bit representation of the number   2, i.e. with bits 00000010\n",
    "printbits(x); println(\" * \"); printbits(y); println(\" = \")\n",
    "printbits(x * y) # represents 252"
   ]
  },
  {
   "cell_type": "markdown",
   "metadata": {},
   "source": [
    "### Signed integers"
   ]
  },
  {
   "cell_type": "markdown",
   "metadata": {},
   "source": [
    "Signed integers represent negative and non-negative integers, where\n",
    "if the first bit is `1` it is interpreted as a negative number, according to\n",
    "the 2's complement format. There are multiple types of signed integers including\n",
    "`Int8`, `Int16`, `Int32`, and `Int64`. By default we create an `Int` but we can\n",
    "convert an `Int` to another signed integer type:"
   ]
  },
  {
   "cell_type": "code",
   "execution_count": 14,
   "metadata": {},
   "outputs": [
    {
     "data": {
      "text/plain": [
       "5"
      ]
     },
     "metadata": {},
     "output_type": "display_data"
    }
   ],
   "source": [
    "Int8(5) # display of Int8 does not reveal its type"
   ]
  },
  {
   "cell_type": "markdown",
   "metadata": {},
   "source": [
    "It prints the same as `5` but calling `typeof` will confirm it is indeed an `Int8`.\n",
    "We can use `printbits` to see the expected binary format, matching that of `UInt8(5)`:"
   ]
  },
  {
   "cell_type": "code",
   "execution_count": 15,
   "metadata": {},
   "outputs": [
    {
     "name": "stdout",
     "output_type": "stream",
     "text": [
      "\u001b[31m0\u001b[0m\u001b[34m0000101\u001b[0m"
     ]
    }
   ],
   "source": [
    "printbits(Int8(5)) # 5 = 2^2 + 1"
   ]
  },
  {
   "cell_type": "markdown",
   "metadata": {},
   "source": [
    "Negative numbers use 2's complement. Suppose a\n",
    "$p$-bit signed integer has the same bits as a\n",
    "$p$-bit unsigned integer\n",
    "$x$. If The first bit is `0` this number is treated\n",
    "as positive and hence the signed integer is also $x$,\n",
    "i.e., `Int8(5)` and `Int8(5)` have the same bits.\n",
    "If the first bit of is `1` then it is interpreted as the\n",
    "negative number $x - 2^p$.\n",
    "\n",
    "For example, the bits `11111011` correspond to $251$\n",
    "but since the first bit is `1` it represents the integer\n",
    "$251 - 2^8 = -5$:"
   ]
  },
  {
   "cell_type": "code",
   "execution_count": 16,
   "metadata": {},
   "outputs": [
    {
     "name": "stdout",
     "output_type": "stream",
     "text": [
      "\u001b[31m1\u001b[0m\u001b[34m1111011\u001b[0m"
     ]
    }
   ],
   "source": [
    "printbits(Int8(-5))"
   ]
  },
  {
   "cell_type": "markdown",
   "metadata": {},
   "source": [
    "We can use the `reinterpret` function to create an unsigned integer by\n",
    "specifying a sequence of bits and reinterpreting the bits as a signed integer:"
   ]
  },
  {
   "cell_type": "code",
   "execution_count": 17,
   "metadata": {},
   "outputs": [
    {
     "data": {
      "text/plain": [
       "-1"
      ]
     },
     "metadata": {},
     "output_type": "display_data"
    }
   ],
   "source": [
    "reinterpret(Int8, 0b11111111) # Create an Int8 with the bits 11111111"
   ]
  },
  {
   "cell_type": "markdown",
   "metadata": {},
   "source": [
    "This is different from conversion via `Int8(0b11111111)` (which throws an error):\n",
    "`0b11111111` represents the (unsigned) integer $2^8-1 = 255$ and hence\n",
    "`Int8(0b11111111)` is equivalent to `Int8(UInt8(255))`. Since `255` is larger than\n",
    "the largest `Int8` (which is $2^7-1 = 127$) it would throw an error."
   ]
  },
  {
   "cell_type": "markdown",
   "metadata": {},
   "source": [
    "-----"
   ]
  },
  {
   "cell_type": "markdown",
   "metadata": {},
   "source": [
    "**Problem 2** Construct an `Int8` representing the number $-63$ by specifying its\n",
    "bits and using `reinterpret`."
   ]
  },
  {
   "cell_type": "code",
   "execution_count": 18,
   "metadata": {},
   "outputs": [
    {
     "data": {
      "text/plain": [
       "-63"
      ]
     },
     "metadata": {},
     "output_type": "display_data"
    }
   ],
   "source": [
    "# TODO: Create an unsigned integer with 8 bits and reinterpret to get Int8(-63)\n",
    "# SOLUTION\n",
    "# -63 + 256 = 193 = 128 + 64 + 1 = 2^7 + 2^6 + 1 = (11000001)_2\n",
    "\n",
    "reinterpret(Int8,0b11000001)\n",
    "\n",
    "# END"
   ]
  },
  {
   "cell_type": "markdown",
   "metadata": {},
   "source": [
    "-----"
   ]
  },
  {
   "cell_type": "markdown",
   "metadata": {},
   "source": [
    "### Strings and parsing"
   ]
  },
  {
   "cell_type": "markdown",
   "metadata": {},
   "source": [
    "Strings are a convenient way of representing arbitrary strings of digits:\n",
    "we can convert bits of a number to a string of \"1\"s and \"0\"s\n",
    "using the function `bitstring`. For example:"
   ]
  },
  {
   "cell_type": "code",
   "execution_count": 19,
   "metadata": {},
   "outputs": [
    {
     "data": {
      "text/plain": [
       "\"00000101\""
      ]
     },
     "metadata": {},
     "output_type": "display_data"
    }
   ],
   "source": [
    "bitstring(Int8(5))"
   ]
  },
  {
   "cell_type": "markdown",
   "metadata": {},
   "source": [
    "Whereas `printbits` prints the bits, this actually returns a string\n",
    "that can further be manipulated."
   ]
  },
  {
   "cell_type": "markdown",
   "metadata": {},
   "source": [
    "We can `parse` a string of digits in base 2 or 10:"
   ]
  },
  {
   "cell_type": "code",
   "execution_count": 20,
   "metadata": {},
   "outputs": [
    {
     "data": {
      "text/plain": [
       "(3, 11)"
      ]
     },
     "metadata": {},
     "output_type": "display_data"
    }
   ],
   "source": [
    "parse(Int8, \"11\"; base=2), # represents 2 + 1 = 3 as an Int8\n",
    "parse(Int8, \"00001011\"; base=2) # represents 2^3 + 2 + 1 = 11 as an Int8"
   ]
  },
  {
   "cell_type": "markdown",
   "metadata": {},
   "source": [
    "Be careful with \"negative\" numbers, the following will fail: `parse(Int8, \"10001011\"; base=2)`"
   ]
  },
  {
   "cell_type": "markdown",
   "metadata": {},
   "source": [
    "It treats the string as binary digits, NOT bits. That is, negative numbers\n",
    "are represented using the minus sign:"
   ]
  },
  {
   "cell_type": "code",
   "execution_count": 21,
   "metadata": {},
   "outputs": [
    {
     "data": {
      "text/plain": [
       "-11"
      ]
     },
     "metadata": {},
     "output_type": "display_data"
    }
   ],
   "source": [
    "parse(Int8, \"-00001011\"; base=2)"
   ]
  },
  {
   "cell_type": "markdown",
   "metadata": {},
   "source": [
    "To concatenate strings we can use `*` (multiplication is used because string concatenation\n",
    "is non-commutative):"
   ]
  },
  {
   "cell_type": "code",
   "execution_count": 22,
   "metadata": {},
   "outputs": [
    {
     "data": {
      "text/plain": [
       "\"hibye\""
      ]
     },
     "metadata": {},
     "output_type": "display_data"
    }
   ],
   "source": [
    "\"hi\" * \"bye\""
   ]
  },
  {
   "cell_type": "markdown",
   "metadata": {},
   "source": [
    "The string consisting of the first nine characters can be found using `str[1:9]` where `str` is any string:"
   ]
  },
  {
   "cell_type": "code",
   "execution_count": 23,
   "metadata": {},
   "outputs": [
    {
     "data": {
      "text/plain": [
       "\"hibye0123\""
      ]
     },
     "metadata": {},
     "output_type": "display_data"
    }
   ],
   "source": [
    "str = \"hibye0123445556\"\n",
    "str[1:9]  # returns \"hibye0123\""
   ]
  },
  {
   "cell_type": "markdown",
   "metadata": {},
   "source": [
    "The string consisting of the 11th through last character can be found using `str[11:end]`:"
   ]
  },
  {
   "cell_type": "code",
   "execution_count": 24,
   "metadata": {},
   "outputs": [
    {
     "data": {
      "text/plain": [
       "\"45556\""
      ]
     },
     "metadata": {},
     "output_type": "display_data"
    }
   ],
   "source": [
    "str = \"hibye0123445556\"\n",
    "str[11:end]  # returns \"45556\""
   ]
  },
  {
   "cell_type": "markdown",
   "metadata": {},
   "source": [
    "We can combine string manipulation with `bitstring` and `parse` to manipulate bits.\n",
    "For example, we can see which `Int8` has the same bits as `Int8(5)` but with the third bit\n",
    "set to 1."
   ]
  },
  {
   "cell_type": "code",
   "execution_count": 25,
   "metadata": {},
   "outputs": [
    {
     "data": {
      "text/plain": [
       "37"
      ]
     },
     "metadata": {},
     "output_type": "display_data"
    }
   ],
   "source": [
    "str = bitstring(Int8(5)) # string of bits for 5, eg  \"00000101\"\n",
    "tru = str[4:end] # drop first four characters of the string, eg \"000101\"\n",
    "swa = str[1:2] * \"1\" * tru # add the character \"1\" at the third position, eg \"00100101\"\n",
    "parse(Int8, swa; base=2) # answer is 37 = 5 + 2^5"
   ]
  },
  {
   "cell_type": "markdown",
   "metadata": {},
   "source": [
    "-----"
   ]
  },
  {
   "cell_type": "markdown",
   "metadata": {},
   "source": [
    "**Problem 3(a)** Can you predict what the output of the following will be before hitting return?"
   ]
  },
  {
   "cell_type": "code",
   "execution_count": 26,
   "metadata": {},
   "outputs": [
    {
     "data": {
      "text/plain": [
       "\"0000000000000000000000000000000000000000000000000000000000001011\""
      ]
     },
     "metadata": {},
     "output_type": "display_data"
    }
   ],
   "source": [
    "bitstring(11)"
   ]
  },
  {
   "cell_type": "code",
   "execution_count": 27,
   "metadata": {},
   "outputs": [
    {
     "data": {
      "text/plain": [
       "\"1111111111111111111111111111111111111111111111111111111111110101\""
      ]
     },
     "metadata": {},
     "output_type": "display_data"
    }
   ],
   "source": [
    "bitstring(-11)\n",
    "\n",
    "# SOLUTION\n",
    "bitstring(11) # \"0000000000000000000000000000000000000000000000000000000000001011\"\n",
    "bitstring(-11) # \"1111111111111111111111111111111111111111111111111111111111110101\"\n",
    "# this is because mod(-11, 2^64) == 2^64 - 12 == 0b10000…000 - 0b1100 == 0b111…11 - 0b1011 + 0b1\n",
    "# END"
   ]
  },
  {
   "cell_type": "markdown",
   "metadata": {},
   "source": [
    "**Problem 3(b)** Combine `parse`, `reinterpret`, and `UInt8` to convert the\n",
    "above string to a (negative) `Int8` with the specified bits."
   ]
  },
  {
   "cell_type": "code",
   "execution_count": 28,
   "metadata": {},
   "outputs": [
    {
     "data": {
      "text/plain": [
       "\"10001011\""
      ]
     },
     "metadata": {},
     "output_type": "display_data"
    }
   ],
   "source": [
    "# TODO: combine parse and reinterpret\n",
    "# SOLUTION\n",
    "\n",
    "# The above code creates the bits \"11110101\". Instead, we first parse the bits:\n",
    "\n",
    "x = reinterpret(Int8, parse(UInt8, \"10001011\"; base=2)) # -117\n",
    "bitstring(x)\n",
    "\n",
    "# END"
   ]
  },
  {
   "cell_type": "markdown",
   "metadata": {},
   "source": [
    "**Problem 3(c)** Complete the following function that sets the 10th bit of an `Int32` to `1`,\n",
    "and returns an `Int32`, assuming that the input is a positive integer, using `bitstring`,\n",
    "`parse` and `*`."
   ]
  },
  {
   "cell_type": "code",
   "execution_count": 29,
   "metadata": {},
   "outputs": [
    {
     "data": {
      "text/plain": [
       "\u001b[32m\u001b[1mTest Passed\u001b[22m\u001b[39m"
      ]
     },
     "metadata": {},
     "output_type": "display_data"
    }
   ],
   "source": [
    "function tenthbitto1(x::Int32)\n",
    "    # TODO: change the 10th bit of x to 1\n",
    "    # SOLUTION\n",
    "    ret = bitstring(x)\n",
    "    parse(Int32, ret[1:9] * \"1\" * ret[11:end]; base=2)\n",
    "    # END\n",
    "end\n",
    "\n",
    "@test tenthbitto1(Int32(100)) ≡ Int32(4194404)"
   ]
  },
  {
   "cell_type": "markdown",
   "metadata": {},
   "source": [
    "------"
   ]
  },
  {
   "cell_type": "markdown",
   "metadata": {},
   "source": [
    "### Hexadecimal and binary format"
   ]
  },
  {
   "cell_type": "markdown",
   "metadata": {},
   "source": [
    "In Julia unsigned integers are displayed in hexadecimal\n",
    "form: that is, in base-16.\n",
    "Since there are only 10 standard digits (`0-9`) it uses 6 letters (`a–f`) to represent\n",
    "11–16. For example,"
   ]
  },
  {
   "cell_type": "code",
   "execution_count": 30,
   "metadata": {},
   "outputs": [
    {
     "data": {
      "text/plain": [
       "0xfa"
      ]
     },
     "metadata": {},
     "output_type": "display_data"
    }
   ],
   "source": [
    "UInt8(250)"
   ]
  },
  {
   "cell_type": "markdown",
   "metadata": {},
   "source": [
    "because `f` corresponds to 15 and `a` corresponds to 10, and we have\n",
    "$$\n",
    "15 * 16 + 10 = 250.\n",
    "$$\n",
    "The reason for this is that each hex-digit encodes 4 bits (since 4 bits have $2^4 = 16$ possible\n",
    "values) and hence two hex-digits are encode 1 byte, and thus the digits correspond\n",
    "exactly with how memory is divided into addresses.\n",
    "We can create unsigned integers either by specifying their hex format:"
   ]
  },
  {
   "cell_type": "code",
   "execution_count": 31,
   "metadata": {},
   "outputs": [
    {
     "data": {
      "text/plain": [
       "0xfa"
      ]
     },
     "metadata": {},
     "output_type": "display_data"
    }
   ],
   "source": [
    "0xfa"
   ]
  },
  {
   "cell_type": "markdown",
   "metadata": {},
   "source": [
    "Alternatively, we can specify their digits.\n",
    "For example, we know $(f)_{16} = 15 = (1111)_2$ and $(a)_{16} = 10 = (1010)_2$ and hence\n",
    "$250 = (fa)_{16} = (11111010)_2$ can be written as"
   ]
  },
  {
   "cell_type": "code",
   "execution_count": 32,
   "metadata": {},
   "outputs": [
    {
     "data": {
      "text/plain": [
       "0xfa"
      ]
     },
     "metadata": {},
     "output_type": "display_data"
    }
   ],
   "source": [
    "0b11111010"
   ]
  },
  {
   "cell_type": "markdown",
   "metadata": {},
   "source": [
    "-----"
   ]
  },
  {
   "cell_type": "markdown",
   "metadata": {},
   "source": [
    "## II.1 Reals\n",
    "\n",
    "Real numbers interpret a sequence of bits as a real number, specified in\n",
    "floating point.\n",
    "In Julia these correspond to 3 different floating-point types:"
   ]
  },
  {
   "cell_type": "markdown",
   "metadata": {},
   "source": [
    "• `Float64` is a type representing double precision ($F_{64} = F_{1023,11,52}$).\n",
    "We can create a `Float64` by including a\n",
    "decimal point when writing the number:"
   ]
  },
  {
   "cell_type": "code",
   "execution_count": 33,
   "metadata": {},
   "outputs": [
    {
     "data": {
      "text/plain": [
       "5.3"
      ]
     },
     "metadata": {},
     "output_type": "display_data"
    }
   ],
   "source": [
    "5.3 # isa Float64"
   ]
  },
  {
   "cell_type": "markdown",
   "metadata": {},
   "source": [
    "We can use `printbits` to see the stored bits:"
   ]
  },
  {
   "cell_type": "code",
   "execution_count": 34,
   "metadata": {},
   "outputs": [
    {
     "name": "stdout",
     "output_type": "stream",
     "text": [
      "\u001b[31m0\u001b[0m\u001b[32m10000000001\u001b[0m\u001b[34m0100100000000000000000000000000000000000000000000000\u001b[0m"
     ]
    }
   ],
   "source": [
    "printbits(5.125)"
   ]
  },
  {
   "cell_type": "markdown",
   "metadata": {},
   "source": [
    "Or we can see the number in a more mathematical notation:"
   ]
  },
  {
   "cell_type": "code",
   "execution_count": 35,
   "metadata": {},
   "outputs": [
    {
     "data": {
      "text/plain": [
       "\"2^2 * (1.0100100000000000000000000000000000000000000000000000)_2\""
      ]
     },
     "metadata": {},
     "output_type": "display_data"
    }
   ],
   "source": [
    "binarystring(5.125)"
   ]
  },
  {
   "cell_type": "markdown",
   "metadata": {},
   "source": [
    "The red bit is the sign bit (0 means positive). The Green bits represent the exponent, in this case:"
   ]
  },
  {
   "cell_type": "code",
   "execution_count": 36,
   "metadata": {},
   "outputs": [
    {
     "data": {
      "text/plain": [
       "2"
      ]
     },
     "metadata": {},
     "output_type": "display_data"
    }
   ],
   "source": [
    "σ = 1023 # the shift according to Float64 format\n",
    "0b10000000001 - σ # == 2"
   ]
  },
  {
   "cell_type": "markdown",
   "metadata": {},
   "source": [
    "The blue bits are the significand. In this case represent $(1.01001)_2 = 1 + 2^{-2} + 2^{-5} = 1.28125$. And indeed\n",
    "we have\n",
    "$$\n",
    "2^2 (1+2^{-2} + 2^{-5}) = 5 + 2^{-3} = 5.125\n",
    "$$"
   ]
  },
  {
   "cell_type": "markdown",
   "metadata": {},
   "source": [
    "Alternatively, one can use scientific notation: `5.125e0` to construct a `Float64`.\n",
    "`Float64` is the default format for\n",
    "scientific computing.\n",
    "\n",
    "• `Float32` is a type representing single precision ($F_{32} = F_{127,8,23}$).  We can create a `Float32` by including a\n",
    "`f0` when writing the number. Here we create a `Float32` and print its bits:"
   ]
  },
  {
   "cell_type": "code",
   "execution_count": 37,
   "metadata": {},
   "outputs": [
    {
     "name": "stdout",
     "output_type": "stream",
     "text": [
      "\u001b[31m0\u001b[0m\u001b[32m10000001\u001b[0m\u001b[34m01001000000000000000000\u001b[0m"
     ]
    }
   ],
   "source": [
    "printbits(5.125f0) # 5.125f0 of type Float32"
   ]
  },
  {
   "cell_type": "markdown",
   "metadata": {},
   "source": [
    "Or more mathematically:"
   ]
  },
  {
   "cell_type": "code",
   "execution_count": 38,
   "metadata": {},
   "outputs": [
    {
     "data": {
      "text/plain": [
       "\"2^2 * (1.01001000000000000000000)_2\""
      ]
     },
     "metadata": {},
     "output_type": "display_data"
    }
   ],
   "source": [
    "binarystring(5.125f0)"
   ]
  },
  {
   "cell_type": "markdown",
   "metadata": {},
   "source": [
    "Now the exponent is"
   ]
  },
  {
   "cell_type": "code",
   "execution_count": 39,
   "metadata": {},
   "outputs": [
    {
     "data": {
      "text/plain": [
       "2"
      ]
     },
     "metadata": {},
     "output_type": "display_data"
    }
   ],
   "source": [
    "σ = 127 # the shift according to Float32 format\n",
    "0b10000001 - σ # == 2"
   ]
  },
  {
   "cell_type": "markdown",
   "metadata": {},
   "source": [
    "and again we see this represents `5.125`.\n",
    "`Float32` is generally the default format for graphics (on the _Graphics Processing Unit_, GPU),\n",
    "as the difference between 32 bits and 64 bits is indistinguishable to the eye in visualisation,\n",
    "and more data can be fit into a GPU's limited memory."
   ]
  },
  {
   "cell_type": "markdown",
   "metadata": {},
   "source": [
    "• `Float16` is a type representing half-precision ($F_{16} = F_{15,5,10}$).\n",
    "It is important in machine learning where one wants to maximise the amount of data\n",
    "and high accuracy is not necessarily helpful.  We create `Float16` by converting a `Float64`\n",
    "as follows:"
   ]
  },
  {
   "cell_type": "code",
   "execution_count": 40,
   "metadata": {},
   "outputs": [
    {
     "name": "stdout",
     "output_type": "stream",
     "text": [
      "\u001b[31m0\u001b[0m\u001b[32m10001\u001b[0m\u001b[34m0100100000\u001b[0m"
     ]
    }
   ],
   "source": [
    "printbits(Float16(5.125))"
   ]
  },
  {
   "cell_type": "markdown",
   "metadata": {},
   "source": [
    "I.e., mathematically:"
   ]
  },
  {
   "cell_type": "code",
   "execution_count": 41,
   "metadata": {},
   "outputs": [
    {
     "data": {
      "text/plain": [
       "\"2^2 * (1.0100100000)_2\""
      ]
     },
     "metadata": {},
     "output_type": "display_data"
    }
   ],
   "source": [
    "binarystring(Float16(5.125))"
   ]
  },
  {
   "cell_type": "markdown",
   "metadata": {},
   "source": [
    "Now the exponent is"
   ]
  },
  {
   "cell_type": "code",
   "execution_count": 42,
   "metadata": {},
   "outputs": [
    {
     "data": {
      "text/plain": [
       "2"
      ]
     },
     "metadata": {},
     "output_type": "display_data"
    }
   ],
   "source": [
    "σ = 15 # the shift according to Float16 format\n",
    "0b10001 - σ # == 2"
   ]
  },
  {
   "cell_type": "markdown",
   "metadata": {},
   "source": [
    "and we are representing $5.125$ again.\n",
    "`Float16` is important in machine learning where one wants to maximise the amount of data\n",
    "and high accuracy is not necessarily helpful.\n",
    "\n",
    "-----"
   ]
  },
  {
   "cell_type": "markdown",
   "metadata": {},
   "source": [
    "**Problem 4(a)** Use `reinterpret` and binary format to deduce which `Float16` has bits\n",
    "`1 01010 1010101010`."
   ]
  },
  {
   "cell_type": "code",
   "execution_count": 43,
   "metadata": {},
   "outputs": [
    {
     "data": {
      "text/plain": [
       "Float16(-0.05206)"
      ]
     },
     "metadata": {},
     "output_type": "display_data"
    }
   ],
   "source": [
    "# TODO: Construct a Float16 with the bits 1 01010 1010101010\n",
    "# SOLUTION\n",
    "reinterpret(Float16, 0b1010101010101010)\n",
    "# END"
   ]
  },
  {
   "cell_type": "markdown",
   "metadata": {},
   "source": [
    "**Problem 4(b)** Use `printbits` to guess the binary representation of $1/5$."
   ]
  },
  {
   "cell_type": "code",
   "execution_count": 44,
   "metadata": {},
   "outputs": [
    {
     "name": "stdout",
     "output_type": "stream",
     "text": [
      "\u001b[31m0\u001b[0m\u001b[32m01111111100\u001b[0m\u001b[34m1001100110011001100110011001100110011001100110011010\u001b[0m"
     ]
    }
   ],
   "source": [
    "# TODO: Use printbits and guess the binary expansion of 1/5.\n",
    "# SOLUTION\n",
    "\n",
    "printbits(1/5)\n",
    "# exponent is 0b01111111100 == 1020 so we have 2^(1020 - 1023) = 2^(-3)\n",
    "# significand is 1.1001100110011001100110011001100110011001100110011010\n",
    "# guess: 1/5 == 2^(-3) (1.10011001100…)_2 2^(-3) (∑_{k=0}^∞ (2^(-4k) + 2^(-4k-1)))\n",
    "\n",
    "# END"
   ]
  },
  {
   "cell_type": "markdown",
   "metadata": {},
   "source": [
    "-----"
   ]
  },
  {
   "cell_type": "markdown",
   "metadata": {},
   "source": [
    "We now construct the largest and smallest `Float32` and check their bit sequences:"
   ]
  },
  {
   "cell_type": "code",
   "execution_count": 45,
   "metadata": {},
   "outputs": [
    {
     "name": "stdout",
     "output_type": "stream",
     "text": [
      "\u001b[31m0\u001b[0m\u001b[32m00000001\u001b[0m\u001b[34m00000000000000000000000\u001b[0m\n",
      "\u001b[31m0\u001b[0m\u001b[32m11111110\u001b[0m\u001b[34m11111111111111111111111\u001b[0m\n"
     ]
    }
   ],
   "source": [
    "σ,Q,S = 127,8,23 # Float32\n",
    "εₘ = 2.0^(-S)\n",
    "printlnbits(Float32(2.0^(1-σ))) # smallest positive normal Float32\n",
    "printlnbits(Float32(2.0^(2^Q-2-σ) * (2-εₘ))) # largest normal Float32"
   ]
  },
  {
   "cell_type": "markdown",
   "metadata": {},
   "source": [
    "For a given floating-point type, we can find these constants using the following functions:"
   ]
  },
  {
   "cell_type": "code",
   "execution_count": 46,
   "metadata": {},
   "outputs": [
    {
     "data": {
      "text/plain": [
       "(1.1920929f-7, 1.1754944f-38, 3.4028235f38)"
      ]
     },
     "metadata": {},
     "output_type": "display_data"
    }
   ],
   "source": [
    "eps(Float32), floatmin(Float32), floatmax(Float32)"
   ]
  },
  {
   "cell_type": "markdown",
   "metadata": {},
   "source": [
    "### II.1.4 Sub-normal and special numbers"
   ]
  },
  {
   "cell_type": "markdown",
   "metadata": {},
   "source": [
    "If all the exponent bits are `0` then the number represents a \"sub-normal\" floating point number."
   ]
  },
  {
   "cell_type": "markdown",
   "metadata": {},
   "source": [
    "**Example (creating a sub-normal number)** If we divide the smallest normal number by `2`, we get a subnormal number:"
   ]
  },
  {
   "cell_type": "code",
   "execution_count": 47,
   "metadata": {},
   "outputs": [
    {
     "name": "stdout",
     "output_type": "stream",
     "text": [
      "\u001b[31m0\u001b[0m\u001b[32m00000001\u001b[0m\u001b[34m00000000000000000000000\u001b[0m\n",
      "\u001b[31m0\u001b[0m\u001b[32m00000000\u001b[0m\u001b[34m10000000000000000000000\u001b[0m"
     ]
    }
   ],
   "source": [
    "mn = floatmin(Float32) # smallest normal Float32\n",
    "printlnbits(mn)\n",
    "printbits(mn/2)"
   ]
  },
  {
   "cell_type": "markdown",
   "metadata": {},
   "source": [
    "Can you explain the bits?\n",
    "\n",
    "Zero is a sub-normal number, but it turns out there is also a negative zero:"
   ]
  },
  {
   "cell_type": "code",
   "execution_count": 48,
   "metadata": {},
   "outputs": [
    {
     "name": "stdout",
     "output_type": "stream",
     "text": [
      "\u001b[31m0\u001b[0m\u001b[32m00000000000\u001b[0m\u001b[34m0000000000000000000000000000000000000000000000000000\u001b[0m\n",
      "\u001b[31m1\u001b[0m\u001b[32m00000000000\u001b[0m\u001b[34m0000000000000000000000000000000000000000000000000000\u001b[0m\n"
     ]
    }
   ],
   "source": [
    "printlnbits(0.0) # 0 has all bits 0\n",
    "printlnbits(-0.0) # -0 has sign bit 1 and all other bits zero"
   ]
  },
  {
   "cell_type": "markdown",
   "metadata": {},
   "source": [
    "-----"
   ]
  },
  {
   "cell_type": "markdown",
   "metadata": {},
   "source": [
    "**Problem 5** Create the smallest positive non-zero sub-normal `Float16` by specifying\n",
    "its bits."
   ]
  },
  {
   "cell_type": "code",
   "execution_count": 49,
   "metadata": {},
   "outputs": [
    {
     "data": {
      "text/plain": [
       "Float16(6.0e-8)"
      ]
     },
     "metadata": {},
     "output_type": "display_data"
    }
   ],
   "source": [
    "# TODO: create the smallest positive Float16\n",
    "# SOLUTION\n",
    "# sign is + so sign bit is 0, exponent is 00000 and significand is all zeros apart from a 1:\n",
    "reinterpret(Float16, 0b0000000000000001) # == nextfloat(Float16(0))\n",
    "# END"
   ]
  },
  {
   "cell_type": "markdown",
   "metadata": {},
   "source": [
    "-----"
   ]
  },
  {
   "cell_type": "markdown",
   "metadata": {},
   "source": [
    "The special numbers extend the real line by adding $±∞$ but also a notion of \"not-a-number\" ${\\rm NaN}$.\n",
    "Whenever the bits of the exponent $q$ of a floating-point number are all 1 then they represent an element of $F^{\\rm special}$.\n",
    "If all $b_k=0$, then the number represents either $±∞$, called `Inf` and `-Inf` for 64-bit floating-point numbers (or `Inf16`, `Inf32`\n",
    "for 16-bit and 32-bit, respectively):"
   ]
  },
  {
   "cell_type": "code",
   "execution_count": 50,
   "metadata": {},
   "outputs": [
    {
     "name": "stdout",
     "output_type": "stream",
     "text": [
      "\u001b[31m0\u001b[0m\u001b[32m11111\u001b[0m\u001b[34m0000000000\u001b[0m\n",
      "\u001b[31m1\u001b[0m\u001b[32m11111\u001b[0m\u001b[34m0000000000\u001b[0m"
     ]
    }
   ],
   "source": [
    "printlnbits(Inf16)\n",
    "printbits(-Inf16)"
   ]
  },
  {
   "cell_type": "markdown",
   "metadata": {},
   "source": [
    "All other special floating-point numbers represent ${\\rm NaN}$. One particular representation of ${\\rm NaN}$\n",
    "is denoted by `NaN` for 64-bit floating-point numbers (or `NaN16`, `NaN32` for 16-bit and 32-bit, respectively):"
   ]
  },
  {
   "cell_type": "code",
   "execution_count": 51,
   "metadata": {},
   "outputs": [
    {
     "name": "stdout",
     "output_type": "stream",
     "text": [
      "\u001b[31m0\u001b[0m\u001b[32m11111\u001b[0m\u001b[34m1000000000\u001b[0m"
     ]
    }
   ],
   "source": [
    "printbits(NaN16)"
   ]
  },
  {
   "cell_type": "markdown",
   "metadata": {},
   "source": [
    "Arithmetic works differently on `Inf` and `NaN` and for undefined operations.\n",
    "In particular we have:"
   ]
  },
  {
   "cell_type": "code",
   "execution_count": 52,
   "metadata": {},
   "outputs": [
    {
     "data": {
      "text/plain": [
       "true"
      ]
     },
     "metadata": {},
     "output_type": "display_data"
    }
   ],
   "source": [
    "1/0.0        # returns  Inf\n",
    "1/(-0.0)     # returns -Inf\n",
    "0.0/0.0      # returns  NaN\n",
    "\n",
    "Inf*0        # returns  NaN\n",
    "Inf+5        # returns  Inf\n",
    "(-1)*Inf     # returns -Inf\n",
    "1/Inf        # returns  0.0\n",
    "1/(-Inf)     # returns -0.0\n",
    "Inf - Inf    # returns  NaN\n",
    "Inf ==  Inf  # returns  true\n",
    "Inf == -Inf  # returns  false\n",
    "\n",
    "NaN*0        # returns  NaN\n",
    "NaN+5        # returns  NaN\n",
    "1/NaN        # returns  NaN\n",
    "NaN == NaN   # returns  false\n",
    "NaN != NaN   # returns  true"
   ]
  },
  {
   "cell_type": "markdown",
   "metadata": {},
   "source": [
    "Essentially `NaN` is a CPU's way of indicating an error has occurred, but computation\n",
    "will continue."
   ]
  },
  {
   "cell_type": "markdown",
   "metadata": {},
   "source": [
    "**Example (many `NaN`s)** What happens if we change some other $b_k$ to be nonzero?\n",
    "We can create bits as a string and see:"
   ]
  },
  {
   "cell_type": "code",
   "execution_count": 53,
   "metadata": {},
   "outputs": [
    {
     "data": {
      "text/plain": [
       "NaN16"
      ]
     },
     "metadata": {},
     "output_type": "display_data"
    }
   ],
   "source": [
    "i = 0b0111110000010001 # an UInt16\n",
    "reinterpret(Float16, i)"
   ]
  },
  {
   "cell_type": "markdown",
   "metadata": {},
   "source": [
    "Thus, there are many ways of representing `NaN`. (What a waste of perfectly good bit sequences!)"
   ]
  },
  {
   "cell_type": "markdown",
   "metadata": {},
   "source": [
    "-----"
   ]
  },
  {
   "cell_type": "markdown",
   "metadata": {},
   "source": [
    "## II.2 Floating Point Arithmetic"
   ]
  },
  {
   "cell_type": "markdown",
   "metadata": {},
   "source": [
    "Real numbers that cannot be exactly represented by a specified floating point format are automatically rounded\n",
    "to the nearest float, however, the rouding mode can be changed to round up or down.\n",
    "In Julia, the rounding mode is specified by tags `RoundUp`, `RoundDown`, and\n",
    "`RoundNearest`. (There are also more exotic rounding strategies `RoundToZero`, `RoundNearestTiesAway` and\n",
    "`RoundNearestTiesUp` that we won't use.)"
   ]
  },
  {
   "cell_type": "markdown",
   "metadata": {},
   "source": [
    "Let's try rounding a `Float64` to a `Float32`."
   ]
  },
  {
   "cell_type": "code",
   "execution_count": 54,
   "metadata": {},
   "outputs": [
    {
     "name": "stdout",
     "output_type": "stream",
     "text": [
      "\u001b[31m0\u001b[0m\u001b[32m01111111101\u001b[0m\u001b[34m0101010101010101010101010101010101010101010101010101\u001b[0m\n",
      "\u001b[31m0\u001b[0m\u001b[32m01111101\u001b[0m\u001b[34m01010101010101010101011\u001b[0m"
     ]
    }
   ],
   "source": [
    "printlnbits(1/3)  # 64 bits\n",
    "printbits(Float32(1/3))  # round to nearest 32-bit"
   ]
  },
  {
   "cell_type": "markdown",
   "metadata": {},
   "source": [
    "The default rounding mode can be changed:"
   ]
  },
  {
   "cell_type": "code",
   "execution_count": 55,
   "metadata": {},
   "outputs": [
    {
     "name": "stdout",
     "output_type": "stream",
     "text": [
      "\u001b[31m0\u001b[0m\u001b[32m01111101\u001b[0m\u001b[34m01010101010101010101010\u001b[0m"
     ]
    }
   ],
   "source": [
    "printbits(Float32(1/3,RoundDown)) # Rounds from a Float64 to Float32, rounding down"
   ]
  },
  {
   "cell_type": "markdown",
   "metadata": {},
   "source": [
    "Or alternatively we can change the rounding mode for a chunk of code\n",
    "using `setrounding`. The following computes upper and lower bounds for `/`:"
   ]
  },
  {
   "cell_type": "code",
   "execution_count": 56,
   "metadata": {},
   "outputs": [
    {
     "data": {
      "text/plain": [
       "(0.3333333f0, 0.33333334f0)"
      ]
     },
     "metadata": {},
     "output_type": "display_data"
    }
   ],
   "source": [
    "x = 1f0\n",
    "setrounding(Float32, RoundDown) do\n",
    "  x/3\n",
    "end,\n",
    "setrounding(Float32, RoundUp) do\n",
    "  x/3\n",
    "end"
   ]
  },
  {
   "cell_type": "markdown",
   "metadata": {},
   "source": [
    "**WARNING (compiled constants)**: Why did we first create a variable `x` instead of typing `1f0/3`?\n",
    "This is due to a very subtle issue where the compiler is _too clever for it's own good_:\n",
    "it recognises `1f0/3` can be computed at compile time, but failed to recognise the rounding mode\n",
    "was changed."
   ]
  },
  {
   "cell_type": "markdown",
   "metadata": {},
   "source": [
    "**Problem 6** Complete functions `exp_t_3_down`/`exp_t_3_up` implementing the first\n",
    "three terms of the Taylor expansion of $\\exp(x)$, that is, $1 + x + x^2/2 + x^3/6$ but where\n",
    "each operation is rounded down/up. Use `typeof(x)` to make sure you are changing the\n",
    "rounding mode for the right floating point type."
   ]
  },
  {
   "cell_type": "code",
   "execution_count": 57,
   "metadata": {},
   "outputs": [
    {
     "data": {
      "text/plain": [
       "\u001b[32m\u001b[1mTest Passed\u001b[22m\u001b[39m"
      ]
     },
     "metadata": {},
     "output_type": "display_data"
    }
   ],
   "source": [
    "function exp_t_3_down(x)\n",
    "    T = typeof(x) # use this to set the rounding mode\n",
    "    # TODO: use setrounding to compute 1 + x + x/2 + x^2/6 but rounding down\n",
    "    # SOLUTION\n",
    "    setrounding(T, RoundDown) do\n",
    "        1 + x + x^2/2 + x^3/6\n",
    "    end\n",
    "    # END\n",
    "end\n",
    "\n",
    "function exp_t_3_up(x)\n",
    "    # TODO: use setrounding to compute 1 + x + x/2 + x^2/6 but rounding up\n",
    "    # SOLUTION\n",
    "    T = typeof(x) # use this to set the rounding mode\n",
    "    setrounding(T, RoundUp) do\n",
    "        1 + x + x^2/2 + x^3/6\n",
    "    end\n",
    "    # END\n",
    "end\n",
    "\n",
    "@test exp_t_3_down(Float32(1)) ≡ 2.6666665f0 # ≡ checks type and all bits are equal\n",
    "@test exp_t_3_up(Float32(1)) ≡ 2.6666667f0"
   ]
  },
  {
   "cell_type": "markdown",
   "metadata": {},
   "source": [
    "### High-precision floating-point numbers"
   ]
  },
  {
   "cell_type": "markdown",
   "metadata": {},
   "source": [
    "It is possible to get higher precision (more signficand and exponent bits)\n",
    " of a floating-point number\n",
    "using the `BigFloat` type, which results from the usage of `big`\n",
    "when the result is not an integer.\n",
    "For example, here is an approximation of 1/3 accurate\n",
    "to 77 decimal digits:"
   ]
  },
  {
   "cell_type": "code",
   "execution_count": 58,
   "metadata": {},
   "outputs": [
    {
     "data": {
      "text/plain": [
       "0.3333333333333333333333333333333333333333333333333333333333333333333333333333348"
      ]
     },
     "metadata": {},
     "output_type": "display_data"
    }
   ],
   "source": [
    "big(1)/3"
   ]
  },
  {
   "cell_type": "markdown",
   "metadata": {},
   "source": [
    "We can see a mathematical version of what's stored:"
   ]
  },
  {
   "cell_type": "code",
   "execution_count": 59,
   "metadata": {},
   "outputs": [
    {
     "data": {
      "text/plain": [
       "\"2^-2 * (1.010101010101010101010101010101010101010101010101010101010101010101010101010101010101010101010101010101010101010101010101010101010101010101010101010101010101010101010101010101010101010101010101010101010101010101010101010101010101010101010101010101010101011)_2\""
      ]
     },
     "metadata": {},
     "output_type": "display_data"
    }
   ],
   "source": [
    "binarystring(big(1)/3)"
   ]
  },
  {
   "cell_type": "markdown",
   "metadata": {},
   "source": [
    "Note we can set the rounding mode as in `Float64`, e.g.,\n",
    "this gives (rigorous) bounds on\n",
    "`1/3`:"
   ]
  },
  {
   "cell_type": "code",
   "execution_count": 60,
   "metadata": {},
   "outputs": [
    {
     "data": {
      "text/plain": [
       "(0.3333333333333333333333333333333333333333333333333333333333333333333333333333305, 0.3333333333333333333333333333333333333333333333333333333333333333333333333333348)"
      ]
     },
     "metadata": {},
     "output_type": "display_data"
    }
   ],
   "source": [
    "setrounding(BigFloat, RoundDown) do\n",
    "  big(1)/3\n",
    "end, setrounding(BigFloat, RoundUp) do\n",
    "  big(1)/3\n",
    "end"
   ]
  },
  {
   "cell_type": "markdown",
   "metadata": {},
   "source": [
    "We can also increase the precision, e.g., this finds bounds on `1/3` accurate to\n",
    "more than 1000 decimal places:"
   ]
  },
  {
   "cell_type": "code",
   "execution_count": 61,
   "metadata": {},
   "outputs": [
    {
     "data": {
      "text/plain": [
       "(0.333333333333333333333333333333333333333333333333333333333333333333333333333333333333333333333333333333333333333333333333333333333333333333333333333333333333333333333333333333333333333333333333333333333333333333333333333333333333333333333333333333333333333333333333333333333333333333333333333333333333333333333333333333333333333333333333333333333333333333333333333333333333333333333333333333333333333333333333333333333333333333333333333333333333333333333333333333333333333333333333333333333333333333333333333333333333333333333333333333333333333333333333333333333333333333333333333333333333333333333333333333333333333333333333333333333333333333333333333333333333333333333333333333333333333333333333333333333333333333333333333333333333333333333333333333333333333333333333333333333333333333333333333333333333333333333333333333333333333333333333333333333333333333333333333333333333333333333333333333333333333333333333333333333333333333333333333333333333333333333333333333333333333333333333333333333333333333333333333333333333333333333333333333333333333333333333333333333333333333333333333333333333333333333333333333333333333333333333333333333333333333333333333333333333333333333333333333333333333333333333333308, 0.333333333333333333333333333333333333333333333333333333333333333333333333333333333333333333333333333333333333333333333333333333333333333333333333333333333333333333333333333333333333333333333333333333333333333333333333333333333333333333333333333333333333333333333333333333333333333333333333333333333333333333333333333333333333333333333333333333333333333333333333333333333333333333333333333333333333333333333333333333333333333333333333333333333333333333333333333333333333333333333333333333333333333333333333333333333333333333333333333333333333333333333333333333333333333333333333333333333333333333333333333333333333333333333333333333333333333333333333333333333333333333333333333333333333333333333333333333333333333333333333333333333333333333333333333333333333333333333333333333333333333333333333333333333333333333333333333333333333333333333333333333333333333333333333333333333333333333333333333333333333333333333333333333333333333333333333333333333333333333333333333333333333333333333333333333333333333333333333333333333333333333333333333333333333333333333333333333333333333333333333333333333333333333333333333333333333333333333333333333333333333333333333333333333333333333333333333333333333333333333333333346)"
      ]
     },
     "metadata": {},
     "output_type": "display_data"
    }
   ],
   "source": [
    "setprecision(4_000) do # 4000 bit precision\n",
    "  setrounding(BigFloat, RoundDown) do\n",
    "    big(1)/3\n",
    "  end, setrounding(BigFloat, RoundUp) do\n",
    "    big(1)/3\n",
    "  end\n",
    "end"
   ]
  },
  {
   "cell_type": "markdown",
   "metadata": {},
   "source": [
    "**Problem 7** Inbuilt functions like `exp`, `sqrt`, etc. support `BigFloat`.\n",
    "Compute at least the first thousand decimal digits of `ℯ` using `setprecision`\n",
    "and the inbuilt `exp` function."
   ]
  },
  {
   "cell_type": "code",
   "execution_count": 62,
   "metadata": {},
   "outputs": [
    {
     "data": {
      "text/plain": [
       "true"
      ]
     },
     "metadata": {},
     "output_type": "display_data"
    }
   ],
   "source": [
    "# TODO: Use big and setprecision to compute the first thousand digits of ℯ.\n",
    "# SOLUTION\n",
    "x = setprecision(4_000) do\n",
    "    exp(big(1.0))\n",
    "end\n",
    "\n",
    "length(string(x)) == 1207 # we have 1205 digits\n",
    "\n",
    "# END"
   ]
  },
  {
   "cell_type": "markdown",
   "metadata": {},
   "source": [
    "---\n",
    "\n",
    "*This notebook was generated using [Literate.jl](https://github.com/fredrikekre/Literate.jl).*"
   ]
  }
 ],
 "metadata": {
  "kernelspec": {
   "display_name": "Julia 1.11.2",
   "language": "julia",
   "name": "julia-1.11"
  },
  "language_info": {
   "file_extension": ".jl",
   "mimetype": "application/julia",
   "name": "julia",
   "version": "1.11.2"
  }
 },
 "nbformat": 4,
 "nbformat_minor": 3
}
