{
 "cells": [
  {
   "cell_type": "markdown",
   "metadata": {},
   "source": [
    "# Computer-based exam likely in Secure Environment Workstation (SEW)\n",
    "# In Jupyter notebook but via VSCode.\n",
    "# Let me know thoughts at s.olver@imperial\n",
    "\n",
    "# MATH50003 (2023–24)\n",
    "# Lab 2: I.3 Dual Numbers and I.4 Newton's Method"
   ]
  },
  {
   "cell_type": "markdown",
   "metadata": {},
   "source": [
    "In this lab we explore an alternative approach to computing derivatives:\n",
    "using _dual numbers_. This is a special mathematical object akin to complex numbers\n",
    "that allows us to compute derivatives to very high accuracy in an automated fashion.\n",
    "This is a basic example of [automatic differentiation](https://en.wikipedia.org/wiki/Automatic_differentiation)\n",
    "that is extremely important in Machine Learning and other computational applications.\n",
    "To realise dual numbers on a computer we need to introduce the notation of a \"type\"\n",
    "and create a customised type to represent dual numbers, which is what we discuss first.\n",
    "As an application of computing derivatives we consider root finding via [Newton's method](https://en.wikipedia.org/wiki/Newton%27s_method)."
   ]
  },
  {
   "cell_type": "markdown",
   "metadata": {},
   "source": [
    "**Learning Outcomes**\n",
    "\n",
    "Mathematical knowledge:\n",
    "\n",
    "1. Definition of dual numbers and functions applied dual numbers.\n",
    "3. Newton's method for root finding.\n",
    "\n",
    "Coding knowledge:\n",
    "\n",
    "1. The notion of a type and how to make your own type.\n",
    "2. Defining functions whose arguments are restricted to specific types.\n",
    "3. Overloading functions like `+`, `*`, and `exp` for a custom type."
   ]
  },
  {
   "cell_type": "markdown",
   "metadata": {},
   "source": [
    "We load the `Test` and `Plots` packages to be used below.\n",
    "We also define the function `nanabs` which is useful for logarithmically scaled\n",
    "plots. For brevity we use a shorthand `cond ? expr1 : expr2` which just means\n",
    "```julia\n",
    "if cond\n",
    "    expr1\n",
    "else\n",
    "    expr2\n",
    "end\n",
    "```"
   ]
  },
  {
   "cell_type": "code",
   "execution_count": 1,
   "metadata": {},
   "outputs": [],
   "source": [
    "using Plots, Test\n",
    "nanabs(x) = x == 0 ? NaN : abs(x)\n",
    "default(;size=(250,150))"
   ]
  },
  {
   "cell_type": "markdown",
   "metadata": {},
   "source": [
    "## Types in Julia"
   ]
  },
  {
   "cell_type": "markdown",
   "metadata": {},
   "source": [
    "Before we can use a concept like dual numbers we have to understand the notion of a \"type\".\n",
    "In compiled languages like Julia everything has a \"type\". The function `typeof` can be used to determine the type of,\n",
    "for example, a number.\n",
    "By default when we write an integer (e.g. `-123`) it is of type `Int`:"
   ]
  },
  {
   "cell_type": "code",
   "execution_count": 3,
   "metadata": {},
   "outputs": [
    {
     "data": {
      "text/plain": [
       "Int64"
      ]
     },
     "execution_count": 3,
     "metadata": {},
     "output_type": "execute_result"
    }
   ],
   "source": [
    "# Our goal is to make a \"type\" to represent dual numbers. What's a type?\n",
    "\n",
    "typeof(5) # == Int64, a 64-bit representation of integers"
   ]
  },
  {
   "cell_type": "markdown",
   "metadata": {},
   "source": [
    "On a 64-bit machine this will print `Int64`, where the `64` indicates it is using precisely 64 bits\n",
    "to represent the number (a topic we will come back to in Part II). If we write something with\n",
    "a decimal point it represents a \"real\" number, whose storage is of type `Float64`:"
   ]
  },
  {
   "cell_type": "code",
   "execution_count": 6,
   "metadata": {},
   "outputs": [
    {
     "data": {
      "text/plain": [
       "Float64"
      ]
     },
     "execution_count": 6,
     "metadata": {},
     "output_type": "execute_result"
    }
   ],
   "source": [
    "typeof(5.3) # == Float64 which is a special type of real"
   ]
  },
  {
   "cell_type": "markdown",
   "metadata": {},
   "source": [
    "This is called a \"floating point\" number, and again the `64` indicates it is using precisely\n",
    "64 bits to represent this number. (We will see this is why computations like divided differences\n",
    "have large errors: because we are limiting the number of \"digits\" to represent numbers we need to\n",
    "round our computations.) Note that some operations involving `Int`s return `Float64`s:"
   ]
  },
  {
   "cell_type": "code",
   "execution_count": 9,
   "metadata": {},
   "outputs": [
    {
     "data": {
      "text/plain": [
       "true"
      ]
     },
     "execution_count": 9,
     "metadata": {},
     "output_type": "execute_result"
    }
   ],
   "source": [
    "Int == Int64"
   ]
  },
  {
   "cell_type": "code",
   "execution_count": 7,
   "metadata": {},
   "outputs": [
    {
     "data": {
      "text/plain": [
       "0.2"
      ]
     },
     "execution_count": 7,
     "metadata": {},
     "output_type": "execute_result"
    }
   ],
   "source": [
    "1/5 # takes to numbers of type Int and returns a Float"
   ]
  },
  {
   "cell_type": "markdown",
   "metadata": {},
   "source": [
    "It is possible to have functions behave differently depending on the input type.\n",
    "To do so we can add a restriction denoted `::Int` or `::Float64` to the function \"signature\".\n",
    "Here we create a function `foo` that is equal to `1` if the input is an `Int`, `0` if the input is\n",
    "a `Float64`, and `-1` otherwise:"
   ]
  },
  {
   "cell_type": "code",
   "execution_count": 13,
   "metadata": {},
   "outputs": [
    {
     "data": {
      "text/plain": [
       "(1, 0, 0, -1)"
      ]
     },
     "execution_count": 13,
     "metadata": {},
     "output_type": "execute_result"
    }
   ],
   "source": [
    "foo(x::Int) = 1 # call this if x is an Int\n",
    "foo(x::Float64) = 0\n",
    "foo(x) = -1\n",
    "\n",
    "foo(4), foo(2.3), foo(4.0), foo(\"hi\")"
   ]
  },
  {
   "cell_type": "markdown",
   "metadata": {},
   "source": [
    "The last line returns a list of `Int`s, which has the type `Tuple`.\n",
    "Note that there is a difference between the set concept of integer and the type `Int`: whilst `3.0` is an integer\n",
    "its type is `Float64` so `foo(3.0) == 0`."
   ]
  },
  {
   "cell_type": "markdown",
   "metadata": {},
   "source": [
    "**Remark** Every type has a \"supertype\", which is an \"abstract type\": something you can't make an instance of it.\n",
    "For example, in the same way that \"integers\"\n",
    "are subsets of the \"reals\" we have that `Int` and `Float64` are subtypes of\n",
    "`Real`. Which is a subtype of `Number`. Which, as is everything, a subtype of `Any`."
   ]
  },
  {
   "cell_type": "markdown",
   "metadata": {},
   "source": [
    "Types allow for combining multiple numbers (or instances of other types) to represent a more complicated\n",
    "object. A simple example of this is a complex number,\n",
    "which stores two real numbers $x$ and $y$ (either `Int` or `Float64` or indeed other real number types not yet discussed)\n",
    "to represent the complex number $x + {\\rm i} y$. In Julia ${\\rm i} = \\sqrt{-1}$ is denoted `im` and\n",
    "hence we can create a complex number like $1+2{\\rm i}$ as follows:"
   ]
  },
  {
   "cell_type": "code",
   "execution_count": 2,
   "metadata": {},
   "outputs": [
    {
     "data": {
      "text/plain": [
       "Complex{Int64}"
      ]
     },
     "execution_count": 2,
     "metadata": {},
     "output_type": "execute_result"
    }
   ],
   "source": [
    "z = 1+2im\n",
    "typeof(z)"
   ]
  },
  {
   "cell_type": "markdown",
   "metadata": {},
   "source": [
    "This complex number has two \"fields\": the real and imaginary part. Accessing the fields is done\n",
    "using a `.`, here we display the real and imaginary parts as a `Tuple`:"
   ]
  },
  {
   "cell_type": "code",
   "execution_count": 5,
   "metadata": {},
   "outputs": [
    {
     "data": {
      "text/plain": [
       "(1, 2)"
      ]
     },
     "execution_count": 5,
     "metadata": {},
     "output_type": "execute_result"
    }
   ],
   "source": [
    "z.re, z.im"
   ]
  },
  {
   "cell_type": "code",
   "execution_count": 20,
   "metadata": {},
   "outputs": [
    {
     "data": {
      "text/plain": [
       "-1.1312043837568135 + 2.4717266720048188im"
      ]
     },
     "execution_count": 20,
     "metadata": {},
     "output_type": "execute_result"
    }
   ],
   "source": [
    "exp(z)"
   ]
  },
  {
   "cell_type": "markdown",
   "metadata": {},
   "source": [
    "When we ask  its type we see it is a `Complex{Int}`:"
   ]
  },
  {
   "cell_type": "code",
   "execution_count": null,
   "metadata": {},
   "outputs": [],
   "source": [
    "#"
   ]
  },
  {
   "cell_type": "markdown",
   "metadata": {},
   "source": [
    "The `{Int}` indicates that each of the fields is an `Int`.\n",
    "Note we can add, subtract, multiply, or apply functions like `exp` to complex numbers:"
   ]
  },
  {
   "cell_type": "code",
   "execution_count": null,
   "metadata": {},
   "outputs": [],
   "source": [
    "#"
   ]
  },
  {
   "cell_type": "markdown",
   "metadata": {},
   "source": [
    "-----\n",
    "**Problem 1(a)** Use `typeof` to determine the type of `1.2 + 2.3im`."
   ]
  },
  {
   "cell_type": "code",
   "execution_count": null,
   "metadata": {},
   "outputs": [],
   "source": [
    "# TODO: What is the type of 1.2 + 2.3im?"
   ]
  },
  {
   "cell_type": "markdown",
   "metadata": {},
   "source": [
    "**Problem 1(b)** Add another implementation of `foo` that returns `im` if the input\n",
    "is a `ComplexF64`."
   ]
  },
  {
   "cell_type": "code",
   "execution_count": null,
   "metadata": {},
   "outputs": [],
   "source": [
    "# TODO: Overload foo for when the input is a ComplexF64 and return im\n",
    "\n",
    "\n",
    "@test foo(1.1 + 2im) == im"
   ]
  },
  {
   "cell_type": "markdown",
   "metadata": {},
   "source": [
    "------"
   ]
  },
  {
   "cell_type": "markdown",
   "metadata": {},
   "source": [
    "**Problem 2(a)** Consider the Taylor series approximation to the exponential:\n",
    "$$\n",
    "\\exp z ≈ ∑_{k=0}^n {z^k \\over k!}\n",
    "$$\n",
    "Complete the function `exp_t(z, n)` that computes this and returns a\n",
    "`Complex{Float64}` if the input is complex and a `Float64` if the input is real.\n",
    "Do not use the inbuilt `factorial` function.\n",
    "Hint: It might help to think inductively: for $s_k = z^k/k!$ we have\n",
    "$$\n",
    "  s_{k+1}  = {z \\over k+1} s_k.\n",
    "$$"
   ]
  },
  {
   "cell_type": "code",
   "execution_count": null,
   "metadata": {},
   "outputs": [],
   "source": [
    "function exp_t(z, n)\n",
    "    # TODO: Compute the first (n+1)-terms of the Taylor series of exp\n",
    "    # evaluated at z\n",
    "\n",
    "end\n",
    "\n",
    "@test exp_t(1.0, 10) isa Float64 # isa is used to test the type of a result\n",
    "@test exp_t(im, 10) isa ComplexF64 # isa is used to test the type of a result\n",
    "\n",
    "@test exp_t(1.0, 100) ≈ exp(1)"
   ]
  },
  {
   "cell_type": "markdown",
   "metadata": {},
   "source": [
    "**Problem 2(b)** Plot the error for `n = 1:1000` of `exp_t(z, n)` for `z = 1, im, -5`, and `-100`,\n",
    "scaling the y-axis logarithmically.\n",
    "Does the method appear to converge for all values of $z$?"
   ]
  },
  {
   "cell_type": "code",
   "execution_count": null,
   "metadata": {},
   "outputs": [],
   "source": [
    "# TODO: plot the error for the Taylor series approximation."
   ]
  },
  {
   "cell_type": "markdown",
   "metadata": {},
   "source": [
    "------"
   ]
  },
  {
   "cell_type": "markdown",
   "metadata": {},
   "source": [
    "One of the powerful features of Julia is that it's very easy to make our own types. Let's begin with a simple\n",
    "implementation of a rational function $p/q$ where $p$ and $q$ are `Int`s.  Thus we want to create a new\n",
    "type called `Rat` with two fields `p` and `q` to represent the numerator and denominator, respectively.\n",
    "(For simplicity  we won't worry about restricting $p$ and $q$ to be `Int`.)\n",
    "We can construct such a type using the `struct` keyword:"
   ]
  },
  {
   "cell_type": "code",
   "execution_count": 11,
   "metadata": {},
   "outputs": [
    {
     "data": {
      "text/plain": [
       "(3, 4)"
      ]
     },
     "execution_count": 11,
     "metadata": {},
     "output_type": "execute_result"
    }
   ],
   "source": [
    "# We want to make a type to represent p/q where p,q are Int\n",
    "\n",
    "struct Rat # we'll call rationals Rat \n",
    "    p # the name of the numerator\n",
    "    q # the name of the denominator\n",
    "end\n",
    "\n",
    "# How do I make a Rat representing 1/2? The first field is p, the second q\n",
    "\n",
    "x = Rat(3,4) # represents 3/4\n",
    "x.p, x.q"
   ]
  },
  {
   "cell_type": "markdown",
   "metadata": {},
   "source": [
    "A new instance of `Rat` is created via e.g. `Rat(1, 2)` represents `1/2`\n",
    "where the first argument specifies `p` and the second argument `q`.\n",
    "The fields are accessed by `.`:"
   ]
  },
  {
   "cell_type": "code",
   "execution_count": null,
   "metadata": {},
   "outputs": [],
   "source": [
    "#"
   ]
  },
  {
   "cell_type": "markdown",
   "metadata": {},
   "source": [
    "Unfortunately we can't actually do anything with this type, yet:"
   ]
  },
  {
   "cell_type": "code",
   "execution_count": 12,
   "metadata": {},
   "outputs": [
    {
     "ename": "LoadError",
     "evalue": "MethodError: no method matching +(::Rat, ::Rat)\nThe function `+` exists, but no method is defined for this combination of argument types.\n\n\u001b[0mClosest candidates are:\n\u001b[0m  +(::Any, ::Any, \u001b[91m::Any\u001b[39m, \u001b[91m::Any...\u001b[39m)\n\u001b[0m\u001b[90m   @\u001b[39m \u001b[90mBase\u001b[39m \u001b[90m\u001b[4moperators.jl:596\u001b[24m\u001b[39m\n\u001b[0m  +(\u001b[91m::Bool\u001b[39m, \u001b[91m::Complex{Bool}\u001b[39m)\n\u001b[0m\u001b[90m   @\u001b[39m \u001b[90mBase\u001b[39m \u001b[90m\u001b[4mcomplex.jl:308\u001b[24m\u001b[39m\n\u001b[0m  +(\u001b[91m::Bool\u001b[39m, \u001b[91m::Bool\u001b[39m)\n\u001b[0m\u001b[90m   @\u001b[39m \u001b[90mBase\u001b[39m \u001b[90m\u001b[4mbool.jl:166\u001b[24m\u001b[39m\n\u001b[0m  ...\n",
     "output_type": "error",
     "traceback": [
      "MethodError: no method matching +(::Rat, ::Rat)\nThe function `+` exists, but no method is defined for this combination of argument types.\n\n\u001b[0mClosest candidates are:\n\u001b[0m  +(::Any, ::Any, \u001b[91m::Any\u001b[39m, \u001b[91m::Any...\u001b[39m)\n\u001b[0m\u001b[90m   @\u001b[39m \u001b[90mBase\u001b[39m \u001b[90m\u001b[4moperators.jl:596\u001b[24m\u001b[39m\n\u001b[0m  +(\u001b[91m::Bool\u001b[39m, \u001b[91m::Complex{Bool}\u001b[39m)\n\u001b[0m\u001b[90m   @\u001b[39m \u001b[90mBase\u001b[39m \u001b[90m\u001b[4mcomplex.jl:308\u001b[24m\u001b[39m\n\u001b[0m  +(\u001b[91m::Bool\u001b[39m, \u001b[91m::Bool\u001b[39m)\n\u001b[0m\u001b[90m   @\u001b[39m \u001b[90mBase\u001b[39m \u001b[90m\u001b[4mbool.jl:166\u001b[24m\u001b[39m\n\u001b[0m  ...\n",
      "",
      "Stacktrace:",
      " [1] top-level scope",
      "   @ In[12]:1"
     ]
    }
   ],
   "source": [
    "x + x # errors since we haven't defined how to add Rats"
   ]
  },
  {
   "cell_type": "markdown",
   "metadata": {},
   "source": [
    "The error is telling us to overload the `+` function when the inputs are both `Rat`.\n",
    "To do this we need to \"import\" the `+` function and then we can overload it like any\n",
    "other function:"
   ]
  },
  {
   "cell_type": "code",
   "execution_count": 15,
   "metadata": {},
   "outputs": [
    {
     "data": {
      "text/plain": [
       "3"
      ]
     },
     "execution_count": 15,
     "metadata": {},
     "output_type": "execute_result"
    }
   ],
   "source": [
    "# note + is usually infix\n",
    "1 + 2\n",
    "# but can be prefix\n",
    "+(1, 2)"
   ]
  },
  {
   "cell_type": "code",
   "execution_count": 28,
   "metadata": {},
   "outputs": [
    {
     "data": {
      "text/plain": [
       "Rat(24, 16)"
      ]
     },
     "execution_count": 28,
     "metadata": {},
     "output_type": "execute_result"
    }
   ],
   "source": [
    "import Base: + # allows us to overload addition.\n",
    "# Don't forget! If you do, you'll probably have to reset the Kernel\n",
    "\n",
    "function +(x::Rat, y::Rat)\n",
    "    p,q = x.p,x.q # x = p/q\n",
    "    r,s = y.p,y.q # y = r/s\n",
    "    Rat(p * s + q*r, q*s) # we won't reduce lcd for now\n",
    "end\n",
    "\n",
    "x = Rat(3,4)\n",
    "x + x"
   ]
  },
  {
   "cell_type": "markdown",
   "metadata": {},
   "source": [
    "We can support mixing `Rat` and `Int` by adding additional functionality:"
   ]
  },
  {
   "cell_type": "code",
   "execution_count": 29,
   "metadata": {},
   "outputs": [
    {
     "data": {
      "text/plain": [
       "Rat(7, 4)"
      ]
     },
     "execution_count": 29,
     "metadata": {},
     "output_type": "execute_result"
    }
   ],
   "source": [
    "Rat(x::Int) = Rat(x,1) # allows making a Rat from an Int\n",
    "function +(x::Rat, y::Int)\n",
    "    x + Rat(y)\n",
    "end\n",
    "\n",
    "x + 1"
   ]
  },
  {
   "cell_type": "markdown",
   "metadata": {},
   "source": [
    "-----"
   ]
  },
  {
   "cell_type": "markdown",
   "metadata": {},
   "source": [
    "**Problem 3** Support `*`, `-`, `/`, and `==` for `Rat` and `Int`."
   ]
  },
  {
   "cell_type": "code",
   "execution_count": null,
   "metadata": {},
   "outputs": [],
   "source": [
    "# We import `+`, `-`, `*`, `/` so we can \"overload\" these operations\n",
    "# specifically for `Rat`.\n",
    "import Base: +, -, *, /, ==\n",
    "\n",
    "# The ::Rat means the following version of `==` is only called if both\n",
    "# arguments are Rat.\n",
    "function ==(x::Rat, y::Rat)\n",
    "    # TODO: implement equality, making sure to check the case where\n",
    "    # the numerator/denominator are possibly reducible\n",
    "    # Hint: gcd and div may be useful. Use ? to find out what they do\n",
    "\n",
    "\n",
    "end\n",
    "\n",
    "# We can also support equality when `x isa Rat` and `y isa Int`\n",
    "function ==(x::Rat, y::Int)\n",
    "    # TODO: implement\n",
    "\n",
    "end\n",
    "\n",
    "# TODO: implement ==(x::Int, y::Rat)\n",
    "\n",
    "\n",
    "@test Rat(1, 2) == Rat(2, 4)\n",
    "@test Rat(1, 2) ≠ Rat(1, 3)\n",
    "@test Rat(2,2) == 1\n",
    "@test 1 == Rat(2,2)\n",
    "\n",
    "# TODO: implement +, -, *, and /,\n",
    "\n",
    "\n",
    "@test Rat(1, 2) + Rat(1, 3) == Rat(5, 6)\n",
    "@test Rat(1, 3) - Rat(1, 2) == Rat(-1, 6)\n",
    "@test Rat(2, 3) * Rat(3, 4) == Rat(1, 2)\n",
    "@test Rat(2, 3) / Rat(3, 4) == Rat(8, 9)"
   ]
  },
  {
   "cell_type": "markdown",
   "metadata": {},
   "source": [
    "------"
   ]
  },
  {
   "cell_type": "markdown",
   "metadata": {},
   "source": [
    "## I.3 Dual Numbers\n",
    "\n",
    "We now consider implementing a type `Dual` to represent the dual number $a + bϵ$,\n",
    "in a way similar to `Complex` or `Rat`. For simplicity we don't restrict the types of `a` and `b`\n",
    "but for us they will usually be `Float64`. We create this type very similar to `Rat` above:"
   ]
  },
  {
   "cell_type": "code",
   "execution_count": 30,
   "metadata": {},
   "outputs": [
    {
     "data": {
      "text/plain": [
       "Dual(1, 2)"
      ]
     },
     "execution_count": 30,
     "metadata": {},
     "output_type": "execute_result"
    }
   ],
   "source": [
    "# Make a type to represent dual number a + bϵ\n",
    "struct Dual\n",
    "    a\n",
    "    b\n",
    "end\n",
    "\n",
    "Dual(1,2) # represents 1 + 2ϵ"
   ]
  },
  {
   "cell_type": "markdown",
   "metadata": {},
   "source": [
    "We can easily support addition of dual numbers as in `Rat` using the formula\n",
    "$$\n",
    "(a+bϵ) + (c+dϵ) = (a+c) + (b+d)ϵ\n",
    "$$"
   ]
  },
  {
   "cell_type": "code",
   "execution_count": 40,
   "metadata": {},
   "outputs": [
    {
     "data": {
      "text/plain": [
       "Dual(4, 6)"
      ]
     },
     "execution_count": 40,
     "metadata": {},
     "output_type": "execute_result"
    }
   ],
   "source": [
    "import Base: + # just in case I forgot to\n",
    "function +(x::Dual, y::Dual)\n",
    "    a,b = x.a, x.b # x = a+bϵ\n",
    "    c,d = y.a, y.b # y = c+dϵ\n",
    "    Dual(a+c, b+d)\n",
    "end\n",
    "\n",
    "x = Dual(1,2)\n",
    "y = Dual(3,4)\n",
    "\n",
    "x+y"
   ]
  },
  {
   "cell_type": "markdown",
   "metadata": {},
   "source": [
    "For multiplication we used the fact that $ϵ^2 = 0$ to derive the formula\n",
    "$$\n",
    "(a+bϵ)*(c+dϵ) = ac +(bc+ad)ϵ.\n",
    "$$\n",
    "Here we support this operation by overloading `*` when the inputs are both\n",
    "`Dual`:"
   ]
  },
  {
   "cell_type": "code",
   "execution_count": 39,
   "metadata": {},
   "outputs": [
    {
     "data": {
      "text/plain": [
       "Dual(6, 20)"
      ]
     },
     "execution_count": 39,
     "metadata": {},
     "output_type": "execute_result"
    }
   ],
   "source": [
    "import Base: *\n",
    "function *(x::Dual, y::Dual)\n",
    "    a,b = x.a, x.b # x = a+bϵ\n",
    "    c,d = y.a, y.b # y = c+dϵ\n",
    "    Dual(a*c, b*c+a*d)\n",
    "end\n",
    "\n",
    "x = Dual(1,2)\n",
    "y = Dual(3,4)\n",
    "x*y + x"
   ]
  },
  {
   "cell_type": "markdown",
   "metadata": {},
   "source": [
    "### I.3.1 Differentiating polynomials"
   ]
  },
  {
   "cell_type": "markdown",
   "metadata": {},
   "source": [
    "Dual numbers allow us to differentiate functions provided they are composed of\n",
    "operations overloaded for `Dual`. In particular, we have that\n",
    "$$\n",
    "f(x + b ϵ) = f(x) + bf'(x)ϵ\n",
    "$$\n",
    "and thus if we set `b = 1` the \"dual part\" is equal to the derivative.\n",
    "We can use this fact to differentiate simple polynomials that only use `+`\n",
    "and `*`:"
   ]
  },
  {
   "cell_type": "code",
   "execution_count": 42,
   "metadata": {},
   "outputs": [
    {
     "data": {
      "text/plain": [
       "Dual(10, 13)"
      ]
     },
     "execution_count": 42,
     "metadata": {},
     "output_type": "execute_result"
    }
   ],
   "source": [
    "f = x -> x*x*x + x # a simple polynomial with * and + \n",
    "f(Dual(2,1))"
   ]
  },
  {
   "cell_type": "code",
   "execution_count": 44,
   "metadata": {},
   "outputs": [
    {
     "data": {
      "text/plain": [
       "(10, 13.000600010020236)"
      ]
     },
     "execution_count": 44,
     "metadata": {},
     "output_type": "execute_result"
    }
   ],
   "source": [
    "# lets do a sanity check by comparing with divided difference\n",
    "h = 0.0001\n",
    "f(2), (f(2+h)-f(2))/h"
   ]
  },
  {
   "cell_type": "markdown",
   "metadata": {},
   "source": [
    "A polynomial like `x^3 + 1` is not yet supported.\n",
    "To support this we need to add addition of `Dual` with `Int` or `Float64`.\n",
    "Note that both of these are \"subtypes\" of `Real` and so restricting on `Real`\n",
    "will support both at the same time.\n",
    "We can overload the appropriate functions as follows:"
   ]
  },
  {
   "cell_type": "code",
   "execution_count": null,
   "metadata": {},
   "outputs": [],
   "source": [
    "#"
   ]
  },
  {
   "cell_type": "markdown",
   "metadata": {},
   "source": [
    "### I.3.2 Differentiating functions"
   ]
  },
  {
   "cell_type": "markdown",
   "metadata": {},
   "source": [
    "We can also overload functions like `exp` so that they satisfy the rules of\n",
    "a _dual extension_, that is, are consistent with the formula $f(a+bϵ) = f(a) + bf'(a)ϵ$\n",
    "as follows:"
   ]
  },
  {
   "cell_type": "code",
   "execution_count": 52,
   "metadata": {},
   "outputs": [
    {
     "data": {
      "text/plain": [
       "Dual(11.526720489671677, -16.92740854961867)"
      ]
     },
     "execution_count": 52,
     "metadata": {},
     "output_type": "execute_result"
    }
   ],
   "source": [
    "# We want to introduce the notion of \"dual extension\" where we support\n",
    "# differentiable functions on duals. \n",
    "# We do this by implementing basic building blocks like exp,\n",
    "# then any function that is built from these will be differentiable\n",
    "\n",
    "import Base: exp # allow overloading of exp\n",
    "function exp(x::Dual)\n",
    "    a,b = x.a,x.b\n",
    "    Dual(exp(a), b*exp(a)) # represents f(a) + b*f'(a)*ϵ\n",
    "end\n",
    "\n",
    "f = x -> exp(x*x + exp(exp(x)))\n",
    "f(Dual(-1,1))"
   ]
  },
  {
   "cell_type": "code",
   "execution_count": 54,
   "metadata": {},
   "outputs": [
    {
     "data": {
      "text/plain": [
       "(11.526720489671677, -16.92459423685122)"
      ]
     },
     "execution_count": 54,
     "metadata": {},
     "output_type": "execute_result"
    }
   ],
   "source": [
    "# sanity check\n",
    "f(-1), (f(-1+h) - f(-1))/h"
   ]
  },
  {
   "cell_type": "markdown",
   "metadata": {},
   "source": [
    "We can use this to differentiate a function that composes these basic operations:"
   ]
  },
  {
   "cell_type": "code",
   "execution_count": null,
   "metadata": {},
   "outputs": [],
   "source": [
    "# "
   ]
  },
  {
   "cell_type": "markdown",
   "metadata": {},
   "source": [
    "What makes dual numbers so effective is that, unlike divided differences, they are not\n",
    "prone to disasterous growth due to round-off errors: the above approximation\n",
    "matches the true answer to roughly 16 digits of accuracy."
   ]
  },
  {
   "cell_type": "markdown",
   "metadata": {},
   "source": [
    "------"
   ]
  },
  {
   "cell_type": "markdown",
   "metadata": {},
   "source": [
    "**Problem 4(a)** Add support for `-`, `cos`, `sin`, and `/` to the type `Dual`\n",
    "by replacing the `# TODO`s in the below code."
   ]
  },
  {
   "cell_type": "code",
   "execution_count": null,
   "metadata": {},
   "outputs": [],
   "source": [
    "import Base: -, cos, sin, /\n",
    "\n",
    "# The following supports negation -(a+bϵ)\n",
    "-(x::Dual) = Dual(-x.a, -x.b)\n",
    "\n",
    "# TODO: implement -(::Dual, ::Dual)\n",
    "\n",
    "\n",
    "\n",
    "function cos(x::Dual)\n",
    "    # TODO: implement cos for Duals\n",
    "\n",
    "end\n",
    "\n",
    "function sin(x::Dual)\n",
    "    # TODO: implement sin for Duals\n",
    "\n",
    "end\n",
    "\n",
    "function /(x::Dual, y::Dual)\n",
    "    # TODO: implement division for Duals.\n",
    "    # Hint: think of this as x * (1/y)\n",
    "\n",
    "end\n",
    "\n",
    "x = 0.1\n",
    "ϵ = Dual(0,1)\n",
    "@test cos(sin(x+ϵ)/(x+ϵ)).b ≈ -((cos(x)/x - sin(x)/x^2)sin(sin(x)/x))"
   ]
  },
  {
   "cell_type": "markdown",
   "metadata": {},
   "source": [
    "**Problem 4(b)** Use dual numbers to compute the derivatives to\n",
    "1. $\\exp(\\exp x \\cos x + \\sin x)$\n",
    "2. $∏_{k=1}^{1000} \\left({x \\over k}-1\\right)$\n",
    "3. $f^{\\rm s}_{1000}(x)$ where, as in Lab 1 Problem 3(d), $f^{\\rm s}_n(x)$ corresponds to $n$-terms of the following continued fraction:\n",
    "$$\n",
    "1 + {x-1 \\over 2 + {x-1 \\over 2 + {x-1 \\over 2 + ⋱}}}.\n",
    "$$\n",
    "at the point $x = 0.1$. Compare with divided differences to give evidence that your implementation is correct."
   ]
  },
  {
   "cell_type": "code",
   "execution_count": null,
   "metadata": {},
   "outputs": [],
   "source": [
    "# TODO: Use dual numbers to compute the derivatives of the 3 functions above."
   ]
  },
  {
   "cell_type": "markdown",
   "metadata": {},
   "source": [
    "------\n",
    "## I.4 Newton's method"
   ]
  },
  {
   "cell_type": "markdown",
   "metadata": {},
   "source": [
    "Newton's method is a simple algorithmic approach that you may have seen before in school for computing roots (or zeros)\n",
    "of functions. The basic idea is given an initial guess $x_0$,\n",
    "find the first-order Taylor approximation $p(x)$ (i.e., find the line that matches the slope of the function at the point)\n",
    "$$\n",
    "f(x) ≈ \\underbrace{f(x_0) + f'(x_0) (x- x_0)}_{p(x)}.\n",
    "$$\n",
    "We can then solve the root finding problem for $p(x)$ exactly:\n",
    "$$\n",
    "p(x) = 0 ⇔ x = x_0 - {f(x_0) \\over f'(x_0)}\n",
    "$$\n",
    "We take this root of $p(x)$ as the new initial guess and repeat. In other words, we have a simple sequence\n",
    "defined by\n",
    "$$\n",
    "x_{k+1} = x_k - {f(x_k) \\over f'(x_k)}\n",
    "$$\n",
    "If the initial guess is \"close enough\" to a root $r$ of $f$ (ie $f(r) = 0$)\n",
    "then it is known that $x_k → r$. Thus for large $N$ we have $x_N ≈ r$. Note the notion of \"close enough\"\n",
    "is a complicated and rich theory beyond the scope of this module, and connects to the theory of [Mandelbrot sets](https://en.wikipedia.org/wiki/Mandelbrot_set)."
   ]
  },
  {
   "cell_type": "markdown",
   "metadata": {},
   "source": [
    "Dual numbers as implemented by `Dual` gives us a powerful tool to compute derivatives and get a simple implementation\n",
    "of Newton's method working:"
   ]
  },
  {
   "cell_type": "code",
   "execution_count": null,
   "metadata": {},
   "outputs": [],
   "source": [
    "#"
   ]
  },
  {
   "cell_type": "markdown",
   "metadata": {},
   "source": [
    "We can test that we have indeed found a root:"
   ]
  },
  {
   "cell_type": "code",
   "execution_count": null,
   "metadata": {},
   "outputs": [],
   "source": [
    "f(r)"
   ]
  },
  {
   "cell_type": "markdown",
   "metadata": {},
   "source": [
    "-----"
   ]
  },
  {
   "cell_type": "markdown",
   "metadata": {},
   "source": [
    "**Problem 5(a)** For $f(x) = x^5 + x^2 + 1$, plot the error of $x_k$ for `k = 1:15` where the\n",
    "y-axis is scaled logarithmically and chosen $x_0 = 0.1$ You may\n",
    "use the computed `r` as the \"exact\" root. What do you think the convergence rate is?"
   ]
  },
  {
   "cell_type": "code",
   "execution_count": null,
   "metadata": {},
   "outputs": [],
   "source": [
    "# TODO: compute and plot the error of `newton(f, 0.1, k)` for `k = 1:15`"
   ]
  },
  {
   "cell_type": "markdown",
   "metadata": {},
   "source": [
    "**Problem 5(b)** Use `newton` with a complex number to compute\n",
    "an approximation to a complex root of $f(x) = x^5 - x^2 + 1$.\n",
    "Verify the approximation is accurate by testing that it satisfies $f(r)$\n",
    "is approximately zero."
   ]
  },
  {
   "cell_type": "code",
   "execution_count": null,
   "metadata": {},
   "outputs": [],
   "source": [
    "# TODO: By making the initial guess complex find a complex root."
   ]
  },
  {
   "cell_type": "markdown",
   "metadata": {},
   "source": [
    "**Problem 5(c)** By changing the initial guesses compute 5 roots to\n",
    "$\\sin x - 1/x$. Hint: you may need to add an overload for `/(x::Real, y::Dual)`."
   ]
  },
  {
   "cell_type": "code",
   "execution_count": null,
   "metadata": {},
   "outputs": [],
   "source": [
    "# TODO: Use newton to compute roots of sin(x) - 1/x."
   ]
  },
  {
   "cell_type": "markdown",
   "metadata": {},
   "source": [
    "---\n",
    "\n",
    "*This notebook was generated using [Literate.jl](https://github.com/fredrikekre/Literate.jl).*"
   ]
  }
 ],
 "metadata": {
  "kernelspec": {
   "display_name": "Julia 1.11.2",
   "language": "julia",
   "name": "julia-1.11"
  },
  "language_info": {
   "file_extension": ".jl",
   "mimetype": "application/julia",
   "name": "julia",
   "version": "1.11.2"
  }
 },
 "nbformat": 4,
 "nbformat_minor": 4
}
